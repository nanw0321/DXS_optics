{
 "cells": [
  {
   "cell_type": "code",
   "execution_count": 1,
   "metadata": {},
   "outputs": [],
   "source": [
    "from Functions import *\n",
    "import winsound"
   ]
  },
  {
   "cell_type": "code",
   "execution_count": 2,
   "metadata": {},
   "outputs": [],
   "source": [
    "''' Beam parameters '''\n",
    "N = 1024\t\t\t# number of sampling points\n",
    "E0 = 17795\t\t\t# photon energy [eV]\n",
    "tau = 400\t\t\t# pulse duration [fs]\n",
    "window = 50000\t\t# total simulation time window [fs]\n",
    "\n",
    "# parameter dictionary. z_source is in LCLS coordinates (20 meters upstream of undulator exit)\n",
    "beam_params = {\n",
    "\t'photonEnergy': E0,\n",
    "\t'N': N,\n",
    "\t'sigma_x': 23e-6,\n",
    "\t'sigma_y': 23e-6,\n",
    "\t'rangeFactor': 5,\n",
    "\t'scaleFactor': 10,\n",
    "\t'z_source': 650-26\n",
    "}"
   ]
  },
  {
   "cell_type": "code",
   "execution_count": 3,
   "metadata": {},
   "outputs": [
    {
     "name": "stdout",
     "output_type": "stream",
     "text": [
      "path exists\n",
      "path exists\n",
      "path exists\n",
      "\n",
      "CWD: output/17795eV/beam_profiles/\n"
     ]
    }
   ],
   "source": [
    "##### I/O\n",
    "dir_out = 'output/'; make_dir(dir_out)\n",
    "dir_ev = dir_out + '{}eV/'.format(E0); make_dir(dir_ev)\n",
    "dir_case = dir_ev + 'beam_profiles/'; make_dir(dir_case)\n",
    "\n",
    "print('\\nCWD:',dir_case)"
   ]
  },
  {
   "cell_type": "code",
   "execution_count": 4,
   "metadata": {},
   "outputs": [],
   "source": [
    "def define_beamline(\n",
    "    E0, m1_p=185.0, m2_p=175.5,\n",
    "    HHLM_type='2DCM', HHLM_offset=20e-3, pair_distance=200e-3,\n",
    "    slit_width=3e-6, f1=10.0, f2=10.0,\n",
    "    hkl1 = [1,1,1], alphaAsym1 = 0.0,\n",
    "    hkl2 = [2,2,0], alphaAsym2 = 0.0,\n",
    "    hkl3 = [5,5,5], alphaAsym3 = 15.0,\n",
    "    shapeErrors=[None for i in range(6)],\n",
    "    l_crystal=[1e-1 for i in range(6)],\n",
    "    w_crystal = [5e-3 for i in range(6)]):\n",
    "    \n",
    "    z_s = 650\n",
    "\n",
    "    # viewing point - upstream of monochromator\n",
    "    im_input = optics.PPM('im_input', z=184+z_s, FOV=5e-3, N=512)\n",
    "    \n",
    "    Telescope_devices = define_Telescope(E0, m1_p=m1_p, m1_q=25.6, m2_p=m2_p)\n",
    "    \n",
    "    if HHLM_type == '2DCM':\n",
    "        HHLM_devices = define_HHLM_2DCM(E0,\n",
    "                                    HHLM_offset=HHLM_offset,\n",
    "                                    pair_distance=pair_distance,\n",
    "                                    hkl1=hkl1, alphaAsym1=alphaAsym1,\n",
    "                                    hkl2=hkl2, alphaAsym2=alphaAsym2,\n",
    "                                    shapeErrors=shapeErrors,\n",
    "                                    l_crystal=l_crystal,\n",
    "                                    w_crystal = w_crystal)\n",
    "    elif HHLM_type == 'Zigzag':\n",
    "        HHLM_devices = define_HHLM_Zigzag(E0,\n",
    "                                    HHLM_offset=HHLM_offset,\n",
    "                                    pair_distance=pair_distance,\n",
    "                                    hkl1=hkl1, alphaAsym1=alphaAsym1,\n",
    "                                    hkl2=hkl2, alphaAsym2=alphaAsym2,\n",
    "                                    shapeErrors=shapeErrors,\n",
    "                                    l_crystal=l_crystal,\n",
    "                                    w_crystal = w_crystal)\n",
    "    \n",
    "    HRM_devices = define_HRM(E0, f1=f1, f2=f2, slit_width=slit_width,\n",
    "                            hkl=hkl3, alphaAsym=alphaAsym3,\n",
    "                            shapeErrors=shapeErrors,\n",
    "                            l_crystal=l_crystal,\n",
    "                            w_crystal=w_crystal)\n",
    "\n",
    "    all_devices = [im_input] + Telescope_devices + HHLM_devices + HRM_devices\n",
    "    \n",
    "    mono_beamline = beamline.Beamline(all_devices, ordered=True)\n",
    "    return all_devices, mono_beamline\n"
   ]
  },
  {
   "cell_type": "markdown",
   "metadata": {},
   "source": [
    "### Setup beamline and calculate beam profiles at each optics to determine the crystal profiles"
   ]
  },
  {
   "cell_type": "code",
   "execution_count": 5,
   "metadata": {},
   "outputs": [
    {
     "name": "stdout",
     "output_type": "stream",
     "text": [
      "b 0.36\n",
      "b 2.76\n",
      "b 1.00\n",
      "b 1.00\n",
      "b 1.00\n",
      "b 2.34\n",
      "slit width: 100000.0 um\n",
      "b 0.43\n",
      "b 1.00\n",
      "path exists\n",
      "path exists\n"
     ]
    }
   ],
   "source": [
    "##### perfect case\n",
    "m1_p = 185.0; m2_p = 141.064\n",
    "slit_width = 1e-1\n",
    "if_close = 1\n",
    "f1 = 10.0; f2 = 10.0            # f1: crystal-mirror distance, f2: mirror focal distance\n",
    "\n",
    "HHLM_type = '2DCM'              # 2DCM or Zigzag\n",
    "HHLM_offset=20e-3\n",
    "pair_distance=200e-3\n",
    "hkl1 = [1,1,1]; alphaAsym1 = 3.0    # asymmetry angle for the 1st pair of HHLM crystal\n",
    "hkl2 = [2,2,0]; alphaAsym2 = 0.0    # ````````````````````````2nd pair of HHLM crystal\n",
    "hkl3 = [5,5,5]; alphaAsym3 = 15.0   # ````````````````````````2nd and 3rd HRM crystal\n",
    "\n",
    "shapeErrors = [None for i in range(6)]\n",
    "l_crystal = [1e-1 for i in range(6)]\n",
    "w_crystal = [5e-3 for i in range(6)]\n",
    "\n",
    "mono_devices, mono_beamline = define_beamline(E0,\n",
    "                               m1_p=m1_p, m2_p=m2_p, HHLM_type=HHLM_type,\n",
    "                               HHLM_offset=HHLM_offset,\n",
    "                               pair_distance=pair_distance,\n",
    "                               slit_width=slit_width, f1=f1, f2=f2,\n",
    "                               hkl1=hkl1, alphaAsym1=alphaAsym1,\n",
    "                               hkl2=hkl2, alphaAsym2=alphaAsym2,\n",
    "                               hkl3=hkl3, alphaAsym3=alphaAsym3,\n",
    "                               shapeErrors=shapeErrors,\n",
    "                               l_crystal=l_crystal,\n",
    "                               w_crystal=w_crystal)\n",
    "\n",
    "dir_plot = dir_case+'{}_{}_{}/'.format(HHLM_type, hkl1[0]*100+hkl1[1]*10+hkl1[2],\n",
    "                                      hkl2[0]*100+hkl2[1]*10+hkl2[2]); make_dir(dir_plot)\n",
    "dir_plot += '{}_{}_deg_{}mm_offset/'.format(alphaAsym1, alphaAsym2, 1e3*HHLM_offset); make_dir(dir_plot)\n"
   ]
  },
  {
   "cell_type": "code",
   "execution_count": 6,
   "metadata": {},
   "outputs": [
    {
     "name": "stdout",
     "output_type": "stream",
     "text": [
      "M1\n",
      "  x:0.0, y:0.0, z:835\n",
      "\n",
      "M2\n",
      "  x:0.6095057070157908, y:0.0, z:950\n",
      "\n",
      "HHLM1\n",
      "  x:0.6095057070157908, y:0.0, z:955\n",
      "\n",
      "HHLM2\n",
      "  x:0.6295039352418128, y:0.0, z:955.0883075064747\n",
      "\n",
      "HHLM3\n",
      "  x:0.6295021187169956, y:0.0, z:955.2883075064748\n",
      "\n",
      "HHLM4\n",
      "  x:0.6095015738123618, y:0.0, z:955.3406611349135\n",
      "\n",
      "C1\n",
      "  x:0.6094592547889592, y:0.0, z:960\n",
      "\n",
      "C2\n",
      "  x:0.7301359520145724, y:0.0, z:960.05\n",
      "\n",
      "mir1\n",
      "  x:0.7297298373485532, y:0.0, z:970.05\n",
      "\n",
      "Slit\n",
      "  x:0.8013249459333788, y:0.0, z:980.05\n",
      "\n",
      "mir2\n",
      "  x:0.8729200545182043, y:0.0, z:990.05\n",
      "\n",
      "C3\n",
      "  x:0.8725139398521852, y:0.0, z:1000.05\n",
      "\n",
      "C4\n",
      "  x:0.6078117952610362, y:0.0, z:1000.1596622976115\n",
      "\n",
      "beam_offset: 19.998228226022043mm\n",
      "distance factor for 20mm: 1.0000885965475508\n"
     ]
    }
   ],
   "source": [
    "beam_offsets = []\n",
    "for device in mono_devices:\n",
    "    if not device.name.startswith('im_'):\n",
    "        print(device.name)\n",
    "        print('  x:{}, y:{}, z:{}\\n'.format(device.global_x, device.global_y, device.z))\n",
    "    if device.name == 'HHLM1':\n",
    "        beam_offsets.append(device.global_x)\n",
    "    if device.name == 'HHLM2':\n",
    "        beam_offsets.append(device.global_x)\n",
    "\n",
    "beam_offset = (beam_offsets[-1]-beam_offsets[0])*1e3\n",
    "print('beam_offset: {}mm'.format(beam_offset, 2))\n",
    "print('distance factor for 20mm: {}'.format(20/beam_offset))"
   ]
  },
  {
   "cell_type": "code",
   "execution_count": 7,
   "metadata": {},
   "outputs": [],
   "source": [
    "%%capture capt\n",
    "# list of crystals\n",
    "crystals = np.array(['HHLM1', 'HHLM2', 'HHLM3', 'HHLM4', 'C1', 'C2']); n_crys = len(crystals)\n",
    "\n",
    "b1 = beam.Beam(beam_params=beam_params)\n",
    "b2 = mono_beamline.propagate_beamline(b1)\n",
    "\n",
    "\n",
    "wx1, wy1 = mono_beamline.im_after_HHLM1.beam_analysis(mono_beamline.im_after_HHLM1.get_profile_x(), mono_beamline.im_after_HHLM1.get_profile_y())[2:4]\n",
    "wx2, wy2 = mono_beamline.im_after_HHLM2.beam_analysis(mono_beamline.im_after_HHLM2.get_profile_x(), mono_beamline.im_after_HHLM2.get_profile_y())[2:4]\n",
    "wx3, wy3 = mono_beamline.im_after_HHLM3.beam_analysis(mono_beamline.im_after_HHLM3.get_profile_x(), mono_beamline.im_after_HHLM3.get_profile_y())[2:4]\n",
    "wx4, wy4 = mono_beamline.im_after_HHLM4.beam_analysis(mono_beamline.im_after_HHLM4.get_profile_x(), mono_beamline.im_after_HHLM4.get_profile_y())[2:4]\n",
    "wx5, wy5 = mono_beamline.im_after_C1.beam_analysis(mono_beamline.im_after_C1.get_profile_x(), mono_beamline.im_after_C1.get_profile_y())[2:4]\n",
    "wx6, wy6 = mono_beamline.im_after_C2.beam_analysis(mono_beamline.im_after_C2.get_profile_x(), mono_beamline.im_after_C2.get_profile_y())[2:4]\n",
    "\n",
    "beta0s = []\n",
    "for device in mono_devices:\n",
    "    if device.name in crystals:\n",
    "        beta0s.append(device.beta0)\n",
    "\n",
    "# crystal lengths (long) and widths (short) [m]\n",
    "beam_size = np.array([wx1, wx2, wx3, wx4, wx5, wx6])    # FWHM\n",
    "l_crystal = np.divide(beam_size*2, np.sin(beta0s))\n",
    "w_crystal = np.array([wy1, wy2, wy3, wy4, wy5, wy6])*2\n"
   ]
  },
  {
   "cell_type": "code",
   "execution_count": 8,
   "metadata": {},
   "outputs": [
    {
     "name": "stdout",
     "output_type": "stream",
     "text": [
      "beam size[mm]: [3.60889423 1.30593038 1.30592781 1.30592709 1.3058511  0.55829873]\n",
      "bragg angle [ 6.381  6.38  10.454 10.454 33.747 33.747]\n",
      "asymmetry [-3.0000000000000004, 3.0000000000000004, -0.0, 0.0, 0.0, 14.999999999999998]\n",
      "footprint [mm] [22.14418197 22.14397739  7.19742553  7.19742158  2.35062902  1.73693578]\n"
     ]
    }
   ],
   "source": [
    "##### calculate crystal properties to calculate beam power\n",
    "braggs = []\n",
    "asyms = []\n",
    "\n",
    "for device in mono_devices:\n",
    "    if device.name in crystals:\n",
    "        braggs.append(np.rad2deg(device.bragg))\n",
    "        asyms.append(np.rad2deg(device.alphaAsym))\n",
    "print('beam size[mm]: {}'.format(beam_size*1e3))\n",
    "print('bragg angle', np.round(braggs,3))\n",
    "print('asymmetry', asyms)\n",
    "print('footprint [mm]',l_crystal*1e3/2)"
   ]
  },
  {
   "cell_type": "markdown",
   "metadata": {},
   "source": [
    "### Calculate slit width"
   ]
  },
  {
   "cell_type": "code",
   "execution_count": 9,
   "metadata": {},
   "outputs": [],
   "source": [
    "%%capture capt\n",
    "mono_devices, mono_beamline = define_beamline(E0,\n",
    "                               m1_p=m1_p, m2_p=m2_p, HHLM_type=HHLM_type,\n",
    "                               slit_width=slit_width, f1=f1, f2=f2,\n",
    "                               hkl1=hkl1, alphaAsym1=alphaAsym1,\n",
    "                               hkl2=hkl2, alphaAsym2=alphaAsym2,\n",
    "                               hkl3=hkl3, alphaAsym3=alphaAsym3,\n",
    "                               shapeErrors=[None for i in range(6)],\n",
    "                               l_crystal=l_crystal,\n",
    "                               w_crystal=w_crystal)\n",
    "\n",
    "''' propagate '''\n",
    "beam_params['photonEnergy'] = E0\n",
    "b1 = beam.Beam(beam_params=beam_params)\n",
    "b2 = mono_beamline.propagate_beamline(b1)\n"
   ]
  },
  {
   "cell_type": "code",
   "execution_count": 10,
   "metadata": {},
   "outputs": [
    {
     "name": "stdout",
     "output_type": "stream",
     "text": [
      "calculated slit width: 0.58um\n",
      "actual slit width: 3.0um\n",
      "\n"
     ]
    }
   ],
   "source": [
    "def calc_slit_width(inbeam, lmbd, foc):\n",
    "    # inbeam is the beamsize (2x FWHM) after Crystal 2\n",
    "    # lmbd is wavelength of photon\n",
    "    # asym is asymmetry angle of Crystal 2\n",
    "    # foc is Mir1/Lens1 focal distance\n",
    "    # returns mono focus size in [m] at the Fourier plane\n",
    "    slt = 2*np.log(2)*lmbd*foc/np.pi/inbeam\n",
    "    return 2.11 * slt    # 2x FWHM with some error (~factor of 5%)\n",
    "\n",
    "wx = mono_beamline.im_after_C2.beam_analysis(mono_beamline.im_after_C2.get_profile_x(), mono_beamline.im_after_C2.get_profile_y())[2]\n",
    "slit_width = calc_slit_width(wx*2, b2.lambda0, mono_beamline.mir1.q)\n",
    "print('calculated slit width: {}um'.format(round(slit_width*1e6,2)))\n",
    "\n",
    "if slit_width < 3e-6:\n",
    "    slit_width = 3e-6\n",
    "\n",
    "if if_close == 0:\n",
    "    slit_width = 1e-1\n",
    "print('actual slit width: {}um\\n'.format(round(slit_width*1e6,2)))\n"
   ]
  },
  {
   "cell_type": "markdown",
   "metadata": {},
   "source": [
    "### Beam profiles for the perfect case"
   ]
  },
  {
   "cell_type": "code",
   "execution_count": 11,
   "metadata": {},
   "outputs": [],
   "source": [
    "%%capture capt\n",
    "\n",
    "mono_devices, mono_beamline = define_beamline(E0,\n",
    "                           m1_p=m1_p, m2_p=m2_p, HHLM_type=HHLM_type,\n",
    "                           slit_width=slit_width, f1=f1, f2=f2,\n",
    "                           hkl1=hkl1, alphaAsym1=alphaAsym1,\n",
    "                           hkl2=hkl2, alphaAsym2=alphaAsym2,\n",
    "                           hkl3=hkl3, alphaAsym3=alphaAsym3,\n",
    "                           shapeErrors=[None for i in range(6)],\n",
    "                           l_crystal=l_crystal,\n",
    "                           w_crystal=w_crystal)\n",
    "\n",
    "screen_names = ['im_input', 'im_after_T1', 'im_after_T2', 'im_after_HHLM1', 'im_after_HHLM2', 'im_after_HHLM3', 'im_after_HHLM4',\n",
    "    'im_after_C1','im_after_C2','im_before_MIR1','im_after_MIR1','im_focus','im_before_MIR2','im_after_MIR2','im_after_C3','im_out']\n",
    "\n",
    "beam_params['photonEnergy'] = E0\n",
    "pulse = beam.Pulse(beam_params=beam_params, unit_spectrum=True, spectral_width=5000e-3, N=100)\n",
    "pulse.propagate(beamline=mono_beamline,screen_names=screen_names)\n"
   ]
  },
  {
   "cell_type": "raw",
   "metadata": {
    "scrolled": true
   },
   "source": [
    "''' projection '''\n",
    "dir_perfect = dir_plot\n",
    "\n",
    "for i,screen_name in enumerate(pulse.screens):\n",
    "    try:\n",
    "        pulse.imshow_projection(screen_name)\n",
    "        plt.savefig(dir_perfect+'projection_{}.{}.png'.format(i+1,screen_name))\n",
    "    except:\n",
    "        print(screen_name, 'failed')"
   ]
  },
  {
   "cell_type": "raw",
   "metadata": {
    "scrolled": true
   },
   "source": [
    "''' energy slices '''\n",
    "for i,screen_name in enumerate(pulse.screens):\n",
    "    try:\n",
    "        pulse.imshow_energy_slice(screen_name)\n",
    "        plt.savefig(dir_perfect+'spectrum_{}.{}.png'.format(i+1,screen_name))\n",
    "    except:\n",
    "        print(screen_name, 'failed')\n"
   ]
  },
  {
   "cell_type": "raw",
   "metadata": {},
   "source": [
    "''' plot time slices '''\n",
    "shift = 0\n",
    "for i,screen_name in enumerate(pulse.screens):\n",
    "    try:\n",
    "        pulse.imshow_time_slice(screen_name, shift=shift)\n",
    "        plt.savefig(dir_perfect+'tilt_{}.{}.png'.format(i+1,screen_name))\n",
    "    except:\n",
    "        print(screen_name, 'failed')"
   ]
  },
  {
   "cell_type": "raw",
   "metadata": {},
   "source": [
    "''' diagnostics '''\n",
    "c, pulse_duration0 = pulse.pulse_duration('im_out')\n",
    "pulse_tilt0 = pulse.pulsefront_tilt('im_out')\n",
    "spatial_chirp0 = pulse.spatial_chirp('im_out')\n",
    "energy_bandwidth0 = pulse.pulse_bandwidth('im_out')\n",
    "throughput0 = pulse.throughput('im_input','im_out')\n",
    "print('duration {}fs'.format(pulse_duration0))\n",
    "print('tilt {}fs/um'.format(pulse_tilt0))\n",
    "print('spatial chirp {}meV/um'.format(spatial_chirp0*1e3))\n",
    "print('bandwidth {}meV'.format(energy_bandwidth0*1e3))\n",
    "print('throughput {}%'.format(throughput0*1e2))\n",
    "\n",
    "# np.savetxt(dir_perfect+'diagnostics_type.txt',np.array(['duration [fs]', 'tilt [fs/um]', 'chirp [meV/um]', 'bandwidth [meV]']), delimiter=',')\n",
    "np.savetxt(dir_perfect+'diagnostics_value.txt',np.array([pulse_duration0, pulse_tilt0, spatial_chirp0*1e3, energy_bandwidth0*1e3]), delimiter=',')\n"
   ]
  },
  {
   "cell_type": "code",
   "execution_count": 12,
   "metadata": {},
   "outputs": [
    {
     "name": "stdout",
     "output_type": "stream",
     "text": [
      "HHLM1 5.391\n",
      "HHLM2 5.527\n",
      "HHLM3 1.166\n",
      "HHLM4 1.328\n",
      "C1 1.179\n",
      "C2 1.184\n"
     ]
    }
   ],
   "source": [
    "bandwidth = np.zeros_like(crystals)\n",
    "for i,crystal in enumerate(crystals):\n",
    "    screen_name = 'im_after_{}'.format(crystal)\n",
    "    bandwidth[i] = pulse.pulse_bandwidth(screen_name)\n",
    "    print(crystal, bandwidth[i])\n"
   ]
  },
  {
   "cell_type": "code",
   "execution_count": 13,
   "metadata": {},
   "outputs": [],
   "source": [
    "import winsound\n",
    "winsound.Beep(1500, 3000)"
   ]
  }
 ],
 "metadata": {
  "kernelspec": {
   "display_name": "Python 3",
   "language": "python",
   "name": "python3"
  },
  "language_info": {
   "codemirror_mode": {
    "name": "ipython",
    "version": 3
   },
   "file_extension": ".py",
   "mimetype": "text/x-python",
   "name": "python",
   "nbconvert_exporter": "python",
   "pygments_lexer": "ipython3",
   "version": "3.8.8"
  }
 },
 "nbformat": 4,
 "nbformat_minor": 4
}
