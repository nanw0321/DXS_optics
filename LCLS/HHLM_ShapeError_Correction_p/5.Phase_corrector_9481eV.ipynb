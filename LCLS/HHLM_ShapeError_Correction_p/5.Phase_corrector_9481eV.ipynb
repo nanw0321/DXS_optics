{
 "cells": [
  {
   "cell_type": "markdown",
   "metadata": {},
   "source": [
    "### Basic principles\n",
    "    1. get phase corrector thickness profile using 10% power (HHLM1 only)\n",
    "    2. simulate how well does this phase corrector works for correcting 10% shapeError.\n",
    "    3. define new beamline with phase corrector, then simulate 90% power using optimized mirror for 80% power.\n",
    "    "
   ]
  },
  {
   "cell_type": "code",
   "execution_count": 1,
   "metadata": {},
   "outputs": [],
   "source": [
    "from Functions import *\n",
    "import winsound"
   ]
  },
  {
   "cell_type": "code",
   "execution_count": 2,
   "metadata": {},
   "outputs": [],
   "source": [
    "FOV1 = 5e-3; N1 = 512\n",
    "FOV2 = 5e-3; N2 = 2048"
   ]
  },
  {
   "cell_type": "markdown",
   "metadata": {},
   "source": [
    "# Preliminary"
   ]
  },
  {
   "cell_type": "code",
   "execution_count": 23,
   "metadata": {
    "tags": []
   },
   "outputs": [],
   "source": [
    "def define_beamline_normal(\n",
    "    E0, m1_p=185.0, m1_q=-25.6, m2_p=None, m2_q=1e5,\n",
    "    HHLM_type='2DCM', HHLM_offset=20e-3, pair_distance=200e-3,\n",
    "    slit_width=3e-6, f1=10.0, f2=10.0,\n",
    "    hkl1 = [1,1,1], alphaAsym1 = 0.0,\n",
    "    hkl2 = [2,2,0], alphaAsym2 = 0.0,\n",
    "    hkl3 = [5,5,5], alphaAsym3 = 15.0,\n",
    "    shapeErrors=[None for i in range(6)],\n",
    "    l_crystal=[1e-1 for i in range(6)],\n",
    "    w_crystal = [5e-3 for i in range(6)]):\n",
    "    \n",
    "    z_s = 650\n",
    "\n",
    "    # viewing point - upstream of monochromator\n",
    "    im_input = optics.PPM('im_input', z=184+z_s, FOV=5e-3, N=512)\n",
    "    \n",
    "    Telescope_devices = define_Telescope(E0, m1_p=m1_p, m1_q=m1_q, m2_p=m2_p, m2_q=m2_q)\n",
    "    \n",
    "    if HHLM_type == '2DCM':\n",
    "        HHLM_devices = define_HHLM_2DCM(E0,\n",
    "                                    HHLM_offset=HHLM_offset,\n",
    "                                    pair_distance=pair_distance,\n",
    "                                    hkl1=hkl1, alphaAsym1=alphaAsym1,\n",
    "                                    hkl2=hkl2, alphaAsym2=alphaAsym2,\n",
    "                                    shapeErrors=shapeErrors,\n",
    "                                    l_crystal=l_crystal,\n",
    "                                    w_crystal = w_crystal)\n",
    "    elif HHLM_type == 'Zigzag':\n",
    "        HHLM_devices = define_HHLM_Zigzag(E0,\n",
    "                                    HHLM_offset=HHLM_offset,\n",
    "                                    pair_distance=pair_distance,\n",
    "                                    hkl1=hkl1, alphaAsym1=alphaAsym1,\n",
    "                                    hkl2=hkl2, alphaAsym2=alphaAsym2,\n",
    "                                    shapeErrors=shapeErrors,\n",
    "                                    l_crystal=l_crystal,\n",
    "                                    w_crystal = w_crystal)\n",
    "    \n",
    "    im_plate = optics.PPM('im_plate', FOV=FOV2, N=N2,z=HHLM_devices[-1].z+1e-3)\n",
    "    \n",
    "    HRM_devices = define_HRM(E0, f1=f1, f2=f2, slit_width=slit_width,\n",
    "                            hkl=hkl3, alphaAsym=alphaAsym3,\n",
    "                            shapeErrors=shapeErrors,\n",
    "                            l_crystal=l_crystal,\n",
    "                            w_crystal=w_crystal)\n",
    "    \n",
    "    im_output = optics.PPM('im_output', FOV=FOV1,N=N1,z=HRM_devices[-1].z+1e-3)\n",
    "\n",
    "    all_devices = [im_input] + Telescope_devices + HHLM_devices + [im_plate] + HRM_devices + [im_output]\n",
    "    \n",
    "    mono_beamline = beamline.Beamline(all_devices, ordered=True)\n",
    "    return all_devices, mono_beamline"
   ]
  },
  {
   "cell_type": "markdown",
   "metadata": {},
   "source": [
    "### 1. common simulation parameters"
   ]
  },
  {
   "cell_type": "code",
   "execution_count": 17,
   "metadata": {
    "tags": []
   },
   "outputs": [
    {
     "name": "stdout",
     "output_type": "stream",
     "text": [
      "path exists\n",
      "path exists\n",
      "path exists\n",
      "\n",
      "CWD: output/9481eV/m2_p_optimization/\n",
      "path exists\n",
      "path exists\n"
     ]
    }
   ],
   "source": [
    "''' Beam parameters '''\n",
    "N = 1024          # number of sampling points\n",
    "E0 = 9481        # photon energy [eV]\n",
    "\n",
    "# parameter dictionary. z_source is in LCLS coordinates (20 meters upstream of undulator exit)\n",
    "beam_params = {\n",
    "    'photonEnergy': E0,\n",
    "    'N': N,\n",
    "    'sigma_x': 23e-6,\n",
    "    'sigma_y': 23e-6,\n",
    "    'rangeFactor': 5,\n",
    "    'scaleFactor': 10,\n",
    "    'z_source': 650-26\n",
    "}\n",
    "\n",
    "##### common simulation parameters\n",
    "m1_p = 185.0; m1_q = -58.0\n",
    "m2_p = 175.75711407315083\n",
    "f1 = 10.0; f2 = 10.0            # f1: crystal-mirror distance, f2: mirror focal distance\n",
    "\n",
    "HHLM_type = '2DCM'              # 2DCM or Zigzag\n",
    "HHLM_offset = 20e-3\n",
    "pair_distance = 200e-3\n",
    "hkl1 = [1,1,1]; alphaAsym1 = 9.0    # asymmetry angle for the 1st pair of HHLM crystal\n",
    "hkl2 = [2,2,0]; alphaAsym2 = 13.0   # ````````````````````````2nd pair of HHLM crystal\n",
    "hkl3 = [4,4,0]; alphaAsym3 = 15.0   # ````````````````````````2nd and 3rd HRM crystal\n",
    "\n",
    "# list of crystals\n",
    "crystals = np.array(['HHLM1', 'HHLM2', 'HHLM3', 'HHLM4', 'C1', 'C2']); n_crys = len(crystals)\n",
    "\n",
    "##### I/O\n",
    "dir_out = 'output/'; make_dir(dir_out)\n",
    "dir_ev = dir_out + '{}eV/'.format(E0); make_dir(dir_ev)\n",
    "dir_case = dir_ev + 'm2_p_optimization/'; make_dir(dir_case)\n",
    "\n",
    "print('\\nCWD:',dir_case)\n",
    "\n",
    "dir_plot = dir_case+'{}_{}_{}/'.format(HHLM_type, hkl1[0]*100+hkl1[1]*10+hkl1[2],\n",
    "                                      hkl2[0]*100+hkl2[1]*10+hkl2[2]); make_dir(dir_plot)\n",
    "dir_plot += '{}_{}_deg_{}mm_offset/'.format(alphaAsym1, alphaAsym2, 1e3*HHLM_offset); make_dir(dir_plot)\n"
   ]
  },
  {
   "cell_type": "markdown",
   "metadata": {},
   "source": [
    "### 2. calculate crystal dimensions and slit width"
   ]
  },
  {
   "cell_type": "code",
   "execution_count": 18,
   "metadata": {
    "tags": []
   },
   "outputs": [],
   "source": [
    "%%capture capt\n",
    "\n",
    "# simulation parameters for the normal condition\n",
    "slit_width = 1e-1\n",
    "shapeErrors = [None for i in range(6)]\n",
    "l_crystal = [1e-1 for i in range(6)]\n",
    "w_crystal = [5e-3 for i in range(6)]\n",
    "\n",
    "mono_devices_calc, mono_beamline_calc = define_beamline_normal(E0,\n",
    "                               m1_p=m1_p, m1_q=m1_q, m2_p=m2_p, m2_q=1e5,\n",
    "                               HHLM_type=HHLM_type,\n",
    "                               HHLM_offset=HHLM_offset,\n",
    "                               pair_distance=pair_distance,\n",
    "                               slit_width=slit_width, f1=f1, f2=f2,\n",
    "                               hkl1=hkl1, alphaAsym1=alphaAsym1,\n",
    "                               hkl2=hkl2, alphaAsym2=alphaAsym2,\n",
    "                               hkl3=hkl3, alphaAsym3=alphaAsym3,\n",
    "                               shapeErrors=shapeErrors,\n",
    "                               l_crystal=l_crystal,\n",
    "                               w_crystal=w_crystal)\n",
    "\n",
    "b1_calc = beam.Beam(beam_params=beam_params)\n",
    "b2_calc = mono_beamline_calc.propagate_beamline(b1_calc)"
   ]
  },
  {
   "cell_type": "code",
   "execution_count": 24,
   "metadata": {
    "tags": []
   },
   "outputs": [
    {
     "name": "stdout",
     "output_type": "stream",
     "text": [
      "bragg angle: [12.043 12.037 19.912 19.91  42.928 42.928]\n",
      "asymmetry: [ -9.   9. -13.  13.   0.  15.]\n",
      "beam size: [8.854 1.311 5.911 1.311 1.31  0.724] mm\n",
      "footprint: [24.665 24.674 10.879 10.886  1.924  1.546] mm\n",
      "\n",
      "calculated slit width: 0.84um\n",
      "actual slit width: 3.0um\n",
      "\n"
     ]
    }
   ],
   "source": [
    "# get crytal properties\n",
    "beta0s = []; braggs = []; asyms = []\n",
    "for device in mono_devices_calc:\n",
    "    if device.name in crystals:\n",
    "        beta0s.append(device.beta0)\n",
    "        braggs.append(np.rad2deg(device.bragg))\n",
    "        asyms.append(np.rad2deg(device.alphaAsym))\n",
    "\n",
    "# calculate beam FWHM after each crystal\n",
    "wx1, wy1 = mono_beamline_calc.im_after_HHLM1.beam_analysis(mono_beamline_calc.im_after_HHLM1.get_profile_x(), mono_beamline_calc.im_after_HHLM1.get_profile_y())[2:4]\n",
    "wx2, wy2 = mono_beamline_calc.im_after_HHLM2.beam_analysis(mono_beamline_calc.im_after_HHLM2.get_profile_x(), mono_beamline_calc.im_after_HHLM2.get_profile_y())[2:4]\n",
    "wx3, wy3 = mono_beamline_calc.im_after_HHLM3.beam_analysis(mono_beamline_calc.im_after_HHLM3.get_profile_x(), mono_beamline_calc.im_after_HHLM3.get_profile_y())[2:4]\n",
    "wx4, wy4 = mono_beamline_calc.im_after_HHLM4.beam_analysis(mono_beamline_calc.im_after_HHLM4.get_profile_x(), mono_beamline_calc.im_after_HHLM4.get_profile_y())[2:4]\n",
    "wx5, wy5 = mono_beamline_calc.im_after_C1.beam_analysis(mono_beamline_calc.im_after_C1.get_profile_x(), mono_beamline_calc.im_after_C1.get_profile_y())[2:4]\n",
    "wx6, wy6 = mono_beamline_calc.im_after_C2.beam_analysis(mono_beamline_calc.im_after_C2.get_profile_x(), mono_beamline_calc.im_after_C2.get_profile_y())[2:4]\n",
    "beam_size = np.array([wx1, wx2, wx3, wx4, wx5, wx6])    # FWHM\n",
    "\n",
    "# crystal lengths (long) and widths (short) [m]\n",
    "l_crystal = np.divide(beam_size*2, np.sin(beta0s))\n",
    "w_crystal = np.array([wy1, wy2, wy3, wy4, wy5, wy6])*2\n",
    "\n",
    "print('bragg angle: {}'.format(np.round(braggs,3)))\n",
    "print('asymmetry: {}'.format(np.round(asyms,3)))\n",
    "print('beam size: {} mm'.format(np.round(beam_size*1e3, 3)))\n",
    "print('footprint: {} mm\\n'.format(np.round(l_crystal*1e3/2,  3)))\n",
    "\n",
    "\n",
    "# calculate slit width\n",
    "slit_width = calc_slit_width(wx6*2, b2_calc.lambda0, mono_beamline_calc.mir1.q)\n",
    "print('calculated slit width: {}um'.format(round(slit_width*1e6,2)))\n",
    "\n",
    "if slit_width < 3e-6: slit_width = 3e-6\n",
    "print('actual slit width: {}um\\n'.format(round(slit_width*1e6,2)))"
   ]
  },
  {
   "cell_type": "markdown",
   "metadata": {},
   "source": [
    "### 3. load shapeErrors"
   ]
  },
  {
   "cell_type": "code",
   "execution_count": 25,
   "metadata": {
    "scrolled": false,
    "tags": []
   },
   "outputs": [
    {
     "name": "stdout",
     "output_type": "stream",
     "text": [
      "70%_shapeError_0.0W_0.0W_0.0W_0.0W_0.0W_0.0W\n"
     ]
    },
    {
     "name": "stderr",
     "output_type": "stream",
     "text": [
      "C:\\Users\\nanw0\\anaconda3\\envs\\lcls\\lib\\site-packages\\ipykernel_launcher.py:40: RuntimeWarning: divide by zero encountered in true_divide\n"
     ]
    },
    {
     "data": {
      "text/plain": [
       "<Figure size 144x720 with 0 Axes>"
      ]
     },
     "metadata": {},
     "output_type": "display_data"
    }
   ],
   "source": [
    "power_percentage = 70\n",
    "if_pad = 1\n",
    "\n",
    "# crystal_powers = np.array([29.9778, 0.7356, 0.7410, 1.6837, 10.9076, 0.4703])*power_percentage/100    # crytal power for Zigzag-111-220 asymmetric\n",
    "# crystal_powers = np.array([29.9978, 10.2117, 0.2467, 0.2344, 3.4120, 0.4440])*power_percentage/100    # crytal power for Zigzag-111-220 symmetric\n",
    "# crystal_powers = np.array([29.9552, 1.0849, 6.3846, 0.8192, 5.8204, 0.4589])*power_percentage/100    # crytal power for 2DCM-111-220 asymmetric, 16.9\n",
    "# crystal_powers = np.array([29.9552, 1.0849, 10.3877, 0.1849, 2.4811, 0.4364])*power_percentage/100    # crytal power for 2DCM-111-220 asymmetric, 9.0\n",
    "crystal_powers = np.array([29.9552, 1.0849, 9.1635, 0.2965, 3.5789, 0.4476])*power_percentage/100    # crytal power for 2DCM-111-220 asymmetric, 13.0\n",
    "\n",
    "crystal_powers *= np.array([0,0,0,0,0,0])\n",
    "\n",
    "# directories\n",
    "dir_profile = '../DXS_Xtals_FEA4WFS/{}/'.format(HHLM_type)\n",
    "\n",
    "# get file name based on crystal powers\n",
    "fname_error = '{}%_shapeError'.format(power_percentage)\n",
    "for i in range(n_crys):\n",
    "    fname_error += '_{}W'.format(round(crystal_powers[i],3))\n",
    "print(fname_error)\n",
    "\n",
    "# holders\n",
    "shapeErrors = [None for i in range(n_crys)]\n",
    "x_mirs      = [None for i in range(n_crys)]\n",
    "y_mirs      = [None for i in range(n_crys)]\n",
    "\n",
    "if HHLM_type == 'Zigzag':\n",
    "    crystal_profile_powers = np.array([\n",
    "        [73.15, 16.53, 0.029, 0.027, 0.026, 0.03],\n",
    "        [73.15, 16.79, 0.015, 0.015, 0.014, 0.013],\n",
    "        [4.51, 50.1, 1.78, 1.69, 1.61, 1.88]\n",
    "    ])\n",
    "elif HHLM_type == '2DCM':\n",
    "    crystal_profile_powers = np.array([\n",
    "        [73.15, 0.027, 16.53, 0.029, 0.026, 0.03],\n",
    "        [73.15, 0.015, 16.79, 0.015, 0.014, 0.013],\n",
    "        [4.51, 1.69, 50.1, 1.78, 1.61, 1.88]\n",
    "    ])\n",
    "\n",
    "# choose shapeError profiles with the closest power\n",
    "ratio_power = crystal_profile_powers/np.stack([crystal_powers for i in range(3)])\n",
    "ratio_power[ratio_power<1] = 1/(ratio_power[ratio_power<1])\n",
    "options = ratio_power.argmin(axis=0)+1\n",
    "\n",
    "# load\n",
    "for i, crystal in enumerate(crystals):\n",
    "    if crystal_powers[i] == 0: continue\n",
    "    # load profiles from file\n",
    "    dy, xx, zz = load_crystal_data(dir_profile, crystal, options[i])\n",
    "    # proportionality constant due to power and crystal dimension\n",
    "    height_factor1 = crystal_powers[i] / crystal_profile_powers[options[i]-1, i]    \n",
    "    height_factor2 = (l_crystal[i]*1e3/(xx.max()-xx.min()))*(w_crystal[i]*1e3/(zz.max()-zz.min()))\n",
    "    shapeErrors[i] = dy*1e6 * height_factor1 / height_factor2    # [nm]\n",
    "    nx, ny = shapeErrors[i].shape; end_val = shapeErrors[i].max()\n",
    "    if if_pad == 1:\n",
    "        # stretch in both directions\n",
    "        shapeErrors[i] = np.pad(shapeErrors[i],\n",
    "                                pad_width=((nx,nx),(ny,ny)), mode='linear_ramp',\n",
    "                                end_values = ((end_val,end_val),(end_val,end_val)))\n",
    "        # modify dimensions for the new profile\n",
    "        l_crystal[i] *= 3; w_crystal[i] *= 3\n",
    "        # new crytal axis\n",
    "        x_mirs[i] = np.linspace(-l_crystal[i]/2, l_crystal[i]/2, ny*3)\n",
    "        y_mirs[i] = np.linspace(-w_crystal[i]/2, w_crystal[i]/2, nx*3)\n",
    "    else:\n",
    "        x_mirs[i] = np.linspace(-l_crystal[i]/2, l_crystal[i]/2, ny)\n",
    "        y_mirs[i] = np.linspace(-w_crystal[i]/2, w_crystal[i]/2, nx)\n",
    "\n",
    "\n",
    "# plot\n",
    "n_subplot = np.sum(crystal_powers!=0)\n",
    "plt.figure(figsize=(n_subplot*5+2, 10))\n",
    "i_plot = 0\n",
    "for i in range(n_crys):\n",
    "    if crystal_powers[i] == 0: continue\n",
    "    i_plot += 1\n",
    "    plt.subplot(2, n_subplot, i_plot)\n",
    "    plt.plot(x_mirs[i]*1e3, shapeErrors[i][1024,:], label=crystals[i])\n",
    "    plt.legend(); plt.xlabel('x (mm)'); plt.ylabel('height (nm)')\n",
    "    if if_pad == 1:\n",
    "        plt.title('{}, {}mm FWHM'.format(crystals[i], round(l_crystal[i]/2*1e3/3,2)))\n",
    "    else:\n",
    "        plt.title('{}, {}mm FWHM'.format(crystals[i], round(l_crystal[i]/2*1e3,2)))\n",
    "    plt.subplot(2, n_subplot, i_plot+n_subplot)\n",
    "    plt.imshow(shapeErrors[i], cmap='jet',\n",
    "              extent = [x_mirs[i].min()*1e3, x_mirs[i].max()*1e3, y_mirs[i].max()*1e3, y_mirs[i].min()*1e3])\n",
    "    plt.colorbar(); plt.xlabel('x (mm)'); plt.ylabel('y (mm)'); plt.axis('tight')\n",
    "    \n",
    "plt.savefig(dir_plot+'Bumps_'+fname_error+'.png')"
   ]
  },
  {
   "cell_type": "markdown",
   "metadata": {},
   "source": [
    "# Phase plate calculation"
   ]
  },
  {
   "cell_type": "markdown",
   "metadata": {},
   "source": [
    "### 1. simulate the output of a monochromatic incident pulse w/ & w/o shapeError"
   ]
  },
  {
   "cell_type": "code",
   "execution_count": 26,
   "metadata": {
    "tags": []
   },
   "outputs": [],
   "source": [
    "%%capture capt\n",
    "##### perfect\n",
    "mono_devices_p, mono_beamline_p = define_beamline_normal(E0,\n",
    "                       m1_p=m1_p, m1_q=m1_q, m2_p=m2_p, m2_q=1e5,\n",
    "                       HHLM_type=HHLM_type,\n",
    "                       HHLM_offset=HHLM_offset,\n",
    "                       pair_distance=pair_distance,\n",
    "                       slit_width=slit_width, f1=f1, f2=f2,\n",
    "                       hkl1=hkl1, alphaAsym1=alphaAsym1,\n",
    "                       hkl2=hkl2, alphaAsym2=alphaAsym2,\n",
    "                       hkl3=hkl3, alphaAsym3=alphaAsym3,\n",
    "                       shapeErrors=[None for i in range(6)],\n",
    "                       l_crystal=l_crystal,\n",
    "                       w_crystal=w_crystal)\n",
    "\n",
    "beam_params['photonEnergy'] = E0\n",
    "b1_p = beam.Beam(beam_params=beam_params)\n",
    "b2_p = mono_beamline_p.propagate_beamline(b1_p)\n",
    "\n",
    "##### shapeError only\n",
    "mono_devices_e, mono_beamline_e = define_beamline_normal(E0,\n",
    "                       m1_p=m1_p, m1_q=m1_q, m2_p=m2_p, m2_q=1e5,\n",
    "                       HHLM_type=HHLM_type,\n",
    "                       HHLM_offset=HHLM_offset,\n",
    "                       pair_distance=pair_distance,\n",
    "                       slit_width=slit_width, f1=f1, f2=f2,\n",
    "                       hkl1=hkl1, alphaAsym1=alphaAsym1,\n",
    "                       hkl2=hkl2, alphaAsym2=alphaAsym2,\n",
    "                       hkl3=hkl3, alphaAsym3=alphaAsym3,\n",
    "                       shapeErrors=shapeErrors,\n",
    "                       l_crystal=l_crystal,\n",
    "                       w_crystal=w_crystal)\n",
    "\n",
    "beam_params['photonEnergy'] = E0\n",
    "b1_e = beam.Beam(beam_params=beam_params)\n",
    "b2_e = mono_beamline_e.propagate_beamline(b1_e)"
   ]
  },
  {
   "cell_type": "markdown",
   "metadata": {},
   "source": [
    "### 2. get phase info from the outputs and convert to phase plate thickness"
   ]
  },
  {
   "cell_type": "code",
   "execution_count": 27,
   "metadata": {
    "tags": []
   },
   "outputs": [
    {
     "data": {
      "text/plain": [
       "Text(0, 0.5, 'y (mm)')"
      ]
     },
     "execution_count": 27,
     "metadata": {},
     "output_type": "execute_result"
    },
    {
     "data": {
      "image/png": "[encoded data removed]",
      "text/plain": [
       "<Figure size 1584x360 with 6 Axes>"
      ]
     },
     "metadata": {
      "needs_background": "light"
     },
     "output_type": "display_data"
    }
   ],
   "source": [
    "##### getting phase info\n",
    "ppm_p = mono_beamline_p.im_plate\n",
    "ppm_e = mono_beamline_e.im_plate\n",
    "x_plate = 2*ppm_p.get_x_width(); y_plate = 2*ppm_p.get_y_width()\n",
    "# x_plate = 2*ppm_p.get_x().max(); y_plate = 2*ppm_p.get_y().max()\n",
    "\n",
    "# crop roi based on beam width\n",
    "index_x = np.where((ppm_p.x **2) < ((x_plate/2) ** 2))[0]\n",
    "index_y = np.where((ppm_p.y **2) < ((y_plate/2) ** 2))[0]\n",
    "axis_x = np.linspace(-x_plate/2, x_plate/2, index_x[-1] - index_x[0] + 1)*1e3\n",
    "axis_y = np.linspace(-y_plate/2, y_plate/2, index_y[-1] - index_y[0] + 1)*1e3\n",
    "\n",
    "# 1D phase info\n",
    "phase_p_x = ppm_p.x_phase[index_x[0]:index_x[-1]+1]\n",
    "phase_p_y = ppm_p.y_phase[index_y[0]:index_y[-1]+1]\n",
    "phase_e_x = ppm_e.x_phase[index_x[0]:index_x[-1]+1]\n",
    "phase_e_y = ppm_e.y_phase[index_y[0]:index_y[-1]+1]\n",
    "\n",
    "# 2D phase info\n",
    "phase_p_2d = np.unwrap(np.angle(ppm_p.complex_beam()[0]))[index_y[0]:index_y[-1]+1, index_x[0]:index_x[-1]+1]\n",
    "phase_e_2d = np.unwrap(np.angle(ppm_e.complex_beam()[0]))[index_y[0]:index_y[-1]+1, index_x[0]:index_x[-1]+1]\n",
    "\n",
    "# plots\n",
    "plt.figure(figsize=(22,5))\n",
    "plt.subplot(1,4,1)\n",
    "plt.plot(axis_x, phase_p_x - np.median(phase_p_x), label='w/o')\n",
    "plt.plot(axis_x, phase_e_x - np.median(phase_e_x), label='w/')\n",
    "plt.legend()\n",
    "plt.title('1D phase in x'); plt.xlabel('x (mm)')\n",
    "\n",
    "plt.subplot(1,4,2)\n",
    "plt.plot(axis_y, phase_p_y - np.median(phase_p_y), label='w/o')\n",
    "plt.plot(axis_y, phase_e_y - np.median(phase_e_y), label='w/')\n",
    "plt.legend()\n",
    "plt.title('1D phase in y'); plt.xlabel('y (mm)')\n",
    "\n",
    "plt.subplot(1,4,3)\n",
    "plt.imshow(phase_p_2d-np.median(phase_p_2d), cmap='jet',\n",
    "           extent = [axis_x.min()*1e3, axis_x.max()*1e3, axis_y.max()*1e3, axis_y.min()*1e3])\n",
    "plt.colorbar()\n",
    "plt.title('2D phase w/o'); plt.axis('tight')\n",
    "plt.xlabel('x (mm)'); plt.ylabel('y (mm)')\n",
    "\n",
    "plt.subplot(1,4,4)\n",
    "plt.imshow(phase_e_2d-np.median(phase_e_2d), cmap='jet',\n",
    "           extent = [axis_x.min()*1e3, axis_x.max()*1e3, axis_y.max()*1e3, axis_y.min()*1e3])\n",
    "plt.colorbar()\n",
    "plt.title('2D phase w/'); plt.axis('tight')\n",
    "plt.xlabel('x (mm)'); plt.ylabel('y (mm)')"
   ]
  },
  {
   "cell_type": "code",
   "execution_count": 28,
   "metadata": {
    "tags": []
   },
   "outputs": [
    {
     "data": {
      "text/plain": [
       "(-1.310381874595704, 1.310381874595704)"
      ]
     },
     "execution_count": 28,
     "metadata": {},
     "output_type": "execute_result"
    },
    {
     "data": {
      "image/png": "[encoded data removed]",
      "text/plain": [
       "<Figure size 1584x360 with 6 Axes>"
      ]
     },
     "metadata": {
      "needs_background": "light"
     },
     "output_type": "display_data"
    }
   ],
   "source": [
    "##### calculating phase difference and thickness\n",
    "# phase advancement\n",
    "phaseMap = phase_e_2d - phase_p_2d\n",
    "phaseMap -= phaseMap.min()\n",
    "\n",
    "# load material information from CXRO data\n",
    "filename = os.path.join('../../LCLS/lcls_beamline_toolbox-beta/lcls_beamline_toolbox/xraybeamline2d/cxro_data/Be.csv')\n",
    "cxro_data = np.genfromtxt(filename, delimiter=',')\n",
    "energy = cxro_data[:, 0]; delta = cxro_data[:, 1]; beta = cxro_data[:, 2]\n",
    "delta = np.interp(E0, energy, delta); beta = np.interp(E0, energy, beta)\n",
    "\n",
    "# calculate thickness\n",
    "plateThickness = phaseMap * b2_p.lambda0 / (delta*2*np.pi)\n",
    "\n",
    "x_min = -ppm_p.get_x_width()*1e3; x_max = ppm_p.get_x_width()*1e3\n",
    "y_min = -ppm_p.get_y_width()*1e3; y_max = ppm_p.get_y_width()*1e3\n",
    "\n",
    "# plots\n",
    "plt.figure(figsize=(22,5))\n",
    "plt.subplot(1,4,1)\n",
    "plt.imshow(phaseMap, cmap='jet',\n",
    "           extent = [-wx4*1e3, wx4*1e3, wy4*1e3, -wy4*1e3])\n",
    "plt.colorbar(); plt.axis('tight')\n",
    "plt.title('phase difference')\n",
    "plt.xlabel('x (um)'); plt.ylabel('y (mm)')\n",
    "plt.xlim([x_min, x_max]); plt.ylim([y_min, y_max])\n",
    "\n",
    "plt.subplot(1,4,2)\n",
    "plt.imshow(plateThickness*1e6, cmap='jet',\n",
    "           extent = [-wx4*1e3, wx4*1e3, wy4*1e3, -wy4*1e3])\n",
    "plt.colorbar(); plt.axis('tight')\n",
    "plt.title('plate thickness (um)')\n",
    "plt.xlabel('x (mm)'); plt.ylabel('y (mm)')\n",
    "plt.xlim([x_min, x_max]); plt.ylim([y_min, y_max])\n",
    "\n",
    "plt.subplot(1,4,3)\n",
    "plt.plot(axis_x, plateThickness[int(plateThickness.shape[0]/2)] * 1e6)\n",
    "plt.xlabel('x (mm)'); plt.title('lineout_x (um)')\n",
    "plt.xlim([x_min, x_max])\n",
    "\n",
    "plt.subplot(1,4,4)\n",
    "plt.plot(axis_y, plateThickness[:,int(plateThickness.shape[1]/2)] * 1e6)\n",
    "plt.xlabel('y (mm)'); plt.title('lineout_y (um)')\n",
    "plt.xlim([x_min, x_max])"
   ]
  },
  {
   "cell_type": "markdown",
   "metadata": {},
   "source": [
    "# New class for PhasePlate optics"
   ]
  },
  {
   "cell_type": "code",
   "execution_count": null,
   "metadata": {
    "tags": []
   },
   "outputs": [],
   "source": [
    "class PhasePlate:\n",
    "    \"\"\"\n",
    "    Attributes\n",
    "    ----------\n",
    "    name: str\n",
    "        Name of the device (e.g. CRL1)\n",
    "    plateThickness: float\n",
    "        Thickness profile of the phase plate. (meters)\n",
    "    x_plate: float\n",
    "        Phase plate size in x. (meters)\n",
    "    y_plate: float\n",
    "        Phase plate size in y. (meters)\n",
    "    E0: float or None\n",
    "        photon energy in eV for calculating the corresponding phase difference of a given thickness\n",
    "    material: str\n",
    "        Phase plate material. Currently only Be is implemented but may add CVD diamond in the future.\n",
    "        Looks up downloaded data from CXRO.\n",
    "    dx: float\n",
    "        Phase plate de-centering along beam's x-axis.\n",
    "    dy: float\n",
    "        Phase plate de-centering along beam's y-axis.\n",
    "    z: float\n",
    "        z location of phase plate along beamline.\n",
    "    energy: (N,) ndarray\n",
    "        List of photon energies from CXRO file (eV).\n",
    "    delta: (N,) ndarray\n",
    "        Real part of index of refraction. n = 1 - delta + 1j * beta\n",
    "    beta: (N,) ndarray\n",
    "        Imaginary part of index of refraction. n = 1 - delta + 1j * beta\n",
    "    \"\"\"\n",
    "    \n",
    "    def __init__(self, name, plateThickness=None, x_plate=None, y_plate=None, E0=None, material='Be', z=0, dx=0, dy=0):\n",
    "        \"\"\"\n",
    "        Method to create a PhasePlate object.\n",
    "        :param name: str\n",
    "            Name of the device (e.g. Phase1)\n",
    "        :param plateThickness: float\n",
    "            Thickness profile of the phase plate. (meters)\n",
    "        :x_plate: float\n",
    "            Phase plate size in x. (meters)\n",
    "        :y_plate: float\n",
    "            Phase plate size in y. (meters)\n",
    "        :param E0: float\n",
    "            photon energy for calculating radius of curvature for a given focal length (eV)\n",
    "        :param material: str\n",
    "            Lens material. Currently only Be is implemented but may add CVD diamond in the future.\n",
    "            Looks up downloaded data from CXRO.\n",
    "        :param z: float\n",
    "            z location of lenses along beamline.\n",
    "        :param dx, dy: float\n",
    "            PhasePlate de-centering along beam's x,y-axis.\n",
    "        :param orientation: int\n",
    "            Whether or not this is a horizontal or vertical lens (0 for horizontal, 1 for vertical).\n",
    "        \"\"\"\n",
    "        \n",
    "        # set some attributes\n",
    "        self.name = name\n",
    "        self.plateThickness = plateThickness\n",
    "        self.x_plate = x_plate\n",
    "        self.y_plate = y_plate\n",
    "        self.E0 = E0\n",
    "        self.material = material\n",
    "        self.dx = dx\n",
    "        self.dy = dy\n",
    "        self.z = z\n",
    "        self.global_x = 0\n",
    "        self.global_y = 0\n",
    "        self.azimuth = 0\n",
    "        self.elevation = 0\n",
    "        self.xhat = None\n",
    "        self.yhat = None\n",
    "        self.zhat = None\n",
    "\n",
    "        # get file name of CXRO data\n",
    "        filename = os.path.join('../../LCLS/lcls_beamline_toolbox-beta/lcls_beamline_toolbox/xraybeamline2d/cxro_data/Be.csv')\n",
    "\n",
    "        # load in CXRO data\n",
    "        cxro_data = np.genfromtxt(filename, delimiter=',')\n",
    "        self.energy = cxro_data[:, 0]\n",
    "        self.delta = cxro_data[:, 1]\n",
    "        self.beta = cxro_data[:, 2]\n",
    "\n",
    "    def multiply(self, beam):\n",
    "        \"\"\"\n",
    "        Method to propagate beam through PhasePlate\n",
    "        :param beam: Beam\n",
    "            Beam object to propagate through PhasePlate. Beam is modified by this method.\n",
    "        :return: None\n",
    "        \"\"\"\n",
    "        \n",
    "        # get shape of phase plate thickness\n",
    "        self.plate_shape = np.shape(self.plateThickness)\n",
    "        Ms = self.plate_shape[0]; Ns = self.plate_shape[1]\n",
    "        \n",
    "        \n",
    "        beamx = beam.x\n",
    "        beamy = beam.y\n",
    "        central_line_x = self.plateThickness[np.int(Ms/2)]\n",
    "        central_line_y = self.plateThickness[:, np.int(Ns/2)]\n",
    "        \n",
    "        Ms = central_line_x.size; Ns = central_line_y.size\n",
    "        xs = np.linspace(-Ms/2, Ms/2 -1, Ms) * self.x_plate/Ms    # phase plate x coordinate\n",
    "        ys = np.linspace(-Ns/2, Ns/2 -1, Ns) * self.y_plate/Ns    # phase plate y coordinate\n",
    "        \n",
    "        # interpolation onto beam coordinates\n",
    "        thickness_x = np.interp(beamx - self.dx, xs, central_line_x, left=0, right=0)\n",
    "        thickness_y = np.interp(beamy - self.dy, ys, central_line_y, left=0, right=0)\n",
    "\n",
    "        # interpolate to find index of refraction at beam's energy\n",
    "        delta = np.interp(beam.photonEnergy, self.energy, self.delta)\n",
    "        beta = np.interp(beam.photonEnergy, self.energy, self.beta)\n",
    "        phase_x = -beam.k0 * delta * thickness_x\n",
    "        phase_y = -beam.k0 * delta * thickness_y\n",
    "        \n",
    "        # transmission based on beta and thickness profile\n",
    "        mask_x = (((beamx - self.dx) ** 2) < (self.x_plate / 2) ** 2).astype(float)\n",
    "        mask_y = (((beamy - self.dy) ** 2) < (self.y_plate / 2) ** 2).astype(float)\n",
    "        transmission_x = np.exp(-beam.k0 * beta * thickness_x) * np.exp(1j * phase_x) * mask_x\n",
    "        transmission_y = np.exp(-beam.k0 * beta * thickness_y) * np.exp(1j * phase_y) * mask_y\n",
    "        \n",
    "        beam.wavex *= transmission_x\n",
    "        beam.wavey *= transmission_y\n",
    "\n",
    "    def propagate(self, beam):\n",
    "        \"\"\"\n",
    "        Method to propagate beam through PhasePlate. Calls multiply.\n",
    "        :param beam: Beam\n",
    "            Beam object to propagate through PhasePlate. Beam is modified by this method.\n",
    "        :return: None\n",
    "        \"\"\"\n",
    "        self.multiply(beam)"
   ]
  },
  {
   "cell_type": "markdown",
   "metadata": {},
   "source": [
    "# Beam profile simulation with the new PhasePlate optics"
   ]
  },
  {
   "cell_type": "markdown",
   "metadata": {},
   "source": [
    "### new beamline function"
   ]
  },
  {
   "cell_type": "code",
   "execution_count": null,
   "metadata": {
    "tags": []
   },
   "outputs": [],
   "source": [
    "def define_beamline_phase(\n",
    "    E0, m1_p=185.0, m1_q=-25.6, m2_p=141.6, m2_q=1e5,\n",
    "    HHLM_type='2DCM', HHLM_offset=20e-3, pair_distance=200e-3,\n",
    "    slit_width=3e-6, f1=10.0, f2=10.0,\n",
    "    hkl1 = [1,1,1], alphaAsym1 = 0.0,\n",
    "    hkl2 = [2,2,0], alphaAsym2 = 0.0,\n",
    "    hkl3 = [5,5,5], alphaAsym3 = 15.0,\n",
    "    shapeErrors=[None for i in range(6)],\n",
    "    l_crystal=[1e-1 for i in range(6)],\n",
    "    w_crystal = [5e-3 for i in range(6)]):\n",
    "    \n",
    "    z_s = 650\n",
    "\n",
    "    # viewing point - upstream of monochromator\n",
    "    im_input = optics.PPM('im_input', z=184+z_s, FOV=FOV1, N=N1)\n",
    "    \n",
    "    Telescope_devices = define_Telescope(E0, m1_p=m1_p, m1_q=m1_q, m2_p=m2_p, m2_q=m2_q)\n",
    "    \n",
    "    if HHLM_type == '2DCM':\n",
    "        HHLM_devices = define_HHLM_2DCM(E0,\n",
    "                                    HHLM_offset=HHLM_offset,\n",
    "                                    pair_distance=pair_distance,\n",
    "                                    hkl1=hkl1, alphaAsym1=alphaAsym1,\n",
    "                                    hkl2=hkl2, alphaAsym2=alphaAsym2,\n",
    "                                    shapeErrors=shapeErrors,\n",
    "                                    l_crystal=l_crystal,\n",
    "                                    w_crystal = w_crystal)\n",
    "    elif HHLM_type == 'Zigzag':\n",
    "        HHLM_devices = define_HHLM_Zigzag(E0,\n",
    "                                    HHLM_offset=HHLM_offset,\n",
    "                                    pair_distance=pair_distance,\n",
    "                                    hkl1=hkl1, alphaAsym1=alphaAsym1,\n",
    "                                    hkl2=hkl2, alphaAsym2=alphaAsym2,\n",
    "                                    shapeErrors=shapeErrors,\n",
    "                                    l_crystal=l_crystal,\n",
    "                                    w_crystal = w_crystal)\n",
    "    \n",
    "    Phase1 = PhasePlate('Phase1', plateThickness=plateThickness, x_plate=x_plate, y_plate=y_plate, E0=E0, z=HHLM_devices[-1].z + 1e-3)\n",
    "    \n",
    "    im_plate = optics.PPM('im_plate', FOV=FOV2, N=N2, z=Phase1.z+1e-4)\n",
    "    \n",
    "    HRM_devices = define_HRM(E0, f1=f1, f2=f2, slit_width=slit_width,\n",
    "                            hkl=hkl3, alphaAsym=alphaAsym3,\n",
    "                            shapeErrors=shapeErrors,\n",
    "                            l_crystal=l_crystal,\n",
    "                            w_crystal=w_crystal)\n",
    "    \n",
    "    im_output = optics.PPM('im_output', FOV=FOV1,N=N1,z=HRM_devices[-1].z+1e-3)\n",
    "\n",
    "    all_devices = [im_input] + Telescope_devices + HHLM_devices + [Phase1, im_plate] + HRM_devices + [im_output]\n",
    "    \n",
    "    mono_beamline = beamline.Beamline(all_devices, ordered=True)\n",
    "    return all_devices, mono_beamline\n"
   ]
  },
  {
   "cell_type": "markdown",
   "metadata": {},
   "source": [
    "### simulate the output with PhasePlate implemented"
   ]
  },
  {
   "cell_type": "code",
   "execution_count": null,
   "metadata": {},
   "outputs": [],
   "source": [
    "%%capture capt\n",
    "mono_devices_c, mono_beamline_c = define_beamline_phase(E0,\n",
    "                           m1_p=m1_p, m1_q=m1_q, m2_p=m2_p,\n",
    "                           HHLM_type=HHLM_type,\n",
    "                           HHLM_offset=HHLM_offset,\n",
    "                           pair_distance=pair_distance,\n",
    "                           slit_width=slit_width, f1=f1, f2=f2,\n",
    "                           hkl1=hkl1, alphaAsym1=alphaAsym1,\n",
    "                           hkl2=hkl2, alphaAsym2=alphaAsym2,\n",
    "                           hkl3=hkl3, alphaAsym3=alphaAsym3,\n",
    "                           shapeErrors=shapeErrors,\n",
    "                           l_crystal=l_crystal,\n",
    "                           w_crystal=w_crystal)\n",
    "\n",
    "beam_params['photonEnergy'] = E0\n",
    "b1_c = beam.Beam(beam_params=beam_params)\n",
    "b2_c = mono_beamline_c.propagate_beamline(b1_c)\n",
    "\n",
    "dir_phase = dir_plot+'phase_corrector/'; make_dir(dir_phase)"
   ]
  },
  {
   "cell_type": "code",
   "execution_count": null,
   "metadata": {},
   "outputs": [],
   "source": [
    "ppm_p = mono_beamline_p.im_after_HHLM4\n",
    "ppm_e = mono_beamline_e.im_after_HHLM4\n",
    "ppm_c = mono_beamline_c.im_after_HHLM4\n",
    "x_range = ppm_p.get_x_width(); y_range = ppm_p.get_y_width()\n",
    "image_name = '1_before_phase_plate'\n",
    "\n",
    "plot_phase_comparison(ppm_p, ppm_e, ppm_c, x_range, y_range, image_name=image_name)\n",
    "plt.savefig(dir_phase+'phase_monobeam_'+image_name+'.png')\n",
    "ppm_p.view_beam(); ppm_e.view_beam(); ppm_c.view_beam()"
   ]
  },
  {
   "cell_type": "code",
   "execution_count": null,
   "metadata": {},
   "outputs": [],
   "source": [
    "ppm_p = mono_beamline_p.im_plate\n",
    "ppm_e = mono_beamline_e.im_plate\n",
    "ppm_c = mono_beamline_c.im_plate\n",
    "x_range = ppm_p.get_x_width(); y_range = ppm_p.get_y_width()\n",
    "image_name = '2_after_phase_plate'\n",
    "\n",
    "plot_phase_comparison(ppm_p, ppm_e, ppm_c, x_range, y_range, image_name=image_name)\n",
    "plt.savefig(dir_phase+'phase_monobeam_'+image_name+'.png')\n",
    "ppm_p.view_beam(); ppm_e.view_beam(); ppm_c.view_beam()"
   ]
  },
  {
   "cell_type": "code",
   "execution_count": null,
   "metadata": {},
   "outputs": [],
   "source": [
    "ppm_p = mono_beamline_p.im_after_MIR1\n",
    "ppm_e = mono_beamline_e.im_after_MIR1\n",
    "ppm_c = mono_beamline_c.im_after_MIR1\n",
    "x_range = ppm_p.get_x_width(); y_range = ppm_p.get_y_width()\n",
    "image_name = '3_after_HRM_MIR1'\n",
    "\n",
    "plot_phase_comparison(ppm_p, ppm_e, ppm_c, x_range, y_range, image_name=image_name)\n",
    "plt.savefig(dir_phase+'phase_monobeam_'+image_name+'.png')\n",
    "ppm_p.view_beam(); ppm_e.view_beam(); ppm_c.view_beam()"
   ]
  },
  {
   "cell_type": "code",
   "execution_count": null,
   "metadata": {},
   "outputs": [],
   "source": [
    "ppm_p = mono_beamline_p.im_before_MIR2\n",
    "ppm_e = mono_beamline_e.im_before_MIR2\n",
    "ppm_c = mono_beamline_c.im_before_MIR2\n",
    "x_range = ppm_p.get_x_width(); y_range = ppm_p.get_y_width()\n",
    "image_name = '4_before_HRM_MIR2'\n",
    "\n",
    "plot_phase_comparison(ppm_p, ppm_e, ppm_c, x_range, y_range, image_name=image_name)\n",
    "plt.savefig(dir_phase+'phase_monobeam_'+image_name+'.png')\n",
    "ppm_p.view_beam(); ppm_e.view_beam(); ppm_c.view_beam()"
   ]
  },
  {
   "cell_type": "code",
   "execution_count": null,
   "metadata": {},
   "outputs": [],
   "source": [
    "ppm_p = mono_beamline_p.im_output\n",
    "ppm_e = mono_beamline_e.im_output\n",
    "ppm_c = mono_beamline_c.im_output\n",
    "x_range = ppm_p.get_x_width(); y_range = ppm_p.get_y_width()\n",
    "image_name = '5_output'\n",
    "\n",
    "plot_phase_comparison(ppm_p, ppm_e, ppm_c, x_range, y_range, image_name=image_name)\n",
    "plt.savefig(dir_phase+'phase_monobeam_'+image_name+'.png')\n",
    "ppm_p.view_beam(); ppm_e.view_beam(); ppm_c.view_beam()"
   ]
  },
  {
   "cell_type": "markdown",
   "metadata": {},
   "source": [
    "### Adding time domain simulation and see what pulse looks like after being corrected..."
   ]
  },
  {
   "cell_type": "code",
   "execution_count": null,
   "metadata": {},
   "outputs": [],
   "source": [
    "%%capture capt\n",
    "screen_names = ['im_input','im_after_HHLM4','im_focus','im_output']\n",
    "\n",
    "# perfect case\n",
    "beam_params['photonEnergy'] = E0\n",
    "pulse_p = beam.Pulse(beam_params=beam_params, unit_spectrum=True, spectral_width=40e-3, N=100)\n",
    "pulse_p.propagate(beamline=mono_beamline_p,screen_names=screen_names)\n",
    "\n",
    "# shapeError\n",
    "beam_params['photonEnergy'] = E0\n",
    "pulse_e = beam.Pulse(beam_params=beam_params, unit_spectrum=True, spectral_width=40e-3, N=100)\n",
    "pulse_e.propagate(beamline=mono_beamline_e,screen_names=screen_names)\n",
    "\n",
    "# shapeError with phase corrector\n",
    "beam_params['photonEnergy'] = E0\n",
    "pulse_c = beam.Pulse(beam_params=beam_params, unit_spectrum=True, spectral_width=40e-3, N=100)\n",
    "pulse_c.propagate(beamline=mono_beamline_c,screen_names=screen_names)\n",
    "\n",
    "dir_profile = dir_plot+'profiles_{}%/'.format(power_percentage); make_dir(dir_profile)"
   ]
  },
  {
   "cell_type": "code",
   "execution_count": null,
   "metadata": {},
   "outputs": [],
   "source": [
    "''' projection '''\n",
    "for i,screen_name in enumerate(screen_names):\n",
    "    try:\n",
    "        pulse_p.imshow_projection(screen_name); plt.savefig(dir_profile+'projection_{}_perfect.png'.format(i+1))\n",
    "        pulse_e.imshow_projection(screen_name); plt.savefig(dir_profile+'projection_{}_error_only.png'.format(i+1))\n",
    "        pulse_c.imshow_projection(screen_name); plt.savefig(dir_profile+'projection_{}_phase_corrector.png'.format(i+1))\n",
    "    except:\n",
    "        print(screen_name, 'failed')\n"
   ]
  },
  {
   "cell_type": "code",
   "execution_count": null,
   "metadata": {},
   "outputs": [],
   "source": [
    "''' energy slices '''\n",
    "for i,screen_name in enumerate(screen_names):\n",
    "    try:\n",
    "        pulse_p.imshow_energy_slice(screen_name); plt.savefig(dir_profile+'spectrum_{}_perfect.png'.format(i+1))\n",
    "        pulse_e.imshow_energy_slice(screen_name); plt.savefig(dir_profile+'spectrum_{}_error_only.png'.format(i+1))\n",
    "        pulse_c.imshow_energy_slice(screen_name); plt.savefig(dir_profile+'spectrum_{}_phase_corrector.png'.format(i+1))\n",
    "    except:\n",
    "        print(screen_name, 'failed')\n"
   ]
  },
  {
   "cell_type": "code",
   "execution_count": null,
   "metadata": {},
   "outputs": [],
   "source": [
    "''' plot time slices '''\n",
    "shift = 0\n",
    "for i,screen_name in enumerate(screen_names):\n",
    "    try:\n",
    "        pulse_p.imshow_time_slice(screen_name, shift=shift); plt.savefig(dir_profile+'tilt_{}_perfect.png'.format(i+1))\n",
    "        pulse_e.imshow_time_slice(screen_name, shift=shift); plt.savefig(dir_profile+'tilt_{}_error_only.png'.format(i+1))\n",
    "        pulse_c.imshow_time_slice(screen_name, shift=shift); plt.savefig(dir_profile+'tilt_{}_phase_corrector.png'.format(i+1))\n",
    "    except:\n",
    "        print(screen_name, 'failed')"
   ]
  },
  {
   "cell_type": "code",
   "execution_count": null,
   "metadata": {},
   "outputs": [],
   "source": [
    "''' diagnostics '''\n",
    "# perfect\n",
    "c, pulse_duration0 = pulse_p.pulse_duration('im_output')\n",
    "pulse_tilt0 = pulse_p.pulsefront_tilt('im_output')\n",
    "spatial_chirp0 = pulse_p.spatial_chirp('im_output')\n",
    "energy_bandwidth0 = pulse_p.pulse_bandwidth('im_output')\n",
    "throughput0 = pulse_p.throughput('im_input','im_output')\n",
    "print('duration {}fs'.format(pulse_duration0))\n",
    "print('tilt {}fs/um'.format(pulse_tilt0))\n",
    "print('spatial chirp {}meV/um'.format(spatial_chirp0*1e3))\n",
    "print('bandwidth {}meV'.format(energy_bandwidth0*1e3))\n",
    "print('throughput {}%'.format(throughput0*1e2))\n",
    "np.savetxt(dir_plot+'diagnostics_perfect.txt',np.array([pulse_duration0, pulse_tilt0, spatial_chirp0*1e3, energy_bandwidth0*1e3]), delimiter=',')\n",
    "\n",
    "# shapeError with phase corrector\n",
    "c, pulse_duration1 = pulse_c.pulse_duration('im_output')\n",
    "pulse_tilt1 = pulse_c.pulsefront_tilt('im_output')\n",
    "spatial_chirp1 = pulse_c.spatial_chirp('im_output')\n",
    "energy_bandwidth1 = pulse_c.pulse_bandwidth('im_output')\n",
    "throughput1 = pulse_c.throughput('im_input','im_output')\n",
    "print('\\nduration {}fs'.format(pulse_duration1))\n",
    "print('tilt {}fs/um'.format(pulse_tilt1))\n",
    "print('spatial chirp {}meV/um'.format(spatial_chirp1*1e3))\n",
    "print('bandwidth {}meV'.format(energy_bandwidth1*1e3))\n",
    "print('throughput {}%'.format(throughput1*1e2))\n",
    "np.savetxt(dir_plot+'diagnostics_corrector_'+fname_error+'.txt',np.array([pulse_duration1, pulse_tilt1, spatial_chirp1*1e3, energy_bandwidth1*1e3]), delimiter=',')\n"
   ]
  },
  {
   "cell_type": "code",
   "execution_count": null,
   "metadata": {},
   "outputs": [],
   "source": [
    "import winsound\n",
    "winsound.Beep(1500, 3000)"
   ]
  }
 ],
 "metadata": {
  "kernelspec": {
   "display_name": "Python 3",
   "language": "python",
   "name": "python3"
  },
  "language_info": {
   "codemirror_mode": {
    "name": "ipython",
    "version": 3
   },
   "file_extension": ".py",
   "mimetype": "text/x-python",
   "name": "python",
   "nbconvert_exporter": "python",
   "pygments_lexer": "ipython3",
   "version": "3.6.13"
  }
 },
 "nbformat": 4,
 "nbformat_minor": 4
}
