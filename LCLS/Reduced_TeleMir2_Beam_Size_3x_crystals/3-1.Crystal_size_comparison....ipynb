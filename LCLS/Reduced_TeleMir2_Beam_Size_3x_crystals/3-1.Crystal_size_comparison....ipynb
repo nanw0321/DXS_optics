{
 "cells": [
  {
   "cell_type": "code",
   "execution_count": 1,
   "metadata": {},
   "outputs": [],
   "source": [
    "from Functions import *\n",
    "import winsound"
   ]
  },
  {
   "cell_type": "markdown",
   "metadata": {},
   "source": [
    "# Preliminary"
   ]
  },
  {
   "cell_type": "code",
   "execution_count": 2,
   "metadata": {
    "tags": []
   },
   "outputs": [],
   "source": [
    "def define_beamline_normal(\n",
    "    E0, m1_p=185.0, m1_q=-25.6, m2_p=141.6, m2_q=1e5,\n",
    "    HHLM_type='2DCM', HHLM_offset=20e-3, pair_distance=200e-3,\n",
    "    slit_width=3e-6, f1=10.0, f2=10.0,\n",
    "    hkl1 = [1,1,1], alphaAsym1 = 0.0,\n",
    "    hkl2 = [2,2,0], alphaAsym2 = 0.0,\n",
    "    hkl3 = [5,5,5], alphaAsym3 = 15.0,\n",
    "    shapeErrors=[None for i in range(6)],\n",
    "    l_crystal=[1e-1 for i in range(6)],\n",
    "    w_crystal = [5e-3 for i in range(6)]):\n",
    "    \n",
    "    z_s = 650\n",
    "\n",
    "    # viewing point - upstream of monochromator\n",
    "    im_input = optics.PPM('im_input', z=184+z_s, FOV=5e-3, N=512)\n",
    "    \n",
    "    Telescope_devices = define_Telescope(E0, m1_p=m1_p, m1_q=m1_q, m2_p=m2_p, m2_q=m2_q)\n",
    "    \n",
    "    if HHLM_type == '2DCM':\n",
    "        HHLM_devices = define_HHLM_2DCM(E0,\n",
    "                                    HHLM_offset=HHLM_offset,\n",
    "                                    pair_distance=pair_distance,\n",
    "                                    hkl1=hkl1, alphaAsym1=alphaAsym1,\n",
    "                                    hkl2=hkl2, alphaAsym2=alphaAsym2,\n",
    "                                    shapeErrors=shapeErrors,\n",
    "                                    l_crystal=l_crystal,\n",
    "                                    w_crystal = w_crystal)\n",
    "    elif HHLM_type == 'Zigzag':\n",
    "        HHLM_devices = define_HHLM_Zigzag(E0,\n",
    "                                    HHLM_offset=HHLM_offset,\n",
    "                                    pair_distance=pair_distance,\n",
    "                                    hkl1=hkl1, alphaAsym1=alphaAsym1,\n",
    "                                    hkl2=hkl2, alphaAsym2=alphaAsym2,\n",
    "                                    shapeErrors=shapeErrors,\n",
    "                                    l_crystal=l_crystal,\n",
    "                                    w_crystal = w_crystal)\n",
    "    \n",
    "    HRM_devices = define_HRM(E0, f1=f1, f2=f2, slit_width=slit_width,\n",
    "                            hkl=hkl3, alphaAsym=alphaAsym3,\n",
    "                            shapeErrors=shapeErrors,\n",
    "                            l_crystal=l_crystal,\n",
    "                            w_crystal=w_crystal)\n",
    "\n",
    "    all_devices = [im_input] + Telescope_devices + HHLM_devices + HRM_devices\n",
    "    \n",
    "    mono_beamline = beamline.Beamline(all_devices, ordered=True)\n",
    "    return all_devices, mono_beamline"
   ]
  },
  {
   "cell_type": "markdown",
   "metadata": {},
   "source": [
    "### 1. common simulation parameters"
   ]
  },
  {
   "cell_type": "code",
   "execution_count": 3,
   "metadata": {
    "tags": []
   },
   "outputs": [
    {
     "name": "stdout",
     "output_type": "stream",
     "text": [
      "185.0 -74.08444834069877 189.53436487067424\n",
      "path exists\n",
      "path exists\n",
      "\n",
      "CWD: output/9000eV_2DCM_111-9_440-38.3_20.0mm/\n"
     ]
    }
   ],
   "source": [
    "##### ''' Beam parameters '''\n",
    "N = 1024          # number of sampling points\n",
    "E0 = 9000        # photon energy [eV]\n",
    "\n",
    "# parameter dictionary. z_source is in LCLS coordinates (20 meters upstream of undulator exit)\n",
    "beam_params = {\n",
    "    'photonEnergy': E0,\n",
    "    'N': N,\n",
    "    'sigma_x': 23e-6,\n",
    "    'sigma_y': 23e-6,\n",
    "    'rangeFactor': 5,\n",
    "    'scaleFactor': 10,\n",
    "    'z_source': 650\n",
    "}\n",
    "\n",
    "##### common simulation parameters\n",
    "m1_p = 185.0     # mirror 1 source distance\n",
    "\n",
    "# calculate beam size at mirror 1\n",
    "wavelength = 1239.84193e-9/E0\n",
    "Rayleigh_length = np.pi*beam_params['sigma_x']**2/wavelength\n",
    "beam_width_z = 2.35*beam_params['sigma_x'] * np.sqrt(1+np.square((m1_p)/Rayleigh_length))    # 2 x FWHM\n",
    "\n",
    "# estimate m2_p geometrically\n",
    "beam_size_factor = 0.8\n",
    "m2_p = 2.65e-3*beam_size_factor/(2.65e-3*beam_size_factor-beam_width_z)*115\n",
    "m1_q = 115.0 - m2_p\n",
    "\n",
    "# m2_p = 167.84807898562158    # optimzied 9keV-111-440\n",
    "# m2_p = 167.8475572450024    # optimized 9keV-440-553\n",
    "# m2_p = 154.0319268917302    # optimized 11keV\n",
    "m2_p = 189.53436487067424    # optimized 9keV-111-440 80% size\n",
    "\n",
    "print(m1_p, m1_q, m2_p)\n",
    "\n",
    "f1 = 10.0; f2 = 10.0            # f1: crystal-mirror distance, f2: mirror focal distance\n",
    "\n",
    "HHLM_type = '2DCM'              # 2DCM or Zigzag\n",
    "HHLM_offset=20e-3\n",
    "pair_distance=200e-3\n",
    "hkl1 = [1,1,1]; alphaAsym1 = 9    # asymmetry angle for the 1st pair of HHLM crystal\n",
    "hkl2 = [4,4,0]; alphaAsym2 = 38.3   # ````````````````````````2nd pair of HHLM crystal\n",
    "hkl3 = [4,4,0]; alphaAsym3 = 15.0   # ````````````````````````2nd and 3rd HRM crystal\n",
    "\n",
    "# list of crystals\n",
    "crystals = np.array(['HHLM1', 'HHLM2', 'HHLM3', 'HHLM4', 'C1', 'C2']); n_crys = len(crystals)\n",
    "\n",
    "##### I/O\n",
    "dir_out = 'output/'; make_dir(dir_out)\n",
    "dir_plot = dir_out+'{}eV_{}_{}-{}_{}-{}_{}mm/'.format(E0, HHLM_type,\n",
    "                                          hkl1[0]*100+hkl1[1]*10+hkl1[2], alphaAsym1,\n",
    "                                          hkl2[0]*100+hkl2[1]*10+hkl2[2], alphaAsym2,\n",
    "                                          HHLM_offset*1e3); make_dir(dir_plot)\n",
    "print('\\nCWD:',dir_plot)"
   ]
  },
  {
   "cell_type": "markdown",
   "metadata": {},
   "source": [
    "### 2. calculate crystal dimensions and slit width"
   ]
  },
  {
   "cell_type": "code",
   "execution_count": 4,
   "metadata": {
    "tags": []
   },
   "outputs": [],
   "source": [
    "%%capture capt\n",
    "\n",
    "# simulation parameters for the normal condition\n",
    "slit_width = 1e-1\n",
    "shapeErrors = [None for i in range(6)]\n",
    "l_crystal = [1e-1 for i in range(6)]\n",
    "w_crystal = [5e-3 for i in range(6)]\n",
    "\n",
    "mono_devices_calc, mono_beamline_calc = define_beamline_normal(E0,\n",
    "                               m1_p=m1_p, m1_q=m1_q, m2_p=m2_p,\n",
    "                               HHLM_type=HHLM_type,\n",
    "                               HHLM_offset=HHLM_offset,\n",
    "                               pair_distance=pair_distance,\n",
    "                               slit_width=slit_width, f1=f1, f2=f2,\n",
    "                               hkl1=hkl1, alphaAsym1=alphaAsym1,\n",
    "                               hkl2=hkl2, alphaAsym2=alphaAsym2,\n",
    "                               hkl3=hkl3, alphaAsym3=alphaAsym3,\n",
    "                               shapeErrors=[None for i in range(6)],\n",
    "                               l_crystal=l_crystal,\n",
    "                               w_crystal=w_crystal)\n",
    "\n",
    "b1_calc = beam.Beam(beam_params=beam_params)\n",
    "b2_calc = mono_beamline_calc.propagate_beamline(b1_calc)"
   ]
  },
  {
   "cell_type": "code",
   "execution_count": 5,
   "metadata": {
    "tags": []
   },
   "outputs": [
    {
     "name": "stdout",
     "output_type": "stream",
     "text": [
      "bragg angle: [12.696 12.691 45.849 45.847 45.847 45.847]\n",
      "asymmetry: [ -9.    9.  -38.3  38.3   0.   15. ]\n",
      "beam size: [6.092 1.063 8.049 1.065 1.065 0.625] mm\n",
      "footprint: [32.965 32.964 16.182 16.182  2.968  2.439] mm\n",
      "position: [955.      955.04214 955.24214 955.24154 960.      959.99941] m\n",
      "\n",
      "calculated slit width: 1.03um\n",
      "actual slit width: 3.0um\n",
      "\n"
     ]
    }
   ],
   "source": [
    "# get crytal properties\n",
    "beta0s = []; braggs = []; asyms = []; OE_z = []\n",
    "for device in mono_devices_calc:\n",
    "    if device.name in crystals:\n",
    "        beta0s.append(device.beta0)\n",
    "        braggs.append(np.rad2deg(device.bragg))\n",
    "        asyms.append(np.rad2deg(device.alphaAsym))\n",
    "        OE_z.append(device.z)\n",
    "\n",
    "# calculate beam FWHM after each crystal\n",
    "wx1, wy1 = mono_beamline_calc.im_after_HHLM1.beam_analysis(mono_beamline_calc.im_after_HHLM1.get_profile_x(), mono_beamline_calc.im_after_HHLM1.get_profile_y())[2:4]\n",
    "wx2, wy2 = mono_beamline_calc.im_after_HHLM2.beam_analysis(mono_beamline_calc.im_after_HHLM2.get_profile_x(), mono_beamline_calc.im_after_HHLM2.get_profile_y())[2:4]\n",
    "wx3, wy3 = mono_beamline_calc.im_after_HHLM3.beam_analysis(mono_beamline_calc.im_after_HHLM3.get_profile_x(), mono_beamline_calc.im_after_HHLM3.get_profile_y())[2:4]\n",
    "wx4, wy4 = mono_beamline_calc.im_after_HHLM4.beam_analysis(mono_beamline_calc.im_after_HHLM4.get_profile_x(), mono_beamline_calc.im_after_HHLM4.get_profile_y())[2:4]\n",
    "wx5, wy5 = mono_beamline_calc.im_after_C1.beam_analysis(mono_beamline_calc.im_after_C1.get_profile_x(), mono_beamline_calc.im_after_C1.get_profile_y())[2:4]\n",
    "wx6, wy6 = mono_beamline_calc.im_after_C2.beam_analysis(mono_beamline_calc.im_after_C2.get_profile_x(), mono_beamline_calc.im_after_C2.get_profile_y())[2:4]\n",
    "beam_size = np.array([wx1, wx2, wx3, wx4, wx5, wx6])    # FWHM\n",
    "\n",
    "# crystal lengths (long) and widths (short) [m]\n",
    "l_crystal = np.divide(beam_size*2, np.sin(beta0s))\n",
    "w_crystal = np.array([wy1, wy2, wy3, wy4, wy5, wy6])*2\n",
    "\n",
    "print('bragg angle: {}'.format(np.round(braggs,3)))\n",
    "print('asymmetry: {}'.format(np.round(asyms,3)))\n",
    "print('beam size: {} mm'.format(np.round(beam_size*1e3, 3)))\n",
    "print('footprint: {} mm'.format(np.round(l_crystal*1e3, 3)))\n",
    "print('position: {} m\\n'.format(np.round(OE_z, 5)))\n",
    "\n",
    "\n",
    "# calculate slit width\n",
    "slit_width = calc_slit_width(wx6*2, b2_calc.lambda0, mono_beamline_calc.mir1.q)\n",
    "print('calculated slit width: {}um'.format(round(slit_width*1e6,2)))\n",
    "\n",
    "if slit_width < 3e-6: slit_width = 3e-6\n",
    "print('actual slit width: {}um\\n'.format(round(slit_width*1e6,2)))"
   ]
  },
  {
   "cell_type": "markdown",
   "metadata": {},
   "source": [
    "### 3. load shapeErrors (1x, old profile)"
   ]
  },
  {
   "cell_type": "code",
   "execution_count": 6,
   "metadata": {},
   "outputs": [
    {
     "name": "stdout",
     "output_type": "stream",
     "text": [
      "100%_shapeError_29.94W_0.0W_0.0W_0.0W_0.0W_0.0W\n",
      "(5637, 2)\n"
     ]
    },
    {
     "name": "stderr",
     "output_type": "stream",
     "text": [
      "c:\\users\\nanw0\\anaconda3\\envs\\lcls\\lib\\site-packages\\ipykernel_launcher.py:38: RuntimeWarning: divide by zero encountered in true_divide\n"
     ]
    },
    {
     "name": "stdout",
     "output_type": "stream",
     "text": [
      "-992.6758802639999 -24620.0\n"
     ]
    },
    {
     "data": {
      "image/png": "[encoded data removed]",
      "text/plain": [
       "<Figure size 504x720 with 3 Axes>"
      ]
     },
     "metadata": {
      "needs_background": "light"
     },
     "output_type": "display_data"
    }
   ],
   "source": [
    "power_percentage = 100\n",
    "if_pad = 0\n",
    "\n",
    "crystal_powers = np.array([29.9399, 0.8317, 13.1927, 0.2418, 0.0886, 0.2848])*power_percentage/100    # crystal power for 9keV 2DCM-111-440 SASE\n",
    "# crystal_powers = np.array([2.2500, 2.1438, 20.5931, 5.4141, 2.4490, 2.3313])*power_percentage/100    # crystal power for 9keV 2DCM-440-553 self-seeding\n",
    "# crystal_powers = np.array([32.5683, 0.6278, 10.1661, 0.2553, 0.4179, 0.5307])*power_percentage/100    # crytal power for 11keV 2DCM-111-440 SASE\n",
    "\n",
    "crystal_powers *= np.array([1,0,0,0,0,0])\n",
    "\n",
    "# directories\n",
    "dir_profile = '../DXS_Xtals_FEA4WFS/{}/'.format(HHLM_type)\n",
    "\n",
    "# get file name based on crystal powers\n",
    "fname_error = '{}%_shapeError'.format(power_percentage)\n",
    "for i in range(n_crys):\n",
    "    fname_error += '_{}W'.format(round(crystal_powers[i],3))\n",
    "print(fname_error)\n",
    "\n",
    "# holders\n",
    "shapeErrors = [None for i in range(n_crys)]\n",
    "x_mirs      = [None for i in range(n_crys)]\n",
    "y_mirs      = [None for i in range(n_crys)]\n",
    "\n",
    "if HHLM_type == 'Zigzag':\n",
    "    crystal_profile_powers = np.array([\n",
    "        [73.15, 16.53, 0.029, 0.027, 0.026, 0.03],\n",
    "        [73.15, 16.79, 0.015, 0.015, 0.014, 0.013],\n",
    "        [4.51, 50.1, 1.78, 1.69, 1.61, 1.88]\n",
    "    ])\n",
    "elif HHLM_type == '2DCM':\n",
    "    crystal_profile_powers = np.array([\n",
    "        [73.15, 0.027, 16.53, 0.029, 0.026, 0.03],\n",
    "        [73.15, 0.015, 16.79, 0.015, 0.014, 0.013],\n",
    "        [4.51, 1.69, 50.1, 1.78, 1.61, 1.88]\n",
    "    ])\n",
    "\n",
    "# choose shapeError profiles with the closest power\n",
    "ratio_power = crystal_profile_powers/np.stack([crystal_powers for i in range(3)])\n",
    "ratio_power[ratio_power<1] = 1/(ratio_power[ratio_power<1])\n",
    "options = ratio_power.argmin(axis=0)+1\n",
    "\n",
    "# load\n",
    "for i, crystal in enumerate(crystals):\n",
    "    if crystal_powers[i] == 0: continue\n",
    "    # load profiles from file\n",
    "    dy, xx, zz = load_crystal_data(dir_profile, crystal, options[i])\n",
    "    # proportionality constant due to power and crystal dimension\n",
    "    height_factor1 = crystal_powers[i] / crystal_profile_powers[options[i]-1, i]    \n",
    "    height_factor2 = (l_crystal[i]*1e3/(xx.max()-xx.min()))*(w_crystal[i]*1e3/(zz.max()-zz.min()))\n",
    "    shapeErrors[i] = dy*1e6 * height_factor1 / height_factor2    # [nm]\n",
    "    nx, ny = shapeErrors[i].shape; end_val = shapeErrors[i].max()\n",
    "    if if_pad == 1:\n",
    "        # stretch in both directions\n",
    "        shapeErrors[i] = np.pad(shapeErrors[i],\n",
    "                                pad_width=((nx,nx),(ny,ny)), mode='linear_ramp',\n",
    "                                end_values = ((end_val,end_val),(end_val,end_val)))\n",
    "        # modify dimensions for the new profile\n",
    "        l_crystal[i] *= 3; w_crystal[i] *= 3\n",
    "        # new crytal axis\n",
    "        x_mirs[i] = np.linspace(-l_crystal[i]/2, l_crystal[i]/2, ny*3)\n",
    "        y_mirs[i] = np.linspace(-w_crystal[i]/2, w_crystal[i]/2, nx*3)\n",
    "    else:\n",
    "        x_mirs[i] = np.linspace(-l_crystal[i]/2, l_crystal[i]/2, ny)\n",
    "        y_mirs[i] = np.linspace(-w_crystal[i]/2, w_crystal[i]/2, nx)\n",
    "\n",
    "clim_list = []\n",
    "# plot\n",
    "n_subplot = np.sum(crystal_powers!=0)\n",
    "plt.figure(figsize=(n_subplot*5+2, 10))\n",
    "i_plot = 0\n",
    "for i in range(n_crys):\n",
    "    if crystal_powers[i] == 0: continue\n",
    "    \n",
    "    beam_projected_size = np.divide(beam_size, np.sin(beta0s))[i]*1e3   \n",
    "    i_plot += 1\n",
    "    plt.subplot(2, n_subplot, i_plot)\n",
    "    plt.plot(x_mirs[i]*1e3, shapeErrors[i][1024,:], label=crystals[i])\n",
    "    plt.legend(); plt.xlabel('x (mm)'); plt.ylabel('height (nm)')\n",
    "    plt.title('{}, {}mm FWHM'.format(crystals[i], round(beam_projected_size,2)))\n",
    "    plt.subplot(2, n_subplot, i_plot+n_subplot)\n",
    "    plt.imshow(shapeErrors[i], cmap='jet',\n",
    "              extent = [x_mirs[i].min()*1e3, x_mirs[i].max()*1e3, y_mirs[i].max()*1e3, y_mirs[i].min()*1e3])\n",
    "    plt.colorbar(); plt.xlabel('x (mm)'); plt.ylabel('y (mm)'); plt.axis('tight')\n",
    "    \n",
    "    plt.xlim([-beam_projected_size, beam_projected_size])\n",
    "    clim_list.append([shapeErrors[i].min(),shapeErrors[i].max()])\n",
    "    \n",
    "plt.savefig(dir_plot+'Comp_1x_'+fname_error+'.png')\n",
    "\n",
    "print(zz.min()*1e3, xx.min()*1e3)"
   ]
  },
  {
   "cell_type": "code",
   "execution_count": null,
   "metadata": {},
   "outputs": [],
   "source": []
  },
  {
   "cell_type": "markdown",
   "metadata": {},
   "source": [
    "### 3. load shapeErrors (3x)"
   ]
  },
  {
   "cell_type": "code",
   "execution_count": 7,
   "metadata": {},
   "outputs": [
    {
     "name": "stdout",
     "output_type": "stream",
     "text": [
      "bragg angle: [12.696 12.691 45.849 45.847 45.847 45.847]\n",
      "asymmetry: [ -9.    9.  -38.3  38.3   0.   15. ]\n",
      "beam size: [6.092 1.063 8.049 1.065 1.065 0.625] mm\n",
      "footprint: [32.965 32.964 16.182 16.182  2.968  2.439] mm\n",
      "position: [955.      955.04214 955.24214 955.24154 960.      959.99941] m\n",
      "\n",
      "calculated slit width: 1.03um\n",
      "actual slit width: 3.0um\n",
      "\n"
     ]
    }
   ],
   "source": [
    "# get crytal properties\n",
    "beta0s = []; braggs = []; asyms = []; OE_z = []\n",
    "for device in mono_devices_calc:\n",
    "    if device.name in crystals:\n",
    "        beta0s.append(device.beta0)\n",
    "        braggs.append(np.rad2deg(device.bragg))\n",
    "        asyms.append(np.rad2deg(device.alphaAsym))\n",
    "        OE_z.append(device.z)\n",
    "\n",
    "# calculate beam FWHM after each crystal\n",
    "wx1, wy1 = mono_beamline_calc.im_after_HHLM1.beam_analysis(mono_beamline_calc.im_after_HHLM1.get_profile_x(), mono_beamline_calc.im_after_HHLM1.get_profile_y())[2:4]\n",
    "wx2, wy2 = mono_beamline_calc.im_after_HHLM2.beam_analysis(mono_beamline_calc.im_after_HHLM2.get_profile_x(), mono_beamline_calc.im_after_HHLM2.get_profile_y())[2:4]\n",
    "wx3, wy3 = mono_beamline_calc.im_after_HHLM3.beam_analysis(mono_beamline_calc.im_after_HHLM3.get_profile_x(), mono_beamline_calc.im_after_HHLM3.get_profile_y())[2:4]\n",
    "wx4, wy4 = mono_beamline_calc.im_after_HHLM4.beam_analysis(mono_beamline_calc.im_after_HHLM4.get_profile_x(), mono_beamline_calc.im_after_HHLM4.get_profile_y())[2:4]\n",
    "wx5, wy5 = mono_beamline_calc.im_after_C1.beam_analysis(mono_beamline_calc.im_after_C1.get_profile_x(), mono_beamline_calc.im_after_C1.get_profile_y())[2:4]\n",
    "wx6, wy6 = mono_beamline_calc.im_after_C2.beam_analysis(mono_beamline_calc.im_after_C2.get_profile_x(), mono_beamline_calc.im_after_C2.get_profile_y())[2:4]\n",
    "beam_size = np.array([wx1, wx2, wx3, wx4, wx5, wx6])    # FWHM\n",
    "\n",
    "# crystal lengths (long) and widths (short) [m]\n",
    "l_crystal = np.divide(beam_size*2, np.sin(beta0s))\n",
    "w_crystal = np.array([wy1, wy2, wy3, wy4, wy5, wy6])*4\n",
    "\n",
    "print('bragg angle: {}'.format(np.round(braggs,3)))\n",
    "print('asymmetry: {}'.format(np.round(asyms,3)))\n",
    "print('beam size: {} mm'.format(np.round(beam_size*1e3, 3)))\n",
    "print('footprint: {} mm'.format(np.round(l_crystal*1e3, 3)))\n",
    "print('position: {} m\\n'.format(np.round(OE_z, 5)))\n",
    "\n",
    "\n",
    "# calculate slit width\n",
    "slit_width = calc_slit_width(wx6*2, b2_calc.lambda0, mono_beamline_calc.mir1.q)\n",
    "print('calculated slit width: {}um'.format(round(slit_width*1e6,2)))\n",
    "\n",
    "if slit_width < 3e-6: slit_width = 3e-6\n",
    "print('actual slit width: {}um\\n'.format(round(slit_width*1e6,2)))"
   ]
  },
  {
   "cell_type": "code",
   "execution_count": 8,
   "metadata": {
    "scrolled": false
   },
   "outputs": [
    {
     "name": "stdout",
     "output_type": "stream",
     "text": [
      "(1849, 2)\n",
      "-1985.3517605299999 -24620.0\n"
     ]
    },
    {
     "data": {
      "image/png": "[encoded data removed]",
      "text/plain": [
       "<Figure size 504x720 with 3 Axes>"
      ]
     },
     "metadata": {
      "needs_background": "light"
     },
     "output_type": "display_data"
    }
   ],
   "source": [
    "if_pad = 0\n",
    "\n",
    "# directories\n",
    "dir_profile = '../DXS_Xtals_FEA4WFS_3x/n_fwhm_2/{}/'.format(HHLM_type)\n",
    "\n",
    "# holders\n",
    "shapeErrors = [None for i in range(n_crys)]\n",
    "x_mirs      = [None for i in range(n_crys)]\n",
    "y_mirs      = [None for i in range(n_crys)]\n",
    "\n",
    "# load\n",
    "for i, crystal in enumerate(crystals):\n",
    "    if crystal_powers[i] == 0: continue\n",
    "    # load profiles from file\n",
    "    dy, xx, zz = load_crystal_data(dir_profile, crystal, options[i])\n",
    "    # proportionality constant due to power and crystal dimension\n",
    "    height_factor1 = crystal_powers[i] / crystal_profile_powers[options[i]-1, i]    \n",
    "    height_factor2 = (l_crystal[i]*1e3/(xx.max()-xx.min()))*(w_crystal[i]*1e3/(zz.max()-zz.min()))\n",
    "    shapeErrors[i] = dy*1e6 * height_factor1 / height_factor2    # [nm]\n",
    "    nx, ny = shapeErrors[i].shape; end_val = shapeErrors[i].max()\n",
    "    if if_pad == 1:\n",
    "        # stretch in both directions\n",
    "        shapeErrors[i] = np.pad(shapeErrors[i],\n",
    "                                pad_width=((nx,nx),(ny,ny)), mode='linear_ramp',\n",
    "                                end_values = ((end_val,end_val),(end_val,end_val)))\n",
    "        # modify dimensions for the new profile\n",
    "        l_crystal[i] *= 3; w_crystal[i] *= 3\n",
    "        # new crytal axis\n",
    "        x_mirs[i] = np.linspace(-l_crystal[i]/2, l_crystal[i]/2, ny*3)\n",
    "        y_mirs[i] = np.linspace(-w_crystal[i]/2, w_crystal[i]/2, nx*3)\n",
    "    else:\n",
    "        x_mirs[i] = np.linspace(-l_crystal[i]/2, l_crystal[i]/2, ny)\n",
    "        y_mirs[i] = np.linspace(-w_crystal[i]/2, w_crystal[i]/2, nx)\n",
    "\n",
    "\n",
    "# plot\n",
    "n_subplot = np.sum(crystal_powers!=0)\n",
    "plt.figure(figsize=(n_subplot*5+2, 10))\n",
    "i_plot = 0\n",
    "for i in range(n_crys):\n",
    "    if crystal_powers[i] == 0: continue\n",
    "    \n",
    "    beam_projected_size = np.divide(beam_size, np.sin(beta0s))[i]*1e3   \n",
    "    i_plot += 1\n",
    "    plt.subplot(2, n_subplot, i_plot)\n",
    "    plt.plot(x_mirs[i]*1e3, shapeErrors[i][1024,:], label=crystals[i])\n",
    "    plt.legend(); plt.xlabel('x (mm)'); plt.ylabel('height (nm)')\n",
    "    plt.title('{}, {}mm FWHM'.format(crystals[i], round(beam_projected_size,2)))\n",
    "    plt.xlim([-beam_projected_size, beam_projected_size])\n",
    "    plt.subplot(2, n_subplot, i_plot+n_subplot)\n",
    "    plt.imshow(shapeErrors[i], cmap='jet',\n",
    "              extent = [x_mirs[i].min()*1e3, x_mirs[i].max()*1e3, y_mirs[i].max()*1e3, y_mirs[i].min()*1e3])\n",
    "    plt.colorbar(); plt.xlabel('x (mm)'); plt.ylabel('y (mm)'); plt.axis('tight')\n",
    "    \n",
    "    plt.xlim([-beam_projected_size, beam_projected_size])\n",
    "    plt.clim([clim_list[i][0],clim_list[i][1]])\n",
    "    \n",
    "plt.savefig(dir_plot+'Comp_3x_'+fname_error+'.png')\n",
    "\n",
    "print(zz.min()*1e3, xx.min()*1e3)"
   ]
  },
  {
   "cell_type": "code",
   "execution_count": null,
   "metadata": {},
   "outputs": [],
   "source": []
  }
 ],
 "metadata": {
  "kernelspec": {
   "display_name": "Python 3",
   "language": "python",
   "name": "python3"
  },
  "language_info": {
   "codemirror_mode": {
    "name": "ipython",
    "version": 3
   },
   "file_extension": ".py",
   "mimetype": "text/x-python",
   "name": "python",
   "nbconvert_exporter": "python",
   "pygments_lexer": "ipython3",
   "version": "3.6.13"
  }
 },
 "nbformat": 4,
 "nbformat_minor": 4
}
