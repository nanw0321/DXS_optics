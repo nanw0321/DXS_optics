{
 "cells": [
  {
   "cell_type": "code",
   "execution_count": null,
   "metadata": {},
   "outputs": [],
   "source": [
    "from Functions import *\n",
    "import scipy.interpolate as interpolate\n",
    "import winsound"
   ]
  },
  {
   "cell_type": "code",
   "execution_count": null,
   "metadata": {},
   "outputs": [],
   "source": [
    "''' Beam parameters '''\n",
    "N = 1024\t\t\t# number of sampling points\n",
    "E0 = 9481\t\t\t# photon energy [eV]\n",
    "tau = 400\t\t\t# pulse duration [fs]\n",
    "window = 50000\t\t# total simulation time window [fs]\n",
    "\n",
    "# parameter dictionary. z_source is in LCLS coordinates (20 meters upstream of undulator exit)\n",
    "beam_params = {\n",
    "\t'photonEnergy': E0,\n",
    "\t'N': N,\n",
    "\t'sigma_x': 23e-6,\n",
    "\t'sigma_y': 23e-6,\n",
    "\t'rangeFactor': 5,\n",
    "\t'scaleFactor': 10,\n",
    "\t'z_source': 650-26\n",
    "}"
   ]
  },
  {
   "cell_type": "code",
   "execution_count": null,
   "metadata": {},
   "outputs": [],
   "source": [
    "##### I/O\n",
    "dir_out = 'output/'; make_dir(dir_out)\n",
    "dir_ev = dir_out + '{}eV/'.format(E0); make_dir(dir_ev)\n",
    "dir_plot = dir_ev + 'beam_profiles/'; make_dir(dir_ev)\n",
    "\n",
    "print('\\nCWD:',dir_plot)"
   ]
  },
  {
   "cell_type": "code",
   "execution_count": null,
   "metadata": {},
   "outputs": [],
   "source": [
    "##### OE parameters\n",
    "l_crystal = [0.049240000000000006, 0.03546, 0.03546, 0.049240000000000006, 0.00368, 0.00296]\n",
    "w_crystal = [0.001985351760528, 0.001985351760528, 0.001985351760528, 0.001985351760528, 0.001985351760528, 0.001985351760528]\n",
    "shapeErrors = [None for i in range(6)]\n"
   ]
  },
  {
   "cell_type": "code",
   "execution_count": null,
   "metadata": {},
   "outputs": [],
   "source": [
    "def define_beamline(\n",
    "    E0, slit_width, m2_p=175.332, shapeErrors=[None for i in range(6)]):\n",
    "    \n",
    "    z_s = 650\n",
    "\n",
    "    # viewing point - upstream of monochromator\n",
    "    im_input = optics.PPM('im_input', z=184+z_s, FOV=5e-3, N=256)\n",
    "    \n",
    "    ## Telescope\n",
    "    m1 = optics.CurvedMirror('M1',p=185,q=-58,length=1,z=185+z_s,alpha=2.65e-3)\n",
    "    im_after_T1 = optics.PPM('im_after_T1', z=m1.z+.01, FOV=5e-3, N=256)\n",
    "    \n",
    "    m2 = optics.CurvedMirror('M2',p=m2_p,q=1e5,length=1,z=300+z_s,alpha=2.65e-3,orientation=2)\n",
    "    im_after_T2 = optics.PPM('im_after_T2', z=m2.z+.01, FOV=5e-3, N=256)\n",
    "    \n",
    "    ## HHLM\n",
    "    asym = np.deg2rad(17)\n",
    "    hhlm1 = optics.Crystal('HHLM1', hkl=[2,2,0], length=l_crystal[0], width=w_crystal[0], z=305+z_s, alphaAsym=-asym, E0=E0, \n",
    "                           orientation=0, pol='s', shapeError=shapeErrors[0])\n",
    "    im_after_HHLM1 = optics.PPM('im_after_HHLM1', FOV=30e-3,N=256,z=hhlm1.z+.01)\n",
    "    \n",
    "    hhlm2 = optics.Crystal('HHLM2', hkl=[4,4,0], length=l_crystal[1], width=w_crystal[1], z=hhlm1.z+139e-3, E0=E0,\n",
    "                           orientation=2, pol='s', shapeError=shapeErrors[1])\n",
    "    im_after_HHLM2 = optics.PPM('im_after_HHLM2', FOV=30e-3,N=256,z=hhlm2.z+.01)\n",
    "    \n",
    "    hhlm3 = optics.Crystal('HHLM3', hkl=[4,4,0], length=l_crystal[2], width=w_crystal[2], z=hhlm1.z+361e-3, E0=E0,\n",
    "                           orientation=0, pol='s', shapeError=shapeErrors[2])\n",
    "    im_after_HHLM3 = optics.PPM('im_after_HHLM3', FOV=30e-3,N=256,z=hhlm3.z+.01)\n",
    "    \n",
    "    hhlm4 = optics.Crystal('HHLM4', hkl=[2,2,0], length=l_crystal[3], width=w_crystal[3], z=hhlm1.z+.5, alphaAsym=asym, E0=E0,\n",
    "                           orientation=2, pol='s', shapeError=shapeErrors[3])\n",
    "    im_after_HHLM4 = optics.PPM('im_after_HHLM4', FOV=30e-3,N=256,z=hhlm4.z+.01)\n",
    "    \n",
    "    ## HRM\n",
    "    alphaAsym = np.deg2rad(29.5)    # crystal asymmetry angle\n",
    "    hkl = [4,4,0]    # crystal plane\n",
    "    f1 = 10.    # crystal-lens/mirror distance\n",
    "    f2 = 10.    # lens/mirror focal distance\n",
    "    \n",
    "    # first crystal: symmetric reflection\n",
    "    crystal1 = optics.Crystal('C1', hkl=hkl, length=l_crystal[4], width=w_crystal[4], z=z_s+310, E0=E0, alphaAsym=0, \n",
    "                              orientation=0, pol='s', delta=0.e-6, shapeError=shapeErrors[4])\n",
    "    im_after_C1 = optics.PPM('im_after_C1', z=crystal1.z+.01, FOV=5e-3, N=256)\n",
    "\n",
    "    # second crystal: asymmetric reflection, orientation flipped relative to crystal1\n",
    "    crystal2 = optics.Crystal('C2', hkl=hkl, length=l_crystal[5], width=w_crystal[5], z=crystal1.z+.05, E0=E0,alphaAsym=alphaAsym, \n",
    "                              orientation=2, pol='s', delta=0e-6, shapeError=shapeErrors[5])\n",
    "\n",
    "    im_after_C2 = optics.PPM('im_after_C2', z=crystal2.z+.01, FOV=5e-3, N=256)\n",
    "    \n",
    "    # printing crystal incidence and reflection angles for confirmation\n",
    "    print('crystal 2 incidence angle: {:.2f} degrees'.format(crystal2.alpha*180/np.pi))\n",
    "    print('crystal 2 exit angle: {:.2f} degrees'.format(crystal2.beta0*180/np.pi))\n",
    "\n",
    "    # elliptical mirror with ~10 meter focal length\n",
    "    im_before_MIR1 = optics.PPM('im_before_MIR1', z=crystal2.z + f1 - .1, FOV=2e-3, N=256)\n",
    "    mir1 = optics.CurvedMirror('mir1', z=crystal2.z+f1, p=1e5, q=f2, length=1.0, width=5e-3, alpha=3e-3, orientation=0)\n",
    "    im_after_MIR1 = optics.PPM('im_after_MIR1', z=mir1.z+.1, FOV=5e-3, N=256)\n",
    "\n",
    "    # slit at focus\n",
    "    slit = optics.Slit('Slit', z=mir1.z+f2, x_width=slit_width, y_width=2e-3)\n",
    "    print('slit width: {} um'.format(slit.x_width*1e6))\n",
    "\n",
    "    # viewing point at focus\n",
    "    im_focus = optics.PPM('im_focus', z=mir1.z+f2 + 1e-3, FOV=1e-3, N=1024)\n",
    "\n",
    "    # elliptical mirror with ~10 meter focal length, for collimation\n",
    "    im_before_MIR2 = optics.PPM('im_before_MIR2', z=mir1.z+2*f2 -.1, FOV=2e-3, N=256)\n",
    "    mir2 = optics.CurvedMirror('mir2', z=mir1.z+2*f2, p=f2, q=1e5, length=1.0, width=5e-3, alpha=3e-3, orientation=2)\n",
    "    im_after_MIR2 = optics.PPM('im_after_MIR2', z=mir2.z+.1, FOV=2e-3, N=256)\n",
    "    \n",
    "    # third crystal, symmetric reflection, same orientation as crystal2\n",
    "    crystal3 = optics.Crystal('C3', hkl=hkl, length=10e-2, width=10e-3, z=mir2.z+f1, E0=E0,alphaAsym=-alphaAsym,\n",
    "                              orientation=2, pol='s')\n",
    "    im_after_C3 = optics.PPM('im_after_C3', z=crystal3.z+.01, FOV=5e-3, N=256)\n",
    "\n",
    "    # fourth crystal, asymmetric reflection, same orientation as crystal1\n",
    "    crystal4 = optics.Crystal('C4', hkl=hkl, length=10e-2, width=10e-3, z=crystal3.z+.05, E0=E0,alphaAsym=0, \n",
    "                              orientation=0, pol='s')\n",
    "    im_out = optics.PPM('im_out', z=crystal4.z+.1, FOV=5e-3, N=256)\n",
    "\n",
    "    # list of devices to propagate through\n",
    "    telescope_devices = [im_input, m1, im_after_T1, m2, im_after_T2]\n",
    "    HHLM_devices = [hhlm1, im_after_HHLM1, hhlm2, im_after_HHLM2, hhlm3, im_after_HHLM3, hhlm4, im_after_HHLM4]\n",
    "    HRM_devices = [crystal1,im_after_C1, crystal2,im_after_C2, im_before_MIR1,mir1,im_after_MIR1, slit,im_focus,\n",
    "               im_before_MIR2,mir2,im_after_MIR2, crystal3,im_after_C3, crystal4,im_out]\n",
    "    \n",
    "    all_devices = telescope_devices + HHLM_devices + HRM_devices\n",
    "    mono_beamline = beamline.Beamline(all_devices, ordered=True)\n",
    "    return mono_beamline"
   ]
  },
  {
   "cell_type": "markdown",
   "metadata": {},
   "source": [
    "### Calculate slit width"
   ]
  },
  {
   "cell_type": "code",
   "execution_count": null,
   "metadata": {
    "scrolled": false
   },
   "outputs": [],
   "source": [
    "%%capture capt\n",
    "##### perfect case\n",
    "mono_beamline = define_beamline(E0,200e-6)\n",
    "\n",
    "''' propagate '''\n",
    "b1 = beam.Beam(beam_params=beam_params)\n",
    "b2 = mono_beamline.propagate_beamline(b1)\n"
   ]
  },
  {
   "cell_type": "code",
   "execution_count": null,
   "metadata": {},
   "outputs": [],
   "source": [
    "def calc_slit_width(inbeam, lmbd, foc):\n",
    "    # inbeam is the beamsize (2x FWHM) after Crystal 2\n",
    "    # lmbd is wavelength of photon\n",
    "    # asym is asymmetry angle of Crystal 2\n",
    "    # foc is Mir1/Lens1 focal distance\n",
    "    # returns mono focus size in [m] at the Fourier plane\n",
    "    slt = 2*np.log(2)*lmbd*foc/np.pi/inbeam\n",
    "    return 2.11 * slt    # 2x FWHM with some error (~factor of 5%)\n",
    "\n",
    "wx = mono_beamline.im_after_C2.beam_analysis(mono_beamline.im_after_C2.get_profile_x(), mono_beamline.im_after_C2.get_profile_y())[2]\n",
    "slit_width = calc_slit_width(wx*2, b2.lambda0, mono_beamline.mir1.q)\n",
    "\n",
    "print('slit width: {}um\\n'.format(round(slit_width*1e6,2)))\n",
    "\n",
    "mono_beamline = define_beamline(E0,slit_width)"
   ]
  },
  {
   "cell_type": "markdown",
   "metadata": {},
   "source": [
    "### Beam profiles along the beamline"
   ]
  },
  {
   "cell_type": "code",
   "execution_count": null,
   "metadata": {},
   "outputs": [],
   "source": [
    "%%capture capt\n",
    "#### Time domain propagation\n",
    "beam_params['photonEnergy'] = E0\n",
    "\n",
    "pulse = beam.Pulse(beam_params=beam_params, unit_spectrum=True, spectral_width=40e-3, N=500)\n",
    "\n",
    "screen_names = ['im_input', 'im_after_T1', 'im_after_T2', 'im_after_HHLM1', 'im_after_HHLM2', 'im_after_HHLM3', 'im_after_HHLM4',\n",
    "    'im_after_C1','im_after_C2','im_before_MIR1','im_after_MIR1','im_focus','im_before_MIR2','im_after_MIR2','im_after_C3','im_out']\n",
    "\n",
    "# screen_names = ['im_focus', 'im_out']\n",
    "pulse.propagate(beamline=mono_beamline, screen_names=screen_names)\n"
   ]
  },
  {
   "cell_type": "code",
   "execution_count": null,
   "metadata": {},
   "outputs": [],
   "source": [
    "''' diagnostics '''\n",
    "c, pulse_duration0 = pulse.pulse_duration('im_out')\n",
    "pulse_tilt0 = pulse.pulsefront_tilt('im_out')\n",
    "spatial_chirp0 = pulse.spatial_chirp('im_out')\n",
    "energy_bandwidth0 = pulse.pulse_bandwidth('im_out')\n",
    "\n",
    "print('duration {}fs'.format(pulse_duration0))\n",
    "print('tilt {}fs/um'.format(pulse_tilt0))\n",
    "print('spatial chirp {}meV/um'.format(spatial_chirp0*1e3))\n",
    "print('bandwidth {}meV'.format(energy_bandwidth0*1e3))"
   ]
  },
  {
   "cell_type": "code",
   "execution_count": null,
   "metadata": {},
   "outputs": [],
   "source": [
    "''' projection '''\n",
    "dir_perfect = dir_ev + 'perfect_188/'; make_dir(dir_perfect)\n",
    "for screen_name in pulse.screens:\n",
    "    try:\n",
    "        pulse.imshow_projection(screen_name)\n",
    "        if if_close == 1:\n",
    "            plt.savefig(dir_perfect+'projection_{}_close.png'.format(screen_name))\n",
    "        else:\n",
    "            plt.savefig(dir_perfect+'projection_{}.png'.format(screen_name))\n",
    "    except:\n",
    "        print(screen_name, 'failed')"
   ]
  },
  {
   "cell_type": "code",
   "execution_count": null,
   "metadata": {},
   "outputs": [],
   "source": [
    "''' energy slices '''\n",
    "for screen_name in pulse.screens:\n",
    "    try:\n",
    "        pulse.imshow_energy_slice(screen_name)\n",
    "        if if_close == 1:\n",
    "            plt.savefig(dir_perfect+'spectrum_{}_close.png'.format(screen_name))\n",
    "        else:\n",
    "            plt.savefig(dir_perfect+'spectrum_{}.png'.format(screen_name))\n",
    "    except:\n",
    "        print(screen_name, 'failed')\n"
   ]
  },
  {
   "cell_type": "code",
   "execution_count": null,
   "metadata": {},
   "outputs": [],
   "source": [
    "''' plot time slices '''\n",
    "shift = 0\n",
    "for screen_name in pulse.screens:\n",
    "    try:\n",
    "        pulse.imshow_time_slice(screen_name, shift=shift)\n",
    "        if if_close == 1:\n",
    "            plt.savefig(dir_perfect+'tilt_{}_close.png'.format(screen_name))\n",
    "        else:\n",
    "            plt.savefig(dir_perfect+'tilt_{}.png'.format(screen_name))\n",
    "    except:\n",
    "        print(screen_name, 'failed')"
   ]
  },
  {
   "cell_type": "code",
   "execution_count": null,
   "metadata": {},
   "outputs": [],
   "source": [
    "import winsound\n",
    "winsound.Beep(1500, 3000)"
   ]
  },
  {
   "cell_type": "code",
   "execution_count": null,
   "metadata": {},
   "outputs": [],
   "source": []
  }
 ],
 "metadata": {
  "kernelspec": {
   "display_name": "Python 3",
   "language": "python",
   "name": "python3"
  },
  "language_info": {
   "codemirror_mode": {
    "name": "ipython",
    "version": 3
   },
   "file_extension": ".py",
   "mimetype": "text/x-python",
   "name": "python",
   "nbconvert_exporter": "python",
   "pygments_lexer": "ipython3",
   "version": "3.8.5"
  }
 },
 "nbformat": 4,
 "nbformat_minor": 4
}
