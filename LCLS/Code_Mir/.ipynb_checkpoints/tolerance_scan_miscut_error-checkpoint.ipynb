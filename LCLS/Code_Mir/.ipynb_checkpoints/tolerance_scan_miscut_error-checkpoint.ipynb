{
 "cells": [
  {
   "cell_type": "code",
   "execution_count": 7,
   "metadata": {},
   "outputs": [],
   "source": [
    "from Functions import *\n"
   ]
  },
  {
   "cell_type": "code",
   "execution_count": 8,
   "metadata": {},
   "outputs": [],
   "source": [
    "''' loop parameters '''\n",
    "NN = 2\n",
    "eta_list = 1e-6*np.linspace(-10, 10, NN)\n",
    "if_loop = 1\t\t\t# to loop or not to loop\n"
   ]
  },
  {
   "cell_type": "code",
   "execution_count": 9,
   "metadata": {},
   "outputs": [],
   "source": [
    "''' Beam parameters '''\n",
    "N = 2048\t\t\t# number of sampling points\n",
    "E0 = 12665\t\t\t# photon energy [eV]\n",
    "tau = 100\t\t\t# pulse duration [fs]\n",
    "window = 4000\t\t# total simulation time window [fs]\n",
    "\n",
    "''' OE parameters '''\n",
    "hkl = [4,4,0]\n",
    "\n",
    "# parameter dictionary. z_source is in LCLS coordinates (20 meters upstream of undulator exit)\n",
    "beam_params = {\n",
    "\t'photonEnergy': E0,\n",
    "\t'N': N,\n",
    "\t'sigma_x': 23e-6,\n",
    "\t'sigma_y': 23e-6,\n",
    "\t'rangeFactor': 5,\n",
    "\t'scaleFactor': 10,\n",
    "\t'z_source': 630\n",
    "}\n"
   ]
  },
  {
   "cell_type": "code",
   "execution_count": 10,
   "metadata": {},
   "outputs": [
    {
     "name": "stdout",
     "output_type": "stream",
     "text": [
      "b 1.00\n",
      "b 1.00\n",
      "b 9.52\n",
      "crystal 2 incidence angle: 56.31 degrees\n",
      "crystal 2 exit angle: 5.01 degrees\n",
      "b 1.00\n",
      "b 0.10\n"
     ]
    }
   ],
   "source": [
    "''' Define beamline '''\n",
    "crystal_temp = optics.Crystal('crystal', hkl=hkl, length=10e-2, width=20e-3, z=930, E0=E0,\n",
    "\t\t\t\t\t\t\t  alphaAsym=0, orientation=0, pol='s', delta=0.e-6)\n",
    "\n",
    "alphaAsym = crystal_temp.alpha - np.deg2rad(5)      # calculate miscut angle (5 degree grazing incidence)\n",
    "if alphaAsym <= 0:\n",
    "\tprint('\\n***\\n***\\n*** Bragg angle smaller than grazing angle')\n",
    "\n",
    "f1 = 9.737399163879598\n",
    "f2 = 10.\n",
    "\n",
    "devices = define_devices(f1,f2,slit_width = 500e-6, hkl = hkl,\n",
    "                         alphaAsym = alphaAsym, E0=E0, f0 = 290., d23=7.)\n"
   ]
  },
  {
   "cell_type": "code",
   "execution_count": 11,
   "metadata": {},
   "outputs": [
    {
     "name": "stderr",
     "output_type": "stream",
     "text": [
      "C:\\Users\\nanw0\\Anaconda3\\envs\\lcls\\lib\\site-packages\\scipy\\optimize\\minpack.py:829: OptimizeWarning: Covariance of the parameters could not be estimated\n",
      "  category=OptimizeWarning)\n"
     ]
    }
   ],
   "source": [
    "''' propagate '''\n",
    "blockPrint()\n",
    "mono_beamline = beamline.Beamline(devices)\n",
    "\n",
    "tstart = time.time()\n",
    "beam_params['photonEnergy'] = E0\n",
    "pulse = beam.Pulse(beam_params=beam_params, tau=tau, time_window=window)\n",
    "\n",
    "pulse.propagate(beamline=mono_beamline, screen_names=['im0','im2'])\n",
    "tfin = time.time()\n"
   ]
  },
  {
   "cell_type": "code",
   "execution_count": 12,
   "metadata": {},
   "outputs": [],
   "source": [
    "''' IO '''\n",
    "path = '../{} eV/'.format(E0)\n",
    "make_dir(path)\n",
    "\n",
    "fig_path = path+'/miscut_error_scan/'\n",
    "make_dir(fig_path)\n",
    "\n",
    "hkl_ = int(hkl[0]*100+hkl[1]*10+hkl[2])\n",
    "fname = 'miscut_tolerance_{}_{}keV'.format(\n",
    "\thkl_, round(beam_params['photonEnergy']/1000.,4))\n",
    "\n",
    "blockPrint()\n"
   ]
  },
  {
   "cell_type": "code",
   "execution_count": 15,
   "metadata": {},
   "outputs": [
    {
     "ename": "NameError",
     "evalue": "name 'f1_' is not defined",
     "output_type": "error",
     "traceback": [
      "\u001b[1;31m---------------------------------------------------------------------------\u001b[0m",
      "\u001b[1;31mNameError\u001b[0m                                 Traceback (most recent call last)",
      "\u001b[1;32m<ipython-input-15-59cd4bbf9c93>\u001b[0m in \u001b[0;36m<module>\u001b[1;34m\u001b[0m\n\u001b[0;32m     10\u001b[0m         \u001b[1;32mfor\u001b[0m \u001b[0mi\u001b[0m\u001b[1;33m,\u001b[0m \u001b[0meta_err\u001b[0m \u001b[1;32min\u001b[0m \u001b[0menumerate\u001b[0m\u001b[1;33m(\u001b[0m\u001b[0meta_list\u001b[0m\u001b[1;33m)\u001b[0m\u001b[1;33m:\u001b[0m\u001b[1;33m\u001b[0m\u001b[1;33m\u001b[0m\u001b[0m\n\u001b[0;32m     11\u001b[0m             \u001b[1;31m# pulse duration and tilt\u001b[0m\u001b[1;33m\u001b[0m\u001b[1;33m\u001b[0m\u001b[1;33m\u001b[0m\u001b[0m\n\u001b[1;32m---> 12\u001b[1;33m             devices = define_devices(f1_,f2,slit_width = 100e-6, hkl = hkl,\n\u001b[0m\u001b[0;32m     13\u001b[0m                                  alphaAsym = alphaAsym, E0=E0, f0 = f0_, d23=7.)\n\u001b[0;32m     14\u001b[0m             \u001b[0mchange_miscut\u001b[0m\u001b[1;33m(\u001b[0m\u001b[0mdevices\u001b[0m\u001b[1;33m,\u001b[0m \u001b[0meta_err\u001b[0m\u001b[1;33m,\u001b[0m \u001b[0mcrystal\u001b[0m\u001b[1;33m)\u001b[0m\u001b[1;33m\u001b[0m\u001b[1;33m\u001b[0m\u001b[0m\n",
      "\u001b[1;31mNameError\u001b[0m: name 'f1_' is not defined"
     ]
    }
   ],
   "source": [
    "%%capture capt\n",
    "''' loop '''\n",
    "if if_loop == 1:\n",
    "    for crystal in [1,2,3,4]:\n",
    "        duration = np.zeros(NN)\n",
    "        tilt = np.zeros_like(duration)\n",
    "        bw = np.zeros_like(duration)\n",
    "        throughput = np.zeros_like(duration)\n",
    "        cent_E = np.zeros_like(duration)\n",
    "\n",
    "        for i, eta_err in enumerate(eta_list):\n",
    "            # pulse duration and tilt\n",
    "            devices = define_devices(f1,f2,slit_width = 100e-6, hkl = hkl,\n",
    "                                 alphaAsym = alphaAsym, E0=E0, f0 = f0, d23=7.)\n",
    "            change_miscut(devices, eta_err, crystal)\n",
    "            mono_beamline = beamline.Beamline(devices)\n",
    "            beam_params['photonEnergy'] = E0\n",
    "            pulse = beam.Pulse(beam_params=beam_params, tau=tau, time_window=window)\n",
    "            pulse.propagate(beamline=mono_beamline, screen_names=['im2'])\n",
    "            centroid, duration[i] = pulse.pulse_duration('im2')\n",
    "            tilt[i] = pulse.pulsefront_tilt('im2')\n",
    "            \n",
    "            # else (closed slit)\n",
    "            devices = define_devices(f1,f2,slit_width = 7e-6, hkl = hkl,\n",
    "                                 alphaAsym = alphaAsym, E0=E0, f0 = f0, d23=7.)\n",
    "            change_miscut(devices, eta_err, crystal)\n",
    "            mono_beamline = beamline.Beamline(devices)\n",
    "            beam_params['photonEnergy'] = E0\n",
    "            pulse = beam.Pulse(beam_params=beam_params, tau=tau, time_window=window)\n",
    "            pulse.propagate(beamline=mono_beamline, screen_names=['im0','im2'])\n",
    "            bw[i] = pulse.pulse_bandwidth('im2')\n",
    "            throughput[i] = pulse.throughput('im0','im2')\n",
    "            cent_E[i] = pulse.central_energy('im2')\n",
    "        \n",
    "        try:\n",
    "            if_old = 0\n",
    "            with h5py.File(fig_path+fname+'.h5','a') as f:\n",
    "                grp = f.create_group('crystal{}'.format(crystal))\n",
    "                grp.create_dataset('miscut_error', data=eta_list)\n",
    "                grp.create_dataset('duration', data=duration)\n",
    "                grp.create_dataset('tilt', data=tilt)\n",
    "                grp.create_dataset('bandwidth', data=bw)\n",
    "                grp.create_dataset('throughput', data=throughput)\n",
    "                grp.create_dataset('central_energy', data=cent_E)\n",
    "        except:\n",
    "            if_old = 1\n",
    "            print('overwriting old data')\n",
    "            os.remove(fig_path+fname+'.h5')\n",
    "            with h5py.File(fig_path+fname+'.h5','a') as f:\n",
    "                grp = f.create_group('crystal{}'.format(crystal))\n",
    "                grp.create_dataset('miscut_error', data=eta_list)\n",
    "                grp.create_dataset('duration', data=duration)\n",
    "                grp.create_dataset('tilt', data=tilt)\n",
    "                grp.create_dataset('bandwidth', data=bw)\n",
    "                grp.create_dataset('throughput', data=throughput)\n",
    "                grp.create_dataset('central_energy', data=cent_E)\n"
   ]
  },
  {
   "cell_type": "code",
   "execution_count": 16,
   "metadata": {},
   "outputs": [
    {
     "ename": "NameError",
     "evalue": "name 'if_old' is not defined",
     "output_type": "error",
     "traceback": [
      "\u001b[1;31m---------------------------------------------------------------------------\u001b[0m",
      "\u001b[1;31mNameError\u001b[0m                                 Traceback (most recent call last)",
      "\u001b[1;32m<ipython-input-16-06842e0db98f>\u001b[0m in \u001b[0;36m<module>\u001b[1;34m\u001b[0m\n\u001b[1;32m----> 1\u001b[1;33m \u001b[1;32mif\u001b[0m \u001b[0mif_old\u001b[0m \u001b[1;33m==\u001b[0m \u001b[1;36m1\u001b[0m\u001b[1;33m:\u001b[0m\u001b[1;33m\u001b[0m\u001b[1;33m\u001b[0m\u001b[0m\n\u001b[0m\u001b[0;32m      2\u001b[0m     \u001b[0mprint\u001b[0m\u001b[1;33m(\u001b[0m\u001b[1;34m'overwritten'\u001b[0m\u001b[1;33m)\u001b[0m\u001b[1;33m\u001b[0m\u001b[1;33m\u001b[0m\u001b[0m\n\u001b[0;32m      3\u001b[0m \u001b[1;32melse\u001b[0m\u001b[1;33m:\u001b[0m\u001b[1;33m\u001b[0m\u001b[1;33m\u001b[0m\u001b[0m\n\u001b[0;32m      4\u001b[0m     \u001b[0mprint\u001b[0m\u001b[1;33m(\u001b[0m\u001b[1;34m'new file generated'\u001b[0m\u001b[1;33m)\u001b[0m\u001b[1;33m\u001b[0m\u001b[1;33m\u001b[0m\u001b[0m\n",
      "\u001b[1;31mNameError\u001b[0m: name 'if_old' is not defined"
     ]
    }
   ],
   "source": [
    "if if_old == 1:\n",
    "    print('overwritten')\n",
    "else:\n",
    "    print('new file generated')"
   ]
  },
  {
   "cell_type": "code",
   "execution_count": null,
   "metadata": {},
   "outputs": [],
   "source": [
    "''' plot '''\n",
    "for crystal in [1,2,3,4]:\n",
    "    with h5py.File(fig_path+fname+'.h5', 'r') as f:\n",
    "        grpname = 'crystal{}'.format(crystal)\n",
    "        eta_list = f[grpname+'/miscut_error'][:]\n",
    "        duration = f[grpname+'/duration'][:]\n",
    "        tilt = f[grpname+'/tilt'][:]\n",
    "        bw = f[grpname+'/bandwidth'][:]\n",
    "        throughput = f[grpname+'/throughput'][:]\n",
    "        cent_E = f[grpname+'/central_energy'][:]\n",
    "        \n",
    "    # plots\n",
    "    xx = eta_list * 1e6\n",
    "    xlabel = 'miscut error (urad)'\n",
    "\n",
    "    # pulse duration\n",
    "    plt.figure(figsize=(30,6))\n",
    "    plt.subplot(1,5,1)\n",
    "    plt.plot(xx, np.abs(duration))\n",
    "    plt.xlabel(xlabel,fontsize=(18))\n",
    "    plt.ylabel('Pulse duration (fs)',fontsize=(18))\n",
    "\n",
    "    plt.grid()\n",
    "    plt.title('Crystal {}'.format(crystal),fontsize=(18))\n",
    "\n",
    "    # pulsefront tilt\n",
    "    plt.subplot(1,5,2)\n",
    "    plt.plot(xx, tilt)\n",
    "    plt.xlabel(xlabel,fontsize=(18))\n",
    "    plt.ylabel('pulsefront tilt (fs/um)',fontsize=(18))\n",
    "\n",
    "    plt.grid()\n",
    "    plt.title('pulse front tilt {}'.format(hkl),fontsize=(18))\n",
    "    # bandwidth\n",
    "    plt.subplot(1,5,3)\n",
    "    plt.plot(xx, 1e3*bw)\n",
    "    plt.xlabel(xlabel,fontsize=(18))\n",
    "    plt.ylabel('bandwidth (meV)',fontsize=(18))\n",
    "\n",
    "    plt.grid()\n",
    "    plt.title('bandwidth {}'.format(hkl),fontsize=(18))\n",
    "\n",
    "    # throughput\n",
    "    plt.subplot(1,5,4)\n",
    "    plt.plot(xx, throughput)\n",
    "    plt.xlabel(xlabel,fontsize=(18))\n",
    "    plt.ylabel('throughtput',fontsize=(18))\n",
    "\n",
    "    plt.grid()\n",
    "    plt.title('throughput {}'.format(hkl),fontsize=(18))\n",
    "\n",
    "    # central energy\n",
    "    plt.subplot(1,5,5)\n",
    "    plt.plot(xx, 1e3*cent_E)\n",
    "    plt.xlabel(xlabel,fontsize=(18))\n",
    "    plt.ylabel('central eneregy (meV)',fontsize=(18))\n",
    "\n",
    "    plt.grid()\n",
    "    plt.title('central energy {}'.format(hkl),fontsize=(18))\n",
    "\n",
    "    plt.savefig(fig_path+'crystal{}_'.format(crystal)+fname+'.png')"
   ]
  },
  {
   "cell_type": "code",
   "execution_count": null,
   "metadata": {},
   "outputs": [],
   "source": []
  }
 ],
 "metadata": {
  "kernelspec": {
   "display_name": "Python 3",
   "language": "python",
   "name": "python3"
  },
  "language_info": {
   "codemirror_mode": {
    "name": "ipython",
    "version": 3
   },
   "file_extension": ".py",
   "mimetype": "text/x-python",
   "name": "python",
   "nbconvert_exporter": "python",
   "pygments_lexer": "ipython3",
   "version": "3.7.6"
  }
 },
 "nbformat": 4,
 "nbformat_minor": 4
}
