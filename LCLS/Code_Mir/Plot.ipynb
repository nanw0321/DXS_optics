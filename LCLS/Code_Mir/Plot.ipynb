{
 "cells": [
  {
   "cell_type": "code",
   "execution_count": 1,
   "metadata": {},
   "outputs": [],
   "source": [
    "import numpy as np\n",
    "import h5py\n",
    "import matplotlib.pyplot as plt"
   ]
  },
  {
   "cell_type": "code",
   "execution_count": 2,
   "metadata": {},
   "outputs": [],
   "source": [
    "##### perfect case\n",
    "dir_case = 'output/9481eV/scans/'\n",
    "fname_perfect = dir_case + 'perfect.h5'\n",
    "\n",
    "with h5py.File(fname_perfect, 'r') as f:\n",
    "    m2_p = f['m2_p'][:]\n",
    "    pulse_duration0 = f['pulse_duration'][:]\n",
    "    pulse_tilt0 = f['tilt'][:]\n",
    "    spatial_chirp0 = f['chirp'][:]\n",
    "    energy_bandwidth0 = f['bandwidth'][:]\n",
    "    throughput0 = f['throughput'][:]\n"
   ]
  },
  {
   "cell_type": "code",
   "execution_count": 3,
   "metadata": {},
   "outputs": [],
   "source": [
    "##### with shapeErrors\n",
    "crystals = np.array(['HHLM1', 'HHLM2', 'HHLM3', 'HHLM4', 'C1', 'C2'])    # list of crystals\n",
    "n_crys = len(crystals)\n",
    "\n",
    "crystal_height_factor = 3\n",
    "crystal_profile_options = [1, 3, 3, 3, 3, 3]\n",
    "crystal_profile_powers = [73.15, 50.1, 1.78, 1.69, 1.61, 1.88]\n",
    "crystal_profile_powers = [73.15, 16.53, 1.78, 1.69, 1.61, 1.88]\n",
    "\n",
    "# for i in range(6):\n",
    "for i in [2]:\n",
    "    crystal_name = crystals[i]\n",
    "    fname_crystal = '{}_{}W'.format(crystal_name, round(crystal_profile_powers[i] * crystal_height_factor,2))\n",
    "    \n",
    "    with h5py.File(dir_case+fname_crystal+'.h5', 'r') as f:\n",
    "        m2_p1 = f['m2_p'][:]\n",
    "        pulse_duration1 = f['pulse_duration'][:]\n",
    "        pulse_tilt1 = f['tilt'][:]\n",
    "        spatial_chirp1 = f['chirp'][:]\n",
    "        energy_bandwidth1 = f['bandwidth'][:]\n",
    "        throughput1 = f['throughput'][:]\n",
    "    \n",
    "    #### plot\n",
    "    plt.figure(figsize=(27,5))\n",
    "    plt.suptitle(fname_crystal+'M2_p 175.17m, slit_width 1.90um')\n",
    "    \n",
    "    # duration\n",
    "    plt.subplot(1,5,1)\n",
    "    plt.plot(m2_p, pulse_duration0, label='perfect')\n",
    "    plt.plot(m2_p1, pulse_duration1, label='heat bump')\n",
    "    plt.xlabel('M2 p (m)'); plt.ylabel('pulse duration (fs)')\n",
    "    plt.grid(); plt.legend(); plt.tight_layout()\n",
    "    plt.ylim([0, 1e4])\n",
    "#     plt.ylim([0, 1e5])\n",
    "    \n",
    "    # tilt\n",
    "    plt.subplot(1,5,2)\n",
    "    plt.plot(m2_p, pulse_tilt0, label='perfect')\n",
    "    plt.plot(m2_p1, pulse_tilt1, label='heat bump')\n",
    "    plt.xlabel('M2 p (m)'); plt.ylabel(r'pulsefront tilt (fs/$\\mu$m)')\n",
    "    plt.grid(); plt.legend(); plt.tight_layout()\n",
    "    plt.ylim([-3, 3])\n",
    "#     plt.ylim([-5,5])\n",
    "    \n",
    "    # chirp\n",
    "    plt.subplot(1,5,3)\n",
    "    plt.plot(m2_p, spatial_chirp0*1000, label='perfect')\n",
    "    plt.plot(m2_p1, spatial_chirp1*1000, label='heat bump')\n",
    "    plt.xlabel('M2 p (m)'); plt.ylabel(r'spatial chirp (meV/$\\mu$m)')\n",
    "    plt.grid(); plt.legend(); plt.tight_layout()\n",
    "    plt.ylim([-1e-2, 1e-2])\n",
    "#     plt.ylim([-0.1, 0.1])\n",
    "    \n",
    "    # bandwidth\n",
    "    plt.subplot(1,5,4)\n",
    "    plt.plot(m2_p, energy_bandwidth0*1000, label='perfect')\n",
    "    plt.plot(m2_p1, energy_bandwidth1*1000, label='heat bump')\n",
    "    plt.xlabel('M2 p (m)'); plt.ylabel('bandwidth (meV)')\n",
    "    plt.grid(); plt.legend(); plt.tight_layout()\n",
    "    plt.ylim([0, 40])\n",
    "#     plt.ylim([0, 1e3])\n",
    "    \n",
    "    # throughput\n",
    "    plt.subplot(1,5,5)\n",
    "    plt.plot(m2_p, throughput0*100, label='perfect')\n",
    "    plt.plot(m2_p1, throughput1*100, label='heat bump')\n",
    "    plt.xlabel('M2 p (m)'); plt.ylabel('throughput (%)')\n",
    "    plt.grid(); plt.legend(); plt.tight_layout()\n",
    "    plt.ylim([0, 6])\n",
    "#     plt.ylim([0,10])\n",
    "    \n",
    "    plt.savefig(dir_case+fname_crystal+'_correction.png')\n",
    "    plt.close('all')"
   ]
  },
  {
   "cell_type": "code",
   "execution_count": 4,
   "metadata": {},
   "outputs": [
    {
     "name": "stdout",
     "output_type": "stream",
     "text": [
      "HHLM3_5.34W\n"
     ]
    }
   ],
   "source": [
    "print(fname_crystal)"
   ]
  },
  {
   "cell_type": "code",
   "execution_count": 5,
   "metadata": {},
   "outputs": [],
   "source": [
    "import winsound\n",
    "winsound.Beep(1500, 1000)"
   ]
  }
 ],
 "metadata": {
  "kernelspec": {
   "display_name": "Python 3",
   "language": "python",
   "name": "python3"
  },
  "language_info": {
   "codemirror_mode": {
    "name": "ipython",
    "version": 3
   },
   "file_extension": ".py",
   "mimetype": "text/x-python",
   "name": "python",
   "nbconvert_exporter": "python",
   "pygments_lexer": "ipython3",
   "version": "3.8.5"
  }
 },
 "nbformat": 4,
 "nbformat_minor": 4
}
