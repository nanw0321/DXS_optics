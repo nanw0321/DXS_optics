{
 "cells": [
  {
   "cell_type": "code",
   "execution_count": 1,
   "metadata": {},
   "outputs": [],
   "source": [
    "from Functions import *\n",
    "import scipy.interpolate as interpolate\n",
    "import winsound"
   ]
  },
  {
   "cell_type": "code",
   "execution_count": 2,
   "metadata": {},
   "outputs": [],
   "source": [
    "''' Beam parameters '''\n",
    "N = 1024\t\t\t# number of sampling points\n",
    "E0 = 9481\t\t\t# photon energy [eV]\n",
    "tau = 400\t\t\t# pulse duration [fs]\n",
    "window = 50000\t\t# total simulation time window [fs]\n",
    "\n",
    "# parameter dictionary. z_source is in LCLS coordinates (20 meters upstream of undulator exit)\n",
    "beam_params = {\n",
    "\t'photonEnergy': E0,\n",
    "\t'N': N,\n",
    "\t'sigma_x': 23e-6,\n",
    "\t'sigma_y': 23e-6,\n",
    "\t'rangeFactor': 5,\n",
    "\t'scaleFactor': 10,\n",
    "\t'z_source': 650-26\n",
    "}"
   ]
  },
  {
   "cell_type": "code",
   "execution_count": 3,
   "metadata": {},
   "outputs": [
    {
     "name": "stdout",
     "output_type": "stream",
     "text": [
      "path exists\n",
      "path exists\n",
      "path exists\n",
      "\n",
      "CWD: output/9481eV/telescope_optimization/\n"
     ]
    }
   ],
   "source": [
    "##### I/O\n",
    "dir_out = 'output/'; make_dir(dir_out)\n",
    "dir_ev = dir_out + '{}eV/'.format(E0); make_dir(dir_ev)\n",
    "dir_plot = dir_ev + 'telescope_optimization/'; make_dir(dir_ev)\n",
    "\n",
    "print('\\nCWD:',dir_plot)"
   ]
  },
  {
   "cell_type": "code",
   "execution_count": 4,
   "metadata": {},
   "outputs": [],
   "source": [
    "def define_beamline(\n",
    "    E0, slit_width, m1_p=185.0, m2_p=173.00040379493151, shapeErrors=[None for i in range(6)]):\n",
    "    \n",
    "    z_s = 650\n",
    "\n",
    "    # viewing point - upstream of monochromator\n",
    "    im_input = optics.PPM('im_input', z=184+z_s, FOV=5e-3, N=256)\n",
    "    \n",
    "    ## Telescope\n",
    "    m1 = optics.CurvedMirror('M1',p=m1_p,q=-58,length=1,z=185+z_s,alpha=2.65e-3)\n",
    "    im_after_T1 = optics.PPM('im_after_T1', z=m1.z+.01, FOV=5e-3, N=256)\n",
    "    \n",
    "    m2 = optics.CurvedMirror('M2',p=m2_p,q=1e5,length=1,z=300+z_s,alpha=2.65e-3,orientation=2)\n",
    "    im_after_T2 = optics.PPM('im_after_T2', z=m2.z+.01, FOV=5e-3, N=256)\n",
    "    \n",
    "    im_out = optics.PPM('im_out', z=1000.0, FOV=5e-3, N=256)\n",
    "\n",
    "    # list of devices to propagate through\n",
    "    telescope_devices = [im_input, m1, im_after_T1, m2, im_after_T2]\n",
    "    \n",
    "    all_devices = telescope_devices + [im_out]\n",
    "    mono_beamline = beamline.Beamline(all_devices, ordered=True)\n",
    "    return mono_beamline"
   ]
  },
  {
   "cell_type": "markdown",
   "metadata": {},
   "source": [
    "### Open slit, no shapeError"
   ]
  },
  {
   "cell_type": "raw",
   "metadata": {
    "scrolled": false
   },
   "source": [
    "%%capture capt\n",
    "##### perfect case\n",
    "mono_beamline = define_beamline(E0,200e-6,m1_p=160)\n",
    "\n",
    "''' propagate '''\n",
    "b1 = beam.Beam(beam_params=beam_params)\n",
    "b2 = mono_beamline.propagate_beamline(b1)\n"
   ]
  },
  {
   "cell_type": "raw",
   "metadata": {},
   "source": [
    "divergence = (mono_beamline.im_after_T2.get_x_width() - mono_beamline.im_out.get_x_width())/(mono_beamline.im_out.z - mono_beamline.im_after_T2.z)\n",
    "print('divergence: {}nrad'.format(divergence*1e9))"
   ]
  },
  {
   "cell_type": "raw",
   "metadata": {
    "scrolled": false
   },
   "source": [
    "mono_beamline.im_after_T2.view_beam()\n",
    "# mono_beamline.im_focus.view_beam()\n",
    "mono_beamline.im_out.view_beam()\n",
    "\n",
    "ax,zs = mono_beamline.draw_beamline()"
   ]
  },
  {
   "cell_type": "code",
   "execution_count": 5,
   "metadata": {
    "scrolled": true
   },
   "outputs": [],
   "source": [
    "%%capture capt\n",
    "m1_p = np.linspace(100, 300, 200)\n",
    "divergence = np.zeros_like(m1_p)\n",
    "\n",
    "for i in range(200):\n",
    "    mono_beamline = define_beamline(E0,2e-6,m1_p=m1_p[i])\n",
    "    b1 = beam.Beam(beam_params=beam_params)\n",
    "    b2 = mono_beamline.propagate_beamline(b1)\n",
    "    divergence[i] = (mono_beamline.im_out.get_x_width() - mono_beamline.im_after_T2.get_x_width())/(mono_beamline.im_out.z - mono_beamline.im_after_T2.z)\n"
   ]
  },
  {
   "cell_type": "code",
   "execution_count": 6,
   "metadata": {},
   "outputs": [
    {
     "data": {
      "text/plain": [
       "Text(0.5, 1.0, 'M1 p = 204.52261306532662')"
      ]
     },
     "execution_count": 6,
     "metadata": {},
     "output_type": "execute_result"
    },
    {
     "data": {
      "image/png": "[encoded data removed]",
      "text/plain": [
       "<Figure size 432x288 with 1 Axes>"
      ]
     },
     "metadata": {
      "needs_background": "light"
     },
     "output_type": "display_data"
    }
   ],
   "source": [
    "##### perfect collimation\n",
    "result = m1_p[np.where(divergence<0)[0][-1]]\n",
    "\n",
    "plt.figure()\n",
    "plt.plot(m1_p, divergence*1e9)\n",
    "plt.xlabel('M1 p (m)')\n",
    "plt.ylabel('divergence (nrad)')\n",
    "# plt.ylim([-30000, 30000])\n",
    "plt.title('M1 p = {}'.format(result))\n",
    "\n"
   ]
  },
  {
   "cell_type": "code",
   "execution_count": 7,
   "metadata": {},
   "outputs": [],
   "source": [
    "import winsound\n",
    "winsound.Beep(1500, 3000)"
   ]
  },
  {
   "cell_type": "code",
   "execution_count": null,
   "metadata": {},
   "outputs": [],
   "source": []
  }
 ],
 "metadata": {
  "kernelspec": {
   "display_name": "Python 3",
   "language": "python",
   "name": "python3"
  },
  "language_info": {
   "codemirror_mode": {
    "name": "ipython",
    "version": 3
   },
   "file_extension": ".py",
   "mimetype": "text/x-python",
   "name": "python",
   "nbconvert_exporter": "python",
   "pygments_lexer": "ipython3",
   "version": "3.8.5"
  }
 },
 "nbformat": 4,
 "nbformat_minor": 4
}
