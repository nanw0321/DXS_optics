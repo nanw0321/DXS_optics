{
 "cells": [
  {
   "cell_type": "code",
   "execution_count": 1,
   "metadata": {},
   "outputs": [],
   "source": [
    "from Functions import *\n",
    "import scipy.interpolate as interpolate\n",
    "import winsound"
   ]
  },
  {
   "cell_type": "code",
   "execution_count": 2,
   "metadata": {},
   "outputs": [],
   "source": [
    "''' Beam parameters '''\n",
    "N = 1024\t\t\t# number of sampling points\n",
    "E0 = 9481\t\t\t# photon energy [eV]\n",
    "tau = 400\t\t\t# pulse duration [fs]\n",
    "window = 50000\t\t# total simulation time window [fs]\n",
    "\n",
    "# parameter dictionary. z_source is in LCLS coordinates (20 meters upstream of undulator exit)\n",
    "beam_params = {\n",
    "\t'photonEnergy': E0,\n",
    "\t'N': N,\n",
    "\t'sigma_x': 23e-6,\n",
    "\t'sigma_y': 23e-6,\n",
    "\t'rangeFactor': 5,\n",
    "\t'scaleFactor': 10,\n",
    "\t'z_source': 650-26\n",
    "}"
   ]
  },
  {
   "cell_type": "code",
   "execution_count": 3,
   "metadata": {},
   "outputs": [
    {
     "name": "stdout",
     "output_type": "stream",
     "text": [
      "path exists\n",
      "path exists\n",
      "path exists\n",
      "\n",
      "CWD: output/9481eV/2DCM_111_333/\n"
     ]
    }
   ],
   "source": [
    "##### I/O\n",
    "dir_out = 'output/'; make_dir(dir_out)\n",
    "dir_ev = dir_out + '{}eV/'.format(E0); make_dir(dir_ev)\n",
    "dir_case = dir_ev + '2DCM_111_333/'; make_dir(dir_case)\n",
    "\n",
    "print('\\nCWD:',dir_case)"
   ]
  },
  {
   "cell_type": "code",
   "execution_count": 4,
   "metadata": {},
   "outputs": [],
   "source": [
    "def define_beamline(\n",
    "    E0, alphaAsym1 = 9.0, alphaAsym2 = 0.0, shapeErrors=[None for i in range(6)]):\n",
    "    \n",
    "    z_s = 650\n",
    "\n",
    "    # viewing point - upstream of monochromator\n",
    "    im_input = optics.PPM('im_input', z=184+z_s, FOV=5e-3, N=256)\n",
    "    \n",
    "    ## HHLM\n",
    "    asym1 = np.deg2rad(alphaAsym1)\n",
    "    asym2 = np.deg2rad(alphaAsym2)\n",
    "    hhlm1 = optics.Crystal('HHLM1', hkl=[1,1,1], length=1e-1, width=5e-3, z=305+z_s, alphaAsym=-asym1, E0=E0, \n",
    "                           orientation=0, pol='s', shapeError=shapeErrors[0])\n",
    "    im_after_HHLM1 = optics.PPM('im_after_HHLM1', FOV=30e-3,N=256,z=hhlm1.z+.01)\n",
    "    \n",
    "    hhlm2 = optics.Crystal('HHLM2', hkl=[1,1,1], length=1e-1, width=5e-3, z=hhlm1.z+139e-3, alphaAsym=asym1, E0=E0,\n",
    "                           orientation=2, pol='s', shapeError=shapeErrors[3])\n",
    "    im_after_HHLM2 = optics.PPM('im_after_HHLM2', FOV=30e-3,N=256,z=hhlm2.z+.01)\n",
    "    \n",
    "    hhlm3 = optics.Crystal('HHLM3', hkl=[3,3,3], length=1e-1, width=5e-3, z=hhlm1.z+361e-3, alphaAsym=-asym2, E0=E0,\n",
    "                           orientation=2, pol='s', shapeError=shapeErrors[1])\n",
    "    im_after_HHLM3 = optics.PPM('im_after_HHLM3', FOV=30e-3,N=256,z=hhlm3.z+.01)\n",
    "    \n",
    "    hhlm4 = optics.Crystal('HHLM4', hkl=[3,3,3], length=1e-1, width=5e-3, z=hhlm1.z+.5, alphaAsym=asym2, E0=E0,\n",
    "                           orientation=0, pol='s', shapeError=shapeErrors[2])\n",
    "    im_after_HHLM4 = optics.PPM('im_after_HHLM4', FOV=5e-3,N=256,z=hhlm4.z+.01)\n",
    "\n",
    "    HHLM_devices = [im_input, hhlm1, im_after_HHLM1, hhlm2, im_after_HHLM2, hhlm3, im_after_HHLM3, hhlm4, im_after_HHLM4]\n",
    "    \n",
    "    all_devices = HHLM_devices\n",
    "    mono_beamline = beamline.Beamline(all_devices, ordered=True)\n",
    "    return mono_beamline"
   ]
  },
  {
   "cell_type": "markdown",
   "metadata": {},
   "source": [
    "### Beam profiles along the beamline"
   ]
  },
  {
   "cell_type": "code",
   "execution_count": 5,
   "metadata": {},
   "outputs": [],
   "source": [
    "%%capture capt\n",
    "#### Time domain propagation\n",
    "alphaAsym1 = 9.0    # asymmetry angle [degree]\n",
    "alphaAsym2 = 0.0\n",
    "\n",
    "beam_params['photonEnergy'] = E0\n",
    "\n",
    "mono_beamline = define_beamline(E0, alphaAsym1=alphaAsym1, alphaAsym2 = alphaAsym2)\n",
    "pulse = beam.Pulse(beam_params=beam_params, unit_spectrum=True, spectral_width=100e-3, N=100)\n",
    "\n",
    "screen_names = ['im_input', 'im_after_HHLM1', 'im_after_HHLM2', 'im_after_HHLM3', 'im_after_HHLM4']\n",
    "\n",
    "pulse.propagate(beamline=mono_beamline, screen_names=screen_names)\n"
   ]
  },
  {
   "cell_type": "code",
   "execution_count": null,
   "metadata": {
    "scrolled": true
   },
   "outputs": [
    {
     "name": "stdout",
     "output_type": "stream",
     "text": [
      "path exists\n"
     ]
    }
   ],
   "source": [
    "''' projection '''\n",
    "dir_perfect = dir_case + '{}_{}_deg/'.format(alphaAsym1, alphaAsym2); make_dir(dir_perfect)\n",
    "for screen_name in pulse.screens:\n",
    "    try:\n",
    "        pulse.imshow_projection(screen_name)\n",
    "        plt.savefig(dir_perfect+'projection_{}.png'.format(screen_name))\n",
    "    except:\n",
    "        print(screen_name, 'failed')"
   ]
  },
  {
   "cell_type": "code",
   "execution_count": null,
   "metadata": {
    "scrolled": true
   },
   "outputs": [],
   "source": [
    "''' energy slices '''\n",
    "for screen_name in pulse.screens:\n",
    "    try:\n",
    "        pulse.imshow_energy_slice(screen_name)\n",
    "        plt.savefig(dir_perfect+'spectrum_{}.png'.format(screen_name))\n",
    "    except:\n",
    "        print(screen_name, 'failed')\n"
   ]
  },
  {
   "cell_type": "code",
   "execution_count": null,
   "metadata": {
    "scrolled": true
   },
   "outputs": [],
   "source": [
    "''' plot time slices '''\n",
    "shift = 0\n",
    "for screen_name in pulse.screens:\n",
    "    try:\n",
    "        pulse.imshow_time_slice(screen_name, shift=shift)\n",
    "        plt.savefig(dir_perfect+'tilt_{}.png'.format(screen_name))\n",
    "    except:\n",
    "        print(screen_name, 'failed')"
   ]
  },
  {
   "cell_type": "code",
   "execution_count": null,
   "metadata": {},
   "outputs": [],
   "source": [
    "''' diagnostics '''\n",
    "c, pulse_duration0 = pulse.pulse_duration('im_after_HHLM4')\n",
    "pulse_tilt0 = pulse.pulsefront_tilt('im_after_HHLM4')\n",
    "spatial_chirp0 = pulse.spatial_chirp('im_after_HHLM4')\n",
    "energy_bandwidth0 = pulse.pulse_bandwidth('im_after_HHLM4')\n",
    "\n",
    "print('duration {}fs'.format(pulse_duration0))\n",
    "print('tilt {}fs/um'.format(pulse_tilt0))\n",
    "print('spatial chirp {}meV/um'.format(spatial_chirp0*1e3))\n",
    "print('bandwidth {}meV'.format(energy_bandwidth0*1e3))\n",
    "\n",
    "# np.savetxt(dir_perfect+'diagnostics_type.txt',np.array(['duration [fs]', 'tilt [fs/um]', 'chirp [meV/um]', 'bandwidth [meV]']), delimiter=',')\n",
    "np.savetxt(dir_perfect+'diagnostics_value.txt',np.array([pulse_duration0, pulse_tilt0, spatial_chirp0*1e3, energy_bandwidth0*1e3]), delimiter=',')\n"
   ]
  },
  {
   "cell_type": "code",
   "execution_count": null,
   "metadata": {},
   "outputs": [],
   "source": [
    "import winsound\n",
    "winsound.Beep(1500, 3000)"
   ]
  },
  {
   "cell_type": "code",
   "execution_count": null,
   "metadata": {},
   "outputs": [],
   "source": []
  }
 ],
 "metadata": {
  "kernelspec": {
   "display_name": "Python 3",
   "language": "python",
   "name": "python3"
  },
  "language_info": {
   "codemirror_mode": {
    "name": "ipython",
    "version": 3
   },
   "file_extension": ".py",
   "mimetype": "text/x-python",
   "name": "python",
   "nbconvert_exporter": "python",
   "pygments_lexer": "ipython3",
   "version": "3.8.5"
  }
 },
 "nbformat": 4,
 "nbformat_minor": 4
}
