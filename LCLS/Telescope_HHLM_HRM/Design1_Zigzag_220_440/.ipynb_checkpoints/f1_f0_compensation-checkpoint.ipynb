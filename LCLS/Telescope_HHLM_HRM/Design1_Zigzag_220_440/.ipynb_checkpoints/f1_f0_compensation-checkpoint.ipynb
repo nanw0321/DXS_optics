{
 "cells": [
  {
   "cell_type": "code",
   "execution_count": 1,
   "metadata": {},
   "outputs": [],
   "source": [
    "from Functions import *\n"
   ]
  },
  {
   "cell_type": "code",
   "execution_count": 2,
   "metadata": {},
   "outputs": [],
   "source": [
    "''' loop parameters '''\n",
    "N1 = 60\n",
    "N2 = 50\n",
    "f1 = 9.737399163879598\n",
    "f1_list = np.linspace(-0.05, 0.05, N1)+f1\n",
    "f0_list = np.linspace(-7.5,7.5,N2)+290.\n",
    "if_loop = 1\t\t\t# to loop or not to loop\n"
   ]
  },
  {
   "cell_type": "code",
   "execution_count": 3,
   "metadata": {},
   "outputs": [],
   "source": [
    "''' Beam parameters '''\n",
    "N = 2048\t\t\t# number of sampling points\n",
    "E0 = 12665\t\t\t# photon energy [eV]\n",
    "tau = 100\t\t\t# pulse duration [fs]\n",
    "window = 4000\t\t# total simulation time window [fs]\n",
    "\n",
    "''' OE parameters '''\n",
    "hkl = [4,4,0]\n",
    "\n",
    "# parameter dictionary. z_source is in LCLS coordinates (20 meters upstream of undulator exit)\n",
    "beam_params = {\n",
    "\t'photonEnergy': E0,\n",
    "\t'N': N,\n",
    "\t'sigma_x': 23e-6,\n",
    "\t'sigma_y': 23e-6,\n",
    "\t'rangeFactor': 5,\n",
    "\t'scaleFactor': 10,\n",
    "\t'z_source': 630\n",
    "}\n"
   ]
  },
  {
   "cell_type": "code",
   "execution_count": 4,
   "metadata": {},
   "outputs": [
    {
     "name": "stdout",
     "output_type": "stream",
     "text": [
      "b 1.00\n",
      "b 1.00\n",
      "b 9.52\n",
      "crystal 2 incidence angle: 56.31 degrees\n",
      "crystal 2 exit angle: 5.01 degrees\n",
      "b 1.00\n",
      "b 0.10\n"
     ]
    }
   ],
   "source": [
    "''' Define beamline '''\n",
    "crystal_temp = optics.Crystal('crystal', hkl=hkl, length=10e-2, width=20e-3, z=930, E0=E0,\n",
    "\t\t\t\t\t\t\t  alphaAsym=0, orientation=0, pol='s', delta=0.e-6)\n",
    "\n",
    "alphaAsym = crystal_temp.alpha - np.deg2rad(5)      # calculate miscut angle (5 degree grazing incidence)\n",
    "if alphaAsym <= 0:\n",
    "\tprint('\\n***\\n***\\n*** Bragg angle smaller than grazing angle')\n",
    "\n",
    "f1 = f1\n",
    "f2 = 10.\n",
    "\n",
    "devices = define_devices(f1,f2,slit_width = 500e-6, hkl = hkl,\n",
    "                         alphaAsym = alphaAsym, E0=E0, f0 = 290., d23=7.)\n"
   ]
  },
  {
   "cell_type": "code",
   "execution_count": 5,
   "metadata": {},
   "outputs": [
    {
     "name": "stderr",
     "output_type": "stream",
     "text": [
      "C:\\Users\\nanw0\\Anaconda3\\envs\\lcls\\lib\\site-packages\\scipy\\optimize\\minpack.py:829: OptimizeWarning: Covariance of the parameters could not be estimated\n",
      "  category=OptimizeWarning)\n"
     ]
    }
   ],
   "source": [
    "''' propagate '''\n",
    "blockPrint()\n",
    "mono_beamline = beamline.Beamline(devices)\n",
    "\n",
    "tstart = time.time()\n",
    "beam_params['photonEnergy'] = E0\n",
    "pulse = beam.Pulse(beam_params=beam_params, tau=tau, time_window=window)\n",
    "\n",
    "pulse.propagate(beamline=mono_beamline, screen_names=['im0','im2'])\n",
    "tfin = time.time()\n"
   ]
  },
  {
   "cell_type": "code",
   "execution_count": 6,
   "metadata": {},
   "outputs": [],
   "source": [
    "''' IO '''\n",
    "path = '../{} eV/'.format(E0)\n",
    "make_dir(path)\n",
    "\n",
    "fig_path = path+'/f1_f0_compensation/'\n",
    "make_dir(fig_path)\n",
    "\n",
    "hkl_ = int(hkl[0]*100+hkl[1]*10+hkl[2])\n",
    "fname = 'compensation_{}_{}keV'.format(\n",
    "\thkl_, round(beam_params['photonEnergy']/1000.,4))\n",
    "\n",
    "blockPrint()\n"
   ]
  },
  {
   "cell_type": "code",
   "execution_count": null,
   "metadata": {},
   "outputs": [],
   "source": [
    "%%capture capt\n",
    "''' loop '''\n",
    "if if_loop == 1:\n",
    "    duration = np.zeros((N1,N2))\n",
    "    tilt = np.zeros_like(duration)\n",
    "    bw = np.zeros_like(duration)\n",
    "    throughput = np.zeros_like(duration)\n",
    "    cent_E = np.zeros_like(duration)\n",
    "    \n",
    "    for i, f1_ in enumerate(f1_list):\n",
    "        for j, f0_ in enumerate(f0_list):\n",
    "            devices = define_devices(f1_,f2,slit_width = 100e-6, hkl = hkl,\n",
    "                                 alphaAsym = alphaAsym, E0=E0, f0 = f0_, d23=7.)\n",
    "            mono_beamline = beamline.Beamline(devices)\n",
    "            beam_params['photonEnergy'] = E0\n",
    "            pulse = beam.Pulse(beam_params=beam_params, tau=tau, time_window=window)\n",
    "            pulse.propagate(beamline=mono_beamline, screen_names=['im2'])\n",
    "            centroid, duration[i,j] = pulse.pulse_duration('im2')\n",
    "            tilt[i,j] = pulse.pulsefront_tilt('im2')\n",
    "            \n",
    "            devices = define_devices(f1_,f2,slit_width = 7e-6, hkl = hkl,\n",
    "                                 alphaAsym = alphaAsym, E0=E0, f0 = f0_, d23=7.)\n",
    "            mono_beamline = beamline.Beamline(devices)\n",
    "            beam_params['photonEnergy'] = E0\n",
    "            pulse = beam.Pulse(beam_params=beam_params, tau=tau, time_window=window)\n",
    "            pulse.propagate(beamline=mono_beamline, screen_names=['im0','im2'])\n",
    "            bw[i,j] = pulse.pulse_bandwidth('im2')\n",
    "            throughput[i,j] = pulse.throughput('im0','im2')\n",
    "            cent_E[i,j] = pulse.central_energy('im2')\n",
    "    if os.path.exists(fig_path+fname+'.h5'):\n",
    "        os.remove(fig_path+fname+'.h5')\n",
    "        \n",
    "    with h5py.File(fig_path+fname+'.h5','w') as f:\n",
    "        f.create_dataset('f1', data=f1_list)\n",
    "        f.create_dataset('f0', data=f0_list)\n",
    "        f.create_dataset('duration', data=duration)\n",
    "        f.create_dataset('tilt', data=tilt)\n",
    "        f.create_dataset('bandwidth', data=bw)\n",
    "        f.create_dataset('throughput', data=throughput)\n",
    "        f.create_dataset('central_energy', data=cent_E)"
   ]
  },
  {
   "cell_type": "code",
   "execution_count": null,
   "metadata": {},
   "outputs": [],
   "source": [
    "''' plot '''\n",
    "with h5py.File(fig_path+fname+'.h5','r') as f:\n",
    "    f1_list = f['f1'][:]\n",
    "    f0_list = f['f0'][:]\n",
    "    duration = f['duration'][:]\n",
    "    tilt = f['tilt'][:]\n",
    "    bw = f['bandwidth'][:]\n",
    "    throughput = f['throughput'][:]\n",
    "    cent_E = f['central_energy'][:]\n",
    "    \n",
    "# plots\n",
    "plt.figure(figsize=(36,6))\n",
    "plt.subplot(1,5,1)\n",
    "plt.imshow(duration, cmap='jet',\n",
    "          extent = [f0_list.min(), f0_list.max(), f1_list.max(), f1_list.min()])\n",
    "plt.colorbar()\n",
    "plt.clim([300,2000])\n",
    "plt.xlabel('f0')\n",
    "plt.ylabel('f1')\n",
    "plt.axis('tight')\n",
    "plt.title('pulse duration (fs) {}eV'.format(E0))\n",
    "\n",
    "plt.subplot(1,5,2)\n",
    "plt.imshow(tilt, cmap='jet',\n",
    "           extent = [f0_list.min(), f0_list.max(), f1_list.max(), f1_list.min()])\n",
    "plt.colorbar()\n",
    "plt.xlabel('f0')\n",
    "plt.ylabel('f1')\n",
    "plt.axis('tight')\n",
    "plt.title('pulse front tilt (fs/um)')\n",
    "\n",
    "plt.subplot(1,5,3)\n",
    "plt.imshow(bw*1e3, cmap='jet',\n",
    "           extent = [f0_list.min(), f0_list.max(), f1_list.max(), f1_list.min()])\n",
    "plt.colorbar()\n",
    "plt.xlabel('f0')\n",
    "plt.ylabel('f1')\n",
    "plt.axis('tight')\n",
    "plt.title('bandwidth (meV)')\n",
    "\n",
    "plt.subplot(1,5,4)\n",
    "plt.imshow(throughput, cmap='jet',\n",
    "           extent = [f0_list.min(), f0_list.max(), f1_list.max(), f1_list.min()])\n",
    "plt.colorbar()\n",
    "plt.xlabel('f0')\n",
    "plt.ylabel('f1')\n",
    "plt.axis('tight')\n",
    "plt.title('throughput')\n",
    "\n",
    "plt.subplot(1,5,5)\n",
    "plt.imshow(cent_E*1e3, cmap='jet',\n",
    "           extent = [f0_list.min(), f0_list.max(), f1_list.max(), f1_list.min()])\n",
    "plt.colorbar()\n",
    "plt.xlabel('f0')\n",
    "plt.ylabel('f1')\n",
    "plt.axis('tight')\n",
    "plt.title('central energy (meV)')\n",
    "\n",
    "plt.savefig(fig_path+fname+'.png')"
   ]
  },
  {
   "cell_type": "code",
   "execution_count": null,
   "metadata": {},
   "outputs": [],
   "source": []
  }
 ],
 "metadata": {
  "kernelspec": {
   "display_name": "Python 3",
   "language": "python",
   "name": "python3"
  },
  "language_info": {
   "codemirror_mode": {
    "name": "ipython",
    "version": 3
   },
   "file_extension": ".py",
   "mimetype": "text/x-python",
   "name": "python",
   "nbconvert_exporter": "python",
   "pygments_lexer": "ipython3",
   "version": "3.7.6"
  }
 },
 "nbformat": 4,
 "nbformat_minor": 4
}
