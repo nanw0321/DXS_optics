{
 "cells": [
  {
   "cell_type": "code",
   "execution_count": 2,
   "metadata": {},
   "outputs": [],
   "source": [
    "from Functions import *\n",
    "import scipy.interpolate as interpolate\n",
    "import winsound"
   ]
  },
  {
   "cell_type": "code",
   "execution_count": 3,
   "metadata": {},
   "outputs": [],
   "source": [
    "''' Beam parameters '''\n",
    "N = 1024\t\t\t# number of sampling points\n",
    "E0 = 9481\t\t\t# photon energy [eV]\n",
    "tau = 400\t\t\t# pulse duration [fs]\n",
    "window = 50000\t\t# total simulation time window [fs]\n",
    "\n",
    "# parameter dictionary. z_source is in LCLS coordinates (20 meters upstream of undulator exit)\n",
    "beam_params = {\n",
    "\t'photonEnergy': E0,\n",
    "\t'N': N,\n",
    "\t'sigma_x': 23e-6,\n",
    "\t'sigma_y': 23e-6,\n",
    "\t'rangeFactor': 5,\n",
    "\t'scaleFactor': 10,\n",
    "\t'z_source': 650-26\n",
    "}"
   ]
  },
  {
   "cell_type": "code",
   "execution_count": 5,
   "metadata": {},
   "outputs": [
    {
     "name": "stdout",
     "output_type": "stream",
     "text": [
      "path exists\n",
      "path exists\n",
      "path exists\n",
      "\n",
      "CWD: output/9481eV/optimization/\n"
     ]
    }
   ],
   "source": [
    "##### I/O\n",
    "dir_out = 'output/'; make_dir(dir_out)\n",
    "dir_ev = dir_out + '{}eV/'.format(E0); make_dir(dir_ev)\n",
    "dir_case = dir_ev + 'optimization/'; make_dir(dir_case)\n",
    "\n",
    "print('\\nCWD:',dir_case)"
   ]
  },
  {
   "cell_type": "code",
   "execution_count": 6,
   "metadata": {},
   "outputs": [],
   "source": [
    "def define_Telescope(E0, m1_p=185.0, m2_p=175.5):\n",
    "    z_s = 650\n",
    "    \n",
    "    ## Telescope\n",
    "    m1 = optics.CurvedMirror('M1', p=m1_p, q=-58, length=1, z=185+z_s, alpha=2.65e-3)\n",
    "    im_after_T1 = optics.PPM('im_after_T1', z=m1.z+.01, FOV=5e-3, N=256)\n",
    "    \n",
    "    m2 = optics.CurvedMirror('M2', p=m2_p, q=1e5, length=1, z=300+z_s, alpha=2.65e-3, orientation=2)\n",
    "    im_after_T2 = optics.PPM('im_after_T2', z=m2.z+.01, FOV=5e-3, N=256)\n",
    "\n",
    "    Telescope_devices = [m1, im_after_T1, m2, im_after_T2]\n",
    "\n",
    "    return Telescope_devices\n",
    "\n",
    "def define_HHLM_2DCM(\n",
    "    E0, hkl1 = [1,1,1], alphaAsym1 = 9.0, hkl2 = [1,1,1], alphaAsym2 = 0.0, shapeErrors=[None for i in range(6)]):\n",
    "    '''\n",
    "    defines the HHLM optics for the 2DCM setup (1-1-2-2)\n",
    "    E0: photon energy [eV]\n",
    "    hkl: crystal reflection surface indices for pair 1 and pair 2\n",
    "    alphaAsym: asymmetry angle [degree], negative value means beam footprint increases after reflection\n",
    "    shapeErrors: crytal shapeError as loaded from Lin's profiles\n",
    "\n",
    "    returns optics\n",
    "    '''\n",
    "    z_s = 650\n",
    "\n",
    "    # viewing point - upstream of monochromator\n",
    "    im_input = optics.PPM('im_input', z=184+z_s, FOV=5e-3, N=256)\n",
    "\n",
    "    ## HHLM\n",
    "    asym1 = np.deg2rad(alphaAsym1)\n",
    "    asym2 = np.deg2rad(alphaAsym2)\n",
    "    hhlm1 = optics.Crystal('HHLM1', hkl=[1,1,1], length=1e-1, width=5e-3, z=305+z_s, alphaAsym=-asym1, E0=E0, \n",
    "                           orientation=0, pol='s', shapeError=shapeErrors[0])\n",
    "    im_after_HHLM1 = optics.PPM('im_after_HHLM1', FOV=20e-3,N=256,z=hhlm1.z+.01)\n",
    "\n",
    "    hhlm2 = optics.Crystal('HHLM2', hkl=[1,1,1], length=1e-1, width=5e-3, z=hhlm1.z+139e-3, alphaAsym=asym1, E0=E0,\n",
    "                           orientation=2, pol='s', shapeError=shapeErrors[3])\n",
    "    im_after_HHLM2 = optics.PPM('im_after_HHLM2', FOV=20e-3,N=256,z=hhlm2.z+.01)\n",
    "\n",
    "    hhlm3 = optics.Crystal('HHLM3', hkl=[1,1,1], length=1e-1, width=5e-3, z=hhlm1.z+361e-3, alphaAsym=-asym2, E0=E0,\n",
    "                           orientation=2, pol='s', shapeError=shapeErrors[1])\n",
    "    im_after_HHLM3 = optics.PPM('im_after_HHLM3', FOV=20e-3,N=256,z=hhlm3.z+.01)\n",
    "\n",
    "    hhlm4 = optics.Crystal('HHLM4', hkl=[1,1,1], length=1e-1, width=5e-3, z=hhlm1.z+.5, alphaAsym=asym2, E0=E0,\n",
    "                           orientation=0, pol='s', shapeError=shapeErrors[2])\n",
    "    im_after_HHLM4 = optics.PPM('im_after_HHLM4', FOV=20e-3,N=256,z=hhlm4.z+.01)\n",
    "\n",
    "    HHLM_devices = [im_input, hhlm1, im_after_HHLM1, hhlm2, im_after_HHLM2, hhlm3, im_after_HHLM3, hhlm4, im_after_HHLM4]\n",
    "\n",
    "    return HHLM_devices\n",
    "\n",
    "def define_HHLM_Zigzag(\n",
    "    E0, hkl1 = [1,1,1], alphaAsym1 = 9.0, hkl2 = [4,4,0], alphaAsym2 = 0.0, shapeErrors=[None for i in range(6)]):\n",
    "    '''\n",
    "    defines the HHLM optics for the zigzag setup (1-2-2-1)\n",
    "    E0: photon energy [eV]\n",
    "    hkl: crystal reflection surface indices for pair 1 and pair 2\n",
    "    alphaAsym: asymmetry angle [degree], negative value means beam footprint increases after reflection\n",
    "    shapeErrors: crytal shapeError as loaded from Lin's profiles\n",
    "\n",
    "    returns optics\n",
    "    '''\n",
    "    z_s = 650\n",
    "\n",
    "    # viewing point - upstream of monochromator\n",
    "    im_input = optics.PPM('im_input', z=184+z_s, FOV=5e-3, N=256)\n",
    "\n",
    "    ## HHLM\n",
    "    asym1 = np.deg2rad(alphaAsym1)\n",
    "    asym2 = np.deg2rad(alphaAsym2)\n",
    "    hhlm1 = optics.Crystal('HHLM1', hkl=[1,1,1], length=1e-1, width=5e-3, z=305+z_s, alphaAsym=-asym1, E0=E0, \n",
    "                           orientation=0, pol='s', shapeError=shapeErrors[0])\n",
    "    im_after_HHLM1 = optics.PPM('im_after_HHLM1', FOV=30e-3,N=256,z=hhlm1.z+.01)\n",
    "\n",
    "    hhlm2 = optics.Crystal('HHLM2', hkl=[4,4,0], length=1e-1, width=5e-3, z=hhlm1.z+139e-3, alphaAsym=-asym2, E0=E0,\n",
    "                           orientation=2, pol='s', shapeError=shapeErrors[1])\n",
    "    im_after_HHLM2 = optics.PPM('im_after_HHLM2', FOV=30e-3,N=256,z=hhlm2.z+.01)\n",
    "\n",
    "    hhlm3 = optics.Crystal('HHLM3', hkl=[4,4,0], length=1e-1, width=5e-3, z=hhlm1.z+361e-3, alphaAsym=asym2, E0=E0,\n",
    "                           orientation=0, pol='s', shapeError=shapeErrors[2])\n",
    "    im_after_HHLM3 = optics.PPM('im_after_HHLM3', FOV=30e-3,N=256,z=hhlm3.z+.01)\n",
    "\n",
    "    hhlm4 = optics.Crystal('HHLM4', hkl=[1,1,1], length=1e-1, width=5e-3, z=hhlm1.z+.5, alphaAsym=asym1, E0=E0,\n",
    "                           orientation=2, pol='s', shapeError=shapeErrors[3])\n",
    "    im_after_HHLM4 = optics.PPM('im_after_HHLM4', FOV=20e-3,N=256,z=hhlm4.z+.01)\n",
    "\n",
    "    HHLM_devices = [im_input, hhlm1, im_after_HHLM1, hhlm2, im_after_HHLM2, hhlm3, im_after_HHLM3, hhlm4, im_after_HHLM4]\n",
    "\n",
    "    return HHLM_devices"
   ]
  },
  {
   "cell_type": "code",
   "execution_count": 13,
   "metadata": {},
   "outputs": [],
   "source": [
    "def define_beamline(\n",
    "    E0, m1_p=185.0, m2_p=175.5, HHLM_type='2DCM',\n",
    "    hkl1 = [1,1,1], alphaAsym1 = 9.0, hkl2 = [1,1,1], alphaAsym2 = 0.0,\n",
    "    shapeErrors=[None for i in range(6)]):\n",
    "    \n",
    "    z_s = 650\n",
    "\n",
    "    # viewing point - upstream of monochromator\n",
    "    im_input = optics.PPM('im_input', z=184+z_s, FOV=5e-3, N=256)\n",
    "    \n",
    "    Telescope_devices = define_Telescope(E0, m1_p=m1_p, m2_p=m2_p)\n",
    "    \n",
    "    if HHLM_type == '2DCM':\n",
    "        HHLM_devices = define_HHLM_2DCM(E0, hkl1=hkl1, alphaAsym1=alphaAsym1,\n",
    "                                    hkl2=hkl2, alphaAsym2=alphaAsym2, shapeErrors=shapeErrors)\n",
    "    elif HHLM_type == 'Zigzag':\n",
    "        HHLM_devices = define_HHLM_Zigzag(E0, hkl1=hkl1, alphaAsym1=alphaAsym1,\n",
    "                                    hkl2=hkl2, alphaAsym2=alphaAsym2, shapeErrors=shapeErrors)\n",
    "    \n",
    "    all_devices = [im_input] + Telescope_devices + HHLM_devices\n",
    "    mono_beamline = beamline.Beamline(all_devices, ordered=True)\n",
    "    return mono_beamline\n"
   ]
  },
  {
   "cell_type": "markdown",
   "metadata": {},
   "source": [
    "### Setup beamline"
   ]
  },
  {
   "cell_type": "code",
   "execution_count": 14,
   "metadata": {
    "scrolled": false
   },
   "outputs": [
    {
     "name": "stdout",
     "output_type": "stream",
     "text": [
      "b 0.15\n",
      "b 6.76\n",
      "b 0.15\n",
      "b 6.76\n",
      "make path\n"
     ]
    }
   ],
   "source": [
    "##### perfect case\n",
    "m1_p = 185.0; m2_p = 175.5\n",
    "HHLM_type = '2DCM'\n",
    "hkl1 = [1,1,1]; alphaAsym1 = 9.0\n",
    "hkl2 = [1,1,1]; alphaAsym2 = 9.0\n",
    "\n",
    "dir_plot = dir_case+'{}_{}_{}'.format(HHLM_type, hkl1[0]*100+hkl1[1]*10+hkl1[0],\n",
    "                                      hkl2[0]*100+hkl2[1]*10+hkl2[0]); make_dir(dir_plot)"
   ]
  },
  {
   "cell_type": "markdown",
   "metadata": {},
   "source": [
    "### M2_p optimization"
   ]
  },
  {
   "cell_type": "code",
   "execution_count": 15,
   "metadata": {},
   "outputs": [
    {
     "ename": "NameError",
     "evalue": "name 'slit_width' is not defined",
     "output_type": "error",
     "traceback": [
      "\u001b[1;31m---------------------------------------------------------------------------\u001b[0m",
      "\u001b[1;31mNameError\u001b[0m                                 Traceback (most recent call last)",
      "\u001b[1;32m<ipython-input-15-547cb1533d56>\u001b[0m in \u001b[0;36m<module>\u001b[1;34m\u001b[0m\n\u001b[0;32m      7\u001b[0m \u001b[1;33m\u001b[0m\u001b[0m\n\u001b[0;32m      8\u001b[0m \u001b[1;32mfor\u001b[0m \u001b[0mi\u001b[0m \u001b[1;32min\u001b[0m \u001b[0mrange\u001b[0m\u001b[1;33m(\u001b[0m\u001b[0mn_loop\u001b[0m\u001b[1;33m)\u001b[0m\u001b[1;33m:\u001b[0m\u001b[1;33m\u001b[0m\u001b[1;33m\u001b[0m\u001b[0m\n\u001b[1;32m----> 9\u001b[1;33m     \u001b[0mmono_beamline\u001b[0m \u001b[1;33m=\u001b[0m \u001b[0mdefine_beamline\u001b[0m\u001b[1;33m(\u001b[0m\u001b[0mE0\u001b[0m\u001b[1;33m,\u001b[0m\u001b[0mslit_width\u001b[0m\u001b[1;33m,\u001b[0m\u001b[0mm2_p\u001b[0m\u001b[1;33m=\u001b[0m\u001b[0mm2_p\u001b[0m\u001b[1;33m[\u001b[0m\u001b[0mi\u001b[0m\u001b[1;33m]\u001b[0m\u001b[1;33m)\u001b[0m\u001b[1;33m\u001b[0m\u001b[1;33m\u001b[0m\u001b[0m\n\u001b[0m\u001b[0;32m     10\u001b[0m     \u001b[0mscreen_names\u001b[0m \u001b[1;33m=\u001b[0m \u001b[1;33m[\u001b[0m\u001b[1;34m'im_input'\u001b[0m\u001b[1;33m,\u001b[0m\u001b[1;34m'im_out'\u001b[0m\u001b[1;33m]\u001b[0m\u001b[1;33m\u001b[0m\u001b[1;33m\u001b[0m\u001b[0m\n\u001b[0;32m     11\u001b[0m \u001b[1;33m\u001b[0m\u001b[0m\n",
      "\u001b[1;31mNameError\u001b[0m: name 'slit_width' is not defined"
     ]
    }
   ],
   "source": [
    "%%capture capt\n",
    "n_loop = 31\n",
    "m2_p = np.linspace(150, 200, n_loop)\n",
    "pulse_duration = np.zeros_like(m2_p)\n",
    "pulse_tilt = np.zeros_like(m2_p)\n",
    "spatial_chirp = np.zeros_like(m2_p)\n",
    "energy_bandwidth = np.zeros_like(m2_p)\n",
    "\n",
    "for i in range(n_loop):\n",
    "    mono_beamline = define_beamline(E0, m1_p=m1_p, m2_p=m2_p[i], HHLM_type=HHLM_type,\n",
    "                                    hkl1=hkl1, alphaAsym1=alphaAsym1, hkl2=hkl2, alphaAsym2=alphaAsym2)\n",
    "\n",
    "    screen_names = ['im_input','im_out']\n",
    "    \n",
    "    beam_params['photonEnergy'] = E0\n",
    "    pulse = beam.Pulse(beam_params=beam_params, unit_spectrum=True, spectral_width=5000e-3, N=100)\n",
    "    pulse.propagate(beamline=mono_beamline,screen_names=screen_names)\n",
    "    c, pulse_duration[i] = pulse.pulse_duration('im_out')\n",
    "    pulse_tilt[i] = pulse.pulsefront_tilt('im_out')\n",
    "    spatial_chirp[i] = pulse.spatial_chirp('im_out')\n",
    "    energy_bandwidth[i] = pulse.pulse_bandwidth('im_out')\n"
   ]
  },
  {
   "cell_type": "code",
   "execution_count": 16,
   "metadata": {},
   "outputs": [
    {
     "ename": "IndexError",
     "evalue": "index -1 is out of bounds for axis 0 with size 0",
     "output_type": "error",
     "traceback": [
      "\u001b[1;31m---------------------------------------------------------------------------\u001b[0m",
      "\u001b[1;31mIndexError\u001b[0m                                Traceback (most recent call last)",
      "\u001b[1;32m<ipython-input-16-9c79f0be2039>\u001b[0m in \u001b[0;36m<module>\u001b[1;34m\u001b[0m\n\u001b[0;32m      1\u001b[0m \u001b[1;31m##### plots\u001b[0m\u001b[1;33m\u001b[0m\u001b[1;33m\u001b[0m\u001b[1;33m\u001b[0m\u001b[0m\n\u001b[1;32m----> 2\u001b[1;33m \u001b[0mindex\u001b[0m \u001b[1;33m=\u001b[0m \u001b[0mnp\u001b[0m\u001b[1;33m.\u001b[0m\u001b[0mwhere\u001b[0m\u001b[1;33m(\u001b[0m\u001b[0mspatial_chirp\u001b[0m\u001b[1;33m>\u001b[0m\u001b[1;36m0\u001b[0m\u001b[1;33m)\u001b[0m\u001b[1;33m[\u001b[0m\u001b[1;36m0\u001b[0m\u001b[1;33m]\u001b[0m\u001b[1;33m[\u001b[0m\u001b[1;33m-\u001b[0m\u001b[1;36m1\u001b[0m\u001b[1;33m]\u001b[0m    \u001b[1;31m# spatial chirp\u001b[0m\u001b[1;33m\u001b[0m\u001b[1;33m\u001b[0m\u001b[0m\n\u001b[0m\u001b[0;32m      3\u001b[0m \u001b[1;31m# index = energy_bandwidth.argmin()    # minimum bandwidth\u001b[0m\u001b[1;33m\u001b[0m\u001b[1;33m\u001b[0m\u001b[1;33m\u001b[0m\u001b[0m\n\u001b[0;32m      4\u001b[0m \u001b[0mresult\u001b[0m \u001b[1;33m=\u001b[0m \u001b[1;33m(\u001b[0m\u001b[0mm2_p\u001b[0m\u001b[1;33m[\u001b[0m\u001b[0mindex\u001b[0m\u001b[1;33m]\u001b[0m \u001b[1;33m+\u001b[0m \u001b[0mm2_p\u001b[0m\u001b[1;33m[\u001b[0m\u001b[0mindex\u001b[0m\u001b[1;33m+\u001b[0m\u001b[1;36m1\u001b[0m\u001b[1;33m]\u001b[0m\u001b[1;33m)\u001b[0m\u001b[1;33m/\u001b[0m\u001b[1;36m2\u001b[0m\u001b[1;33m\u001b[0m\u001b[1;33m\u001b[0m\u001b[0m\n\u001b[0;32m      5\u001b[0m \u001b[0mprint\u001b[0m\u001b[1;33m(\u001b[0m\u001b[1;34m'M2_p optimized: {}'\u001b[0m\u001b[1;33m.\u001b[0m\u001b[0mformat\u001b[0m\u001b[1;33m(\u001b[0m\u001b[0mresult\u001b[0m\u001b[1;33m)\u001b[0m\u001b[1;33m)\u001b[0m\u001b[1;33m\u001b[0m\u001b[1;33m\u001b[0m\u001b[0m\n",
      "\u001b[1;31mIndexError\u001b[0m: index -1 is out of bounds for axis 0 with size 0"
     ]
    }
   ],
   "source": [
    "##### plots\n",
    "index = np.where(spatial_chirp>0)[0][-1]    # spatial chirp\n",
    "# index = energy_bandwidth.argmin()    # minimum bandwidth\n",
    "result = (m2_p[index] + m2_p[index+1])/2\n",
    "print('M2_p optimized: {}'.format(result))\n",
    "\n",
    "plt.figure(figsize=(22,5))\n",
    "plt.suptitle('M2_p = {}'.format(result))\n",
    "\n",
    "plt.subplot(1,4,1)\n",
    "plt.plot(m2_p, pulse_duration,label='perfect')\n",
    "plt.xlabel('M2 p (m)')\n",
    "plt.ylabel('pulse duration (fs)')\n",
    "plt.grid()\n",
    "plt.legend()\n",
    "plt.tight_layout()\n",
    "plt.ylim([0, 1e4])\n",
    "\n",
    "plt.subplot(1,4,2)\n",
    "plt.plot(m2_p, pulse_tilt,label='perfect')\n",
    "plt.xlabel('M2 p (m)')\n",
    "plt.ylabel(r'pulsefront tilt (fs/$\\mu$m)')\n",
    "plt.grid()\n",
    "plt.legend()\n",
    "plt.tight_layout()\n",
    "\n",
    "plt.subplot(1,4,3)\n",
    "plt.plot(m2_p, spatial_chirp*1000,label='perfect')\n",
    "plt.xlabel('M2 p (m)')\n",
    "plt.ylabel(r'spatial chirp (meV/$\\mu$m)')\n",
    "plt.grid()\n",
    "plt.legend()\n",
    "plt.tight_layout()\n",
    "plt.ylim([-3e-3, 3e-3])\n",
    "\n",
    "plt.subplot(1,4,4)\n",
    "plt.plot(m2_p, energy_bandwidth*1000,label='perfect')\n",
    "plt.xlabel('M2 p (m)')\n",
    "plt.ylabel('bandwidth (meV)')\n",
    "plt.grid()\n",
    "plt.legend()\n",
    "plt.tight_layout()\n",
    "plt.ylim([0, 10])\n",
    "\n",
    "# plt.savefig(dir_plot+'M2_p_optimization.png')"
   ]
  },
  {
   "cell_type": "code",
   "execution_count": null,
   "metadata": {},
   "outputs": [],
   "source": [
    "import winsound\n",
    "winsound.Beep(1500, 3000)"
   ]
  }
 ],
 "metadata": {
  "kernelspec": {
   "display_name": "Python 3",
   "language": "python",
   "name": "python3"
  },
  "language_info": {
   "codemirror_mode": {
    "name": "ipython",
    "version": 3
   },
   "file_extension": ".py",
   "mimetype": "text/x-python",
   "name": "python",
   "nbconvert_exporter": "python",
   "pygments_lexer": "ipython3",
   "version": "3.8.5"
  }
 },
 "nbformat": 4,
 "nbformat_minor": 4
}
