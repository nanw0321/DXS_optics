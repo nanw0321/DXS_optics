{
 "cells": [
  {
   "cell_type": "code",
   "execution_count": 1,
   "metadata": {},
   "outputs": [],
   "source": [
    "from Functions import *\n",
    "import winsound"
   ]
  },
  {
   "cell_type": "markdown",
   "metadata": {},
   "source": [
    "# Preliminary"
   ]
  },
  {
   "cell_type": "code",
   "execution_count": 2,
   "metadata": {
    "tags": []
   },
   "outputs": [],
   "source": [
    "def define_beamline_normal(\n",
    "    E0, m1_p=185.0, m1_q=-25.6, m2_p=141.6, m2_q=1e5,\n",
    "    HHLM_type='2DCM', HHLM_offset=20e-3, pair_distance=200e-3,\n",
    "    slit_width=3e-6, f1=10.0, f2=10.0,\n",
    "    hkl1 = [1,1,1], alphaAsym1 = 0.0,\n",
    "    hkl2 = [2,2,0], alphaAsym2 = 0.0,\n",
    "    hkl3 = [5,5,5], alphaAsym3 = 15.0,\n",
    "    shapeErrors=[None for i in range(6)],\n",
    "    l_crystal=[1e-1 for i in range(6)],\n",
    "    w_crystal = [5e-3 for i in range(6)]):\n",
    "    \n",
    "    z_s = 650\n",
    "\n",
    "    # viewing point - upstream of monochromator\n",
    "    im_input = optics.PPM('im_input', z=184+z_s, FOV=5e-3, N=512)\n",
    "    \n",
    "    Telescope_devices = define_Telescope(E0, m1_p=m1_p, m1_q=m1_q, m2_p=m2_p, m2_q=m2_q)\n",
    "    \n",
    "    if HHLM_type == '2DCM':\n",
    "        HHLM_devices = define_HHLM_2DCM(E0,\n",
    "                                    HHLM_offset=HHLM_offset,\n",
    "                                    pair_distance=pair_distance,\n",
    "                                    hkl1=hkl1, alphaAsym1=alphaAsym1,\n",
    "                                    hkl2=hkl2, alphaAsym2=alphaAsym2,\n",
    "                                    shapeErrors=shapeErrors,\n",
    "                                    l_crystal=l_crystal,\n",
    "                                    w_crystal = w_crystal)\n",
    "    elif HHLM_type == 'Zigzag':\n",
    "        HHLM_devices = define_HHLM_Zigzag(E0,\n",
    "                                    HHLM_offset=HHLM_offset,\n",
    "                                    pair_distance=pair_distance,\n",
    "                                    hkl1=hkl1, alphaAsym1=alphaAsym1,\n",
    "                                    hkl2=hkl2, alphaAsym2=alphaAsym2,\n",
    "                                    shapeErrors=shapeErrors,\n",
    "                                    l_crystal=l_crystal,\n",
    "                                    w_crystal = w_crystal)\n",
    "    \n",
    "    HRM_devices = define_HRM(E0, f1=f1, f2=f2, slit_width=slit_width,\n",
    "                            hkl=hkl3, alphaAsym=alphaAsym3,\n",
    "                            shapeErrors=shapeErrors,\n",
    "                            l_crystal=l_crystal,\n",
    "                            w_crystal=w_crystal)\n",
    "\n",
    "    all_devices = [im_input] + Telescope_devices + HHLM_devices + HRM_devices\n",
    "    \n",
    "    mono_beamline = beamline.Beamline(all_devices, ordered=True)\n",
    "    return all_devices, mono_beamline"
   ]
  },
  {
   "cell_type": "markdown",
   "metadata": {},
   "source": [
    "### 1. common simulation parameters"
   ]
  },
  {
   "cell_type": "code",
   "execution_count": 3,
   "metadata": {
    "tags": []
   },
   "outputs": [
    {
     "name": "stdout",
     "output_type": "stream",
     "text": [
      "185.0 -38.708938008099835 153.70893800809984\n",
      "path exists\n",
      "path exists\n",
      "\n",
      "CWD: output/11215eV_2DCM_111-6.0_440-32.0_20.0mm/\n"
     ]
    }
   ],
   "source": [
    "##### ''' Beam parameters '''\n",
    "N = 1024          # number of sampling points\n",
    "E0 = 9000        # photon energy [eV]\n",
    "\n",
    "# parameter dictionary. z_source is in LCLS coordinates (20 meters upstream of undulator exit)\n",
    "beam_params = {\n",
    "    'photonEnergy': E0,\n",
    "    'N': N,\n",
    "    'sigma_x': 23e-6,\n",
    "    'sigma_y': 23e-6,\n",
    "    'rangeFactor': 5,\n",
    "    'scaleFactor': 10,\n",
    "    'z_source': 650\n",
    "}\n",
    "\n",
    "##### common simulation parameters\n",
    "m1_p = 185.0     # mirror 1 source distance\n",
    "\n",
    "# calculate beam size at mirror 1\n",
    "wavelength = 1239.84193e-9/E0\n",
    "Rayleigh_length = np.pi*beam_params['sigma_x']**2/wavelength\n",
    "beam_width_z = 2.35*beam_params['sigma_x'] * np.sqrt(1+np.square((m1_p)/Rayleigh_length))    # 2 x FWHM\n",
    "\n",
    "# estimate m2_p geometrically\n",
    "m2_p = 2.65e-3/(2.65e-3-beam_width_z)*115\n",
    "m1_q = 115.0 - m2_p\n",
    "print(m1_p, m1_q, m2_p)\n",
    "\n",
    "f1 = 10.0; f2 = 10.0            # f1: crystal-mirror distance, f2: mirror focal distance\n",
    "\n",
    "HHLM_type = '2DCM'              # 2DCM or Zigzag\n",
    "HHLM_offset=20e-3\n",
    "pair_distance=200e-3\n",
    "hkl1 = [4,4,0]; alphaAsym1 = 41.3    # asymmetry angle for the 1st pair of HHLM crystal\n",
    "hkl2 = [5,5,3]; alphaAsym2 = 74   # ````````````````````````2nd pair of HHLM crystal\n",
    "hkl3 = [4,4,0]; alphaAsym3 = 15.0   # ````````````````````````2nd and 3rd HRM crystal\n",
    "\n",
    "# list of crystals\n",
    "crystals = np.array(['HHLM1', 'HHLM2', 'HHLM3', 'HHLM4', 'C1', 'C2']); n_crys = len(crystals)\n",
    "\n",
    "##### I/O\n",
    "dir_out = 'output/'; make_dir(dir_out)\n",
    "dir_plot = dir_out+'{}eV_{}_{}-{}_{}-{}_{}mm/'.format(E0, HHLM_type,\n",
    "                                          hkl1[0]*100+hkl1[1]*10+hkl1[2], alphaAsym1,\n",
    "                                          hkl2[0]*100+hkl2[1]*10+hkl2[2], alphaAsym2,\n",
    "                                          HHLM_offset*1e3); make_dir(dir_plot)\n",
    "print('\\nCWD:',dir_plot)"
   ]
  },
  {
   "cell_type": "markdown",
   "metadata": {},
   "source": [
    "### 2. calculate crystal dimensions and slit width"
   ]
  },
  {
   "cell_type": "code",
   "execution_count": 4,
   "metadata": {
    "tags": []
   },
   "outputs": [],
   "source": [
    "%%capture capt\n",
    "\n",
    "# simulation parameters for the normal condition\n",
    "slit_width = 1e-1\n",
    "shapeErrors = [None for i in range(6)]\n",
    "l_crystal = [1e-1 for i in range(6)]\n",
    "w_crystal = [5e-3 for i in range(6)]\n",
    "\n",
    "mono_devices_calc, mono_beamline_calc = define_beamline_normal(E0,\n",
    "                               m1_p=m1_p, m1_q=m1_q, m2_p=m2_p,\n",
    "                               HHLM_type=HHLM_type,\n",
    "                               HHLM_offset=HHLM_offset,\n",
    "                               pair_distance=pair_distance,\n",
    "                               slit_width=slit_width, f1=f1, f2=f2,\n",
    "                               hkl1=hkl1, alphaAsym1=alphaAsym1,\n",
    "                               hkl2=hkl2, alphaAsym2=alphaAsym2,\n",
    "                               hkl3=hkl3, alphaAsym3=alphaAsym3,\n",
    "                               shapeErrors=[None for i in range(6)],\n",
    "                               l_crystal=l_crystal,\n",
    "                               w_crystal=w_crystal)\n",
    "\n",
    "b1_calc = beam.Beam(beam_params=beam_params)\n",
    "b2_calc = mono_beamline_calc.propagate_beamline(b1_calc)"
   ]
  },
  {
   "cell_type": "code",
   "execution_count": 5,
   "metadata": {
    "tags": []
   },
   "outputs": [
    {
     "name": "stdout",
     "output_type": "stream",
     "text": [
      "bragg angle: [10.157 10.155 35.158 35.154 35.154 35.154]\n",
      "asymmetry: [ -6.   6. -32.  32.   0.  15.]\n",
      "beam size: [ 5.097  1.328 22.218  1.337  1.337  0.6  ] mm\n",
      "footprint: [18.318 18.318 24.11  24.11   2.322  1.742] mm\n",
      "position: [955.      955.05403 955.25403 955.26118 960.      960.00716] m\n",
      "\n",
      "calculated slit width: 0.86um\n",
      "actual slit width: 3.0um\n",
      "\n"
     ]
    }
   ],
   "source": [
    "# get crytal properties\n",
    "beta0s = []; braggs = []; asyms = []; OE_z = []\n",
    "for device in mono_devices_calc:\n",
    "    if device.name in crystals:\n",
    "        beta0s.append(device.beta0)\n",
    "        braggs.append(np.rad2deg(device.bragg))\n",
    "        asyms.append(np.rad2deg(device.alphaAsym))\n",
    "        OE_z.append(device.z)\n",
    "\n",
    "# calculate beam FWHM after each crystal\n",
    "wx1, wy1 = mono_beamline_calc.im_after_HHLM1.beam_analysis(mono_beamline_calc.im_after_HHLM1.get_profile_x(), mono_beamline_calc.im_after_HHLM1.get_profile_y())[2:4]\n",
    "wx2, wy2 = mono_beamline_calc.im_after_HHLM2.beam_analysis(mono_beamline_calc.im_after_HHLM2.get_profile_x(), mono_beamline_calc.im_after_HHLM2.get_profile_y())[2:4]\n",
    "wx3, wy3 = mono_beamline_calc.im_after_HHLM3.beam_analysis(mono_beamline_calc.im_after_HHLM3.get_profile_x(), mono_beamline_calc.im_after_HHLM3.get_profile_y())[2:4]\n",
    "wx4, wy4 = mono_beamline_calc.im_after_HHLM4.beam_analysis(mono_beamline_calc.im_after_HHLM4.get_profile_x(), mono_beamline_calc.im_after_HHLM4.get_profile_y())[2:4]\n",
    "wx5, wy5 = mono_beamline_calc.im_after_C1.beam_analysis(mono_beamline_calc.im_after_C1.get_profile_x(), mono_beamline_calc.im_after_C1.get_profile_y())[2:4]\n",
    "wx6, wy6 = mono_beamline_calc.im_after_C2.beam_analysis(mono_beamline_calc.im_after_C2.get_profile_x(), mono_beamline_calc.im_after_C2.get_profile_y())[2:4]\n",
    "beam_size = np.array([wx1, wx2, wx3, wx4, wx5, wx6])    # FWHM\n",
    "\n",
    "# crystal lengths (long) and widths (short) [m]\n",
    "l_crystal = np.divide(beam_size*2, np.sin(beta0s))\n",
    "w_crystal = np.array([wy1, wy2, wy3, wy4, wy5, wy6])*2\n",
    "\n",
    "print('bragg angle: {}'.format(np.round(braggs,3)))\n",
    "print('asymmetry: {}'.format(np.round(asyms,3)))\n",
    "print('beam size: {} mm'.format(np.round(beam_size*1e3, 3)))\n",
    "print('footprint: {} mm'.format(np.round(l_crystal*1e3/2, 3)))\n",
    "print('position: {} m\\n'.format(np.round(OE_z, 5)))\n",
    "\n",
    "\n",
    "# calculate slit width\n",
    "slit_width = calc_slit_width(wx6*2, b2_calc.lambda0, mono_beamline_calc.mir1.q)\n",
    "print('calculated slit width: {}um'.format(round(slit_width*1e6,2)))\n",
    "\n",
    "if slit_width < 3e-6: slit_width = 3e-6\n",
    "print('actual slit width: {}um\\n'.format(round(slit_width*1e6,2)))"
   ]
  },
  {
   "cell_type": "markdown",
   "metadata": {},
   "source": [
    "### M2_p optimization (perfect case)"
   ]
  },
  {
   "cell_type": "code",
   "execution_count": 6,
   "metadata": {
    "tags": []
   },
   "outputs": [],
   "source": [
    "%%capture capt\n",
    "n_loop = 31\n",
    "# log_m2_p = np.linspace(-0.1, 0.1, n_loop) + np.log10(m2_p)\n",
    "# m2_p_list = 10**log_m2_p\n",
    "# xscale = 'log'\n",
    "\n",
    "m2_p_list = np.linspace(-10,10,n_loop) + m2_p\n",
    "xscale = 'linear'\n",
    "\n",
    "pulse_duration = np.zeros_like(m2_p_list)\n",
    "pulse_tilt = np.zeros_like(m2_p_list)\n",
    "spatial_chirp = np.zeros_like(m2_p_list)\n",
    "energy_bandwidth = np.zeros_like(m2_p_list)\n",
    "throughput = np.zeros_like(m2_p_list)\n",
    "\n",
    "if os.path.exists(dir_plot+'perfect_{}um_slit.h5'.format(slit_width*1e6)):\n",
    "    print('perfect case already simulated, skipping to plots')\n",
    "else:\n",
    "    for i in range(n_loop):\n",
    "        mono_devices_p, mono_beamline_p = define_beamline_normal(E0,\n",
    "                               m1_p=m1_p, m1_q=m1_q, m2_p=m2_p_list[i],\n",
    "                               HHLM_type=HHLM_type,\n",
    "                               HHLM_offset=HHLM_offset,\n",
    "                               pair_distance=pair_distance,\n",
    "                               slit_width=slit_width, f1=f1, f2=f2,\n",
    "                               hkl1=hkl1, alphaAsym1=alphaAsym1,\n",
    "                               hkl2=hkl2, alphaAsym2=alphaAsym2,\n",
    "                               hkl3=hkl3, alphaAsym3=alphaAsym3,\n",
    "                               shapeErrors=[None for i in range(6)],\n",
    "                               l_crystal=l_crystal,\n",
    "                               w_crystal=w_crystal)\n",
    "\n",
    "        screen_names = ['im_input','im_out']\n",
    "\n",
    "        beam_params['photonEnergy'] = E0\n",
    "        pulse = beam.Pulse(beam_params=beam_params, unit_spectrum=True, spectral_width=40e-3, N=100)\n",
    "        \n",
    "        try:\n",
    "            pulse.propagate(beamline=mono_beamline_p,screen_names=screen_names)\n",
    "        except:\n",
    "            pulse_duration[i] = 1e5\n",
    "            pulse_tilt[i] = 1e5\n",
    "            spatial_chirp[i] = 1e5\n",
    "            energy_bandwidth[i] = 1e5\n",
    "            throughput[i] = 0\n",
    "            continue\n",
    "        \n",
    "        try:\n",
    "            c, pulse_duration[i] = pulse.pulse_duration('im_out')\n",
    "        except:\n",
    "            pulse_duration[i] = 1e5\n",
    "        \n",
    "        try:\n",
    "            pulse_tilt[i] = pulse.pulsefront_tilt('im_out')\n",
    "        except:\n",
    "            pulse_tilt[i] = 1e5\n",
    "        try:\n",
    "            spatial_chirp[i] = pulse.spatial_chirp('im_out')\n",
    "        except:\n",
    "            spatial_chirp[i] = 1e5\n",
    "        try:\n",
    "            energy_bandwidth[i] = pulse.pulse_bandwidth('im_out')\n",
    "        except:\n",
    "            energy_bandwidth[i] = 1e5\n",
    "        try:\n",
    "            throughput[i] = pulse.throughput('im_input','im_out')\n",
    "        except:\n",
    "            throughput[i] = 0\n",
    "\n",
    "    with h5py.File(dir_plot+'perfect_{}um_slit.h5'.format(slit_width*1e6), 'w') as f:\n",
    "        f.create_dataset('m2_p', data=m2_p_list)\n",
    "        f.create_dataset('pulse_duration', data=pulse_duration)\n",
    "        f.create_dataset('tilt', data=pulse_tilt)\n",
    "        f.create_dataset('chirp', data=spatial_chirp)\n",
    "        f.create_dataset('bandwidth', data=energy_bandwidth)\n",
    "        f.create_dataset('throughput', data=throughput)\n",
    "\n",
    "winsound.Beep(1500, 1000)"
   ]
  },
  {
   "cell_type": "code",
   "execution_count": 7,
   "metadata": {},
   "outputs": [
    {
     "name": "stdout",
     "output_type": "stream",
     "text": [
      "output/11215eV_2DCM_111-6.0_440-32.0_20.0mm/\n",
      "left 153.70893800809984, right 154.3756046747665, result 154.0319268917302\n",
      "154.0319268917302\n"
     ]
    },
    {
     "data": {
      "image/png": "[encoded data removed]",
      "text/plain": [
       "<Figure size 1944x360 with 5 Axes>"
      ]
     },
     "metadata": {
      "needs_background": "light"
     },
     "output_type": "display_data"
    }
   ],
   "source": [
    "##### m2_p optimization (perfect case)\n",
    "with h5py.File(dir_plot+'perfect_{}um_slit.h5'.format(slit_width*1e6), 'r') as f:\n",
    "    m2_p_list = f['m2_p'][:]\n",
    "    pulse_duration0 = f['pulse_duration'][:]\n",
    "    pulse_tilt0 = f['tilt'][:]\n",
    "    spatial_chirp0 = f['chirp'][:]\n",
    "    energy_bandwidth0 = f['bandwidth'][:]\n",
    "    throughput0 = f['throughput'][:]\n",
    "\n",
    "plot_axis_x0 = m2_p_list\n",
    "plot_label_x0 = 'm2_p (m)'\n",
    "plot_legend0 = 'perfect'\n",
    "    \n",
    "print(dir_plot)\n",
    "try:\n",
    "    result = find_zero(plot_axis_x0, spatial_chirp0, direction='decrease', x_i=150, x_f=170)\n",
    "    print(result)\n",
    "except:\n",
    "    result = plot_axis_x0[energy_bandwidth0.argmin()]\n",
    "\n",
    "plt.figure(figsize=(27,5))\n",
    "plt.suptitle('{}eV_{}, m2_p = {}'.format(E0, HHLM_type, result))\n",
    "\n",
    "plt.subplot(1,5,1)\n",
    "plt.plot(plot_axis_x0, pulse_duration0,label=plot_legend0)\n",
    "plt.plot([m2_p, m2_p], [0, 2e3], 'r-', alpha=0.5, label='initial guess')\n",
    "plt.plot([result, result], [0, 2e3], 'g-', alpha=1.0, label='optimized')\n",
    "plt.xlabel(plot_label_x0); plt.ylabel('pulse duration (fs)')\n",
    "plt.grid(); plt.legend(); plt.tight_layout(); plt.xscale(xscale)\n",
    "# plt.ylim([0, 2e3])\n",
    "\n",
    "plt.subplot(1,5,2)\n",
    "plt.plot(plot_axis_x0, pulse_tilt0,label=plot_legend0)\n",
    "plt.plot([m2_p, m2_p], [-0.5, 0.5], 'r-', alpha=0.5, label='initial guess')\n",
    "plt.plot([result, result], [-0.5, 0.5], 'g-', alpha=1.0, label='optimized')\n",
    "plt.xlabel(plot_label_x0); plt.ylabel(r'pulsefront tilt (fs/$\\mu$m)')\n",
    "plt.grid(); plt.legend(); plt.tight_layout(); plt.xscale(xscale)\n",
    "# plt.ylim([-0.5,0.5])\n",
    "\n",
    "plt.subplot(1,5,3)\n",
    "plt.plot(plot_axis_x0, spatial_chirp0*1000,label=plot_legend0)\n",
    "plt.plot([m2_p, m2_p], [-5e-3, 5e-3], 'r-', alpha=0.5, label='initial guess')\n",
    "plt.plot([result, result], [-5e-3, 5e-3], 'g-', alpha=1.0, label='optimized')\n",
    "plt.xlabel(plot_label_x0); plt.ylabel(r'spatial chirp (meV/$\\mu$m)')\n",
    "plt.grid(); plt.legend(); plt.tight_layout(); plt.xscale(xscale)\n",
    "plt.ylim([-1e-2, 1e-2])\n",
    "\n",
    "plt.subplot(1,5,4)\n",
    "plt.plot(plot_axis_x0, energy_bandwidth0*1000,label=plot_legend0)\n",
    "plt.plot([m2_p, m2_p], [-5, 50], 'r-', alpha=0.5, label='initial guess')\n",
    "plt.plot([result, result], [-5, 50], 'g-', alpha=1.0, label='optimized')\n",
    "plt.xlabel(plot_label_x0); plt.ylabel('bandwidth (meV)')\n",
    "plt.grid(); plt.legend(); plt.tight_layout(); plt.xscale(xscale)\n",
    "plt.ylim([0, 20])\n",
    "\n",
    "plt.subplot(1,5,5)\n",
    "plt.plot(plot_axis_x0, throughput0*100,label=plot_legend0)\n",
    "plt.plot([m2_p, m2_p], [-5,105], 'r-', alpha=0.5, label='initial guess')\n",
    "plt.plot([result, result], [-5,105], 'g-', alpha=1.0, label='optimized')\n",
    "plt.xlabel(plot_label_x0); plt.ylabel('throughput (%)')\n",
    "plt.grid(); plt.legend(); plt.tight_layout(); plt.xscale(xscale)\n",
    "plt.ylim([0, 50])\n",
    "\n",
    "plt.savefig(dir_plot+'m2_p_optimization.png')\n"
   ]
  },
  {
   "cell_type": "code",
   "execution_count": 8,
   "metadata": {},
   "outputs": [],
   "source": [
    "import winsound\n",
    "winsound.Beep(1500, 3000)"
   ]
  },
  {
   "cell_type": "code",
   "execution_count": null,
   "metadata": {},
   "outputs": [],
   "source": []
  }
 ],
 "metadata": {
  "kernelspec": {
   "display_name": "Python 3",
   "language": "python",
   "name": "python3"
  },
  "language_info": {
   "codemirror_mode": {
    "name": "ipython",
    "version": 3
   },
   "file_extension": ".py",
   "mimetype": "text/x-python",
   "name": "python",
   "nbconvert_exporter": "python",
   "pygments_lexer": "ipython3",
   "version": "3.6.13"
  }
 },
 "nbformat": 4,
 "nbformat_minor": 4
}
