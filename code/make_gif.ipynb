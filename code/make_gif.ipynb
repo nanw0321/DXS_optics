{
 "cells": [
  {
   "cell_type": "code",
   "execution_count": 4,
   "metadata": {},
   "outputs": [],
   "source": [
    "import imageio, os\n",
    "import numpy as np"
   ]
  },
  {
   "cell_type": "code",
   "execution_count": 12,
   "metadata": {},
   "outputs": [],
   "source": [
    "# sampling parameters\n",
    "t_window = 1000e-15  # total time window [s]\n",
    "ev_window = 4000e-3   # total energy window [eV]\n",
    "t_res = 4/ev_window *1e-15       # time sampling resolution [s]; roughly: 10fs/pt = 400meV range\n",
    "\n",
    "sigT = 10e-15/2.355\n",
    "pulseRange = int(t_window/sigT)\n",
    "nx = 512; ny = 2; nz = 2*int(t_window/t_res/2)\n",
    "range_x = 4e-3; range_y = 4e-3\n",
    "factor = -1 # factor = 0.5\n",
    "\n",
    "def rCRL(fCRL, nCRL):\n",
    "    # calculates the min radius of curvature of each lens\n",
    "    return 7.58227e-06*fCRL/nCRL\n",
    "\n",
    "fCRL0 = 290.; nCRL0 = 1\n",
    "\n",
    "# I/O\n",
    "def mkdir(path):\n",
    "    if not os.path.exists(path):\n",
    "        os.mkdir(path)\n",
    "dir_output = 'output/'; mkdir(dir_output)\n",
    "dir_case = dir_output+'1_crystal/'; mkdir(dir_case)\n",
    "dir_param = dir_case+'symmetric_{}fs/'.format(round(sigT*2.355*1e15,2)); mkdir(dir_param)\n",
    "dir_plot = dir_param+'drift_tolerance/'; mkdir(dir_plot)\n"
   ]
  },
  {
   "cell_type": "code",
   "execution_count": 13,
   "metadata": {},
   "outputs": [],
   "source": [
    "distance_list = np.linspace(0.1,10,10)\n",
    "labels = np.round(distance_list, 2)\n",
    "\n",
    "images = []\n",
    "for i, label in enumerate(labels):\n",
    "    filename = dir_plot+'{}_{}m_log.png'.format(i+1,label)\n",
    "    images.append(imageio.imread(filename))\n",
    "imageio.mimsave(dir_param+'drift_semi_on.gif', images, duration=0.5)"
   ]
  },
  {
   "cell_type": "code",
   "execution_count": null,
   "metadata": {},
   "outputs": [],
   "source": []
  }
 ],
 "metadata": {
  "kernelspec": {
   "display_name": "Python 3",
   "language": "python",
   "name": "python3"
  },
  "language_info": {
   "codemirror_mode": {
    "name": "ipython",
    "version": 3
   },
   "file_extension": ".py",
   "mimetype": "text/x-python",
   "name": "python",
   "nbconvert_exporter": "python",
   "pygments_lexer": "ipython3",
   "version": "3.6.10"
  }
 },
 "nbformat": 4,
 "nbformat_minor": 4
}
