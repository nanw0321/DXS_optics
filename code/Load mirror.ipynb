{
 "cells": [
  {
   "cell_type": "code",
   "execution_count": 2,
   "metadata": {},
   "outputs": [],
   "source": [
    "import numpy as np"
   ]
  },
  {
   "cell_type": "code",
   "execution_count": 1,
   "metadata": {},
   "outputs": [],
   "source": [
    "from srwpy import srwlib"
   ]
  },
  {
   "cell_type": "code",
   "execution_count": 3,
   "metadata": {},
   "outputs": [],
   "source": [
    "mir_2d = np.loadtxt('mirror_2d.dat', delimiter='\\t')"
   ]
  },
  {
   "cell_type": "code",
   "execution_count": 4,
   "metadata": {
    "scrolled": false
   },
   "outputs": [],
   "source": [
    "mirror_2d = srwlib.srwl_uti_read_data_cols('mirror_2d.dat',\"\\t\")"
   ]
  },
  {
   "cell_type": "code",
   "execution_count": 8,
   "metadata": {},
   "outputs": [],
   "source": [
    "MIR = srwlib.srwl_opt_setup_surf_height_2d(mirror_2d,\n",
    "                                    _dim='x',\n",
    "                                    _ang=np.deg2rad(15),\n",
    "                                    _amp_coef=1.0,\n",
    "                                    _size_x=1e-3,\n",
    "                                    _size_y=1e-3,\n",
    "                                    )\n"
   ]
  },
  {
   "cell_type": "code",
   "execution_count": 24,
   "metadata": {},
   "outputs": [
    {
     "data": {
      "text/plain": [
       "{'type': 'mirror2d',\n",
       " 'heightProfileFile': '',\n",
       " 'orientation': 'x',\n",
       " 'grazingAngle': 0.2617993877991494,\n",
       " 'reflectionAngle': 0,\n",
       " 'heightAmplification': 1.0,\n",
       " 'longitudinalPosition': None,\n",
       " 'transversePosition': None,\n",
       " 'horizontalPoints': 0,\n",
       " 'verticalPoints': 0,\n",
       " 'horizontalTransverseSize': 0.001,\n",
       " 'verticalTransverseSize': 0.001}"
      ]
     },
     "execution_count": 24,
     "metadata": {},
     "output_type": "execute_result"
    }
   ],
   "source": [
    "MIR.input_parms"
   ]
  },
  {
   "cell_type": "code",
   "execution_count": 6,
   "metadata": {},
   "outputs": [
    {
     "data": {
      "text/plain": [
       "(-0.5, 7.5, 771.5, -0.5)"
      ]
     },
     "execution_count": 6,
     "metadata": {},
     "output_type": "execute_result"
    },
    {
     "data": {
      "image/png": "[encoded data removed]",
      "text/plain": [
       "<Figure size 432x288 with 1 Axes>"
      ]
     },
     "metadata": {
      "needs_background": "light"
     },
     "output_type": "display_data"
    }
   ],
   "source": [
    "import matplotlib.pyplot as plt\n",
    "\n",
    "plt.figure()\n",
    "plt.imshow(mir_2d, cmap='jet')\n",
    "plt.axis('tight')"
   ]
  }
 ],
 "metadata": {
  "kernelspec": {
   "display_name": "Python SRW",
   "language": "python",
   "name": "srw"
  },
  "language_info": {
   "codemirror_mode": {
    "name": "ipython",
    "version": 3
   },
   "file_extension": ".py",
   "mimetype": "text/x-python",
   "name": "python",
   "nbconvert_exporter": "python",
   "pygments_lexer": "ipython3",
   "version": "3.9.2"
  }
 },
 "nbformat": 4,
 "nbformat_minor": 4
}
