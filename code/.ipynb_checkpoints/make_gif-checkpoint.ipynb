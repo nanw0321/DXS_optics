{
 "cells": [
  {
   "cell_type": "code",
   "execution_count": 1,
   "metadata": {},
   "outputs": [],
   "source": [
    "import imageio, os\n",
    "import numpy as np"
   ]
  },
  {
   "cell_type": "code",
   "execution_count": 2,
   "metadata": {},
   "outputs": [],
   "source": [
    "t_window = 8000e-15  # total time window [s]\n",
    "ev_window = 500e-3   # total energy window [eV]\n",
    "t_res = 4/ev_window *1e-15       # time sampling resolution [s]; roughly: 10fs/pt = 400meV range\n",
    "\n",
    "sigT = 100e-15/2.355        # pulse duration [s]\n",
    "pulseRange = int(t_window/sigT)\n",
    "nx = 256; ny = 256; nz = 2*int(t_window/t_res/2)\n",
    "range_x = 4e-3; range_y = 4e-3\n",
    "factor = -1 # factor = 0.5\n",
    "d_slit = 10e-6\n",
    "\n",
    "def rCRL(fCRL, nCRL):\n",
    "    # calculates the min radius of curvature of each lens\n",
    "    return 7.58227e-06*fCRL/nCRL\n",
    "\n",
    "fCRL0 = 290.; nCRL0 = 1\n",
    "fCRL1 = 10.; nCRL1 = 1\n",
    "fCRL2 = 10.; nCRL2 = 1\n",
    "\n",
    "# I/O\n",
    "def mkdir(path):\n",
    "    if not os.path.exists(path):\n",
    "        os.mkdir(path)\n",
    "dir_output = 'output/'; mkdir(dir_output)\n",
    "dir_case = dir_output+'f1_scan/'; mkdir(dir_case)\n",
    "dir_param = dir_case+'{}fs/'.format(round(sigT*2.355*1e15,2)); mkdir(dir_param)\n",
    "dir_plot = dir_param+'{}fs_{}meV/'.format(round(t_window*1e15,1),round(ev_window*1e3,1)); mkdir(dir_plot)\n"
   ]
  },
  {
   "cell_type": "code",
   "execution_count": 12,
   "metadata": {},
   "outputs": [],
   "source": [
    "f1_list = np.linspace(12,8,5)\n",
    "\n",
    "# label = '3_focus open'\n",
    "label = '4_before C3 open'\n",
    "# label = '5_output open'\n",
    "\n",
    "# label = '3_focus closed'\n",
    "label = '4_before C3 closed'\n",
    "# label = '5_output closed'\n",
    "\n",
    "images = []\n",
    "for i, f1 in enumerate(f1_list):\n",
    "    dir_f1 = dir_plot+'rep_{}_f{}/'.format(i,round(f1,2)); mkdir(dir_f1)\n",
    "    pltname = 'nx{}_ny{}_nz{}_{}.png'.format(nx,ny,nz,label)\n",
    "    images.append(imageio.imread(dir_f1+pltname))\n",
    "    \n",
    "imageio.mimsave(dir_plot+'f1_scan_{}_open.gif'.format(label), images, duration=1)"
   ]
  },
  {
   "cell_type": "code",
   "execution_count": null,
   "metadata": {},
   "outputs": [],
   "source": []
  }
 ],
 "metadata": {
  "kernelspec": {
   "display_name": "Python 3",
   "language": "python",
   "name": "python3"
  },
  "language_info": {
   "codemirror_mode": {
    "name": "ipython",
    "version": 3
   },
   "file_extension": ".py",
   "mimetype": "text/x-python",
   "name": "python",
   "nbconvert_exporter": "python",
   "pygments_lexer": "ipython3",
   "version": "3.6.10"
  }
 },
 "nbformat": 4,
 "nbformat_minor": 4
}
