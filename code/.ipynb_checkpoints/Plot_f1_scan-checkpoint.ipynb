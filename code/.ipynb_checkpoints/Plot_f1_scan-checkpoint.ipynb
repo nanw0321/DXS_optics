{
 "cells": [
  {
   "cell_type": "code",
   "execution_count": 1,
   "metadata": {},
   "outputs": [],
   "source": [
    "import h5py\n",
    "import numpy as np\n",
    "import matplotlib.pyplot as plt\n"
   ]
  },
  {
   "cell_type": "code",
   "execution_count": 2,
   "metadata": {},
   "outputs": [],
   "source": [
    "### list of parameters\n",
    "t_window = 8000e-15  # total time window [s]\n",
    "ev_window = 500e-3   # total energy window [eV]\n",
    "sigT = 100e-15/2.355\n",
    "f1_list = np.linspace(12,8,5)\n",
    "\n",
    "# I/O\n",
    "dir_output = 'output/'\n",
    "dir_case = dir_output+'f1_scan/'\n",
    "dir_param = dir_case+'{}fs/'.format(round(sigT*2.355*1e15,2))\n",
    "dir_plot = dir_param+'{}fs_{}meV/'.format(round(t_window*1e15,1),round(ev_window*1e3,1))\n"
   ]
  },
  {
   "cell_type": "code",
   "execution_count": 3,
   "metadata": {},
   "outputs": [
    {
     "ename": "KeyError",
     "evalue": "'Unable to open object (component not found)'",
     "output_type": "error",
     "traceback": [
      "\u001b[1;31m---------------------------------------------------------------------------\u001b[0m",
      "\u001b[1;31mKeyError\u001b[0m                                  Traceback (most recent call last)",
      "\u001b[1;32m<ipython-input-3-926bd32d897b>\u001b[0m in \u001b[0;36m<module>\u001b[1;34m\u001b[0m\n\u001b[0;32m     14\u001b[0m     \u001b[1;32mfor\u001b[0m \u001b[0mirep\u001b[0m \u001b[1;32min\u001b[0m \u001b[0mrange\u001b[0m\u001b[1;33m(\u001b[0m\u001b[0mlen\u001b[0m\u001b[1;33m(\u001b[0m\u001b[0mf1_list\u001b[0m\u001b[1;33m)\u001b[0m\u001b[1;33m)\u001b[0m\u001b[1;33m:\u001b[0m\u001b[1;33m\u001b[0m\u001b[1;33m\u001b[0m\u001b[0m\n\u001b[0;32m     15\u001b[0m         \u001b[1;32mif\u001b[0m \u001b[0mirep\u001b[0m \u001b[1;33m>=\u001b[0m \u001b[1;36m4\u001b[0m\u001b[1;33m:\u001b[0m \u001b[1;32mcontinue\u001b[0m\u001b[1;33m\u001b[0m\u001b[1;33m\u001b[0m\u001b[0m\n\u001b[1;32m---> 16\u001b[1;33m         \u001b[0mf1\u001b[0m\u001b[1;33m.\u001b[0m\u001b[0mappend\u001b[0m\u001b[1;33m(\u001b[0m\u001b[0mf\u001b[0m\u001b[1;33m[\u001b[0m\u001b[1;34m'rep_{}/f1'\u001b[0m\u001b[1;33m.\u001b[0m\u001b[0mformat\u001b[0m\u001b[1;33m(\u001b[0m\u001b[0mirep\u001b[0m\u001b[1;33m)\u001b[0m\u001b[1;33m]\u001b[0m\u001b[1;33m[\u001b[0m\u001b[1;36m0\u001b[0m\u001b[1;33m]\u001b[0m\u001b[1;33m)\u001b[0m\u001b[1;33m\u001b[0m\u001b[1;33m\u001b[0m\u001b[0m\n\u001b[0m\u001b[0;32m     17\u001b[0m         \u001b[0mdur_out\u001b[0m\u001b[1;33m.\u001b[0m\u001b[0mappend\u001b[0m\u001b[1;33m(\u001b[0m\u001b[0mf\u001b[0m\u001b[1;33m[\u001b[0m\u001b[1;34m'rep_{}/duration'\u001b[0m\u001b[1;33m.\u001b[0m\u001b[0mformat\u001b[0m\u001b[1;33m(\u001b[0m\u001b[0mirep\u001b[0m\u001b[1;33m)\u001b[0m\u001b[1;33m]\u001b[0m\u001b[1;33m[\u001b[0m\u001b[1;36m0\u001b[0m\u001b[1;33m]\u001b[0m\u001b[1;33m)\u001b[0m\u001b[1;33m\u001b[0m\u001b[1;33m\u001b[0m\u001b[0m\n\u001b[0;32m     18\u001b[0m         \u001b[0mptilt_x_out\u001b[0m\u001b[1;33m.\u001b[0m\u001b[0mappend\u001b[0m\u001b[1;33m(\u001b[0m\u001b[0mf\u001b[0m\u001b[1;33m[\u001b[0m\u001b[1;34m'rep_{}/tilt_x'\u001b[0m\u001b[1;33m.\u001b[0m\u001b[0mformat\u001b[0m\u001b[1;33m(\u001b[0m\u001b[0mirep\u001b[0m\u001b[1;33m)\u001b[0m\u001b[1;33m]\u001b[0m\u001b[1;33m[\u001b[0m\u001b[1;36m0\u001b[0m\u001b[1;33m]\u001b[0m\u001b[1;33m)\u001b[0m\u001b[1;33m\u001b[0m\u001b[1;33m\u001b[0m\u001b[0m\n",
      "\u001b[1;32mh5py\\_objects.pyx\u001b[0m in \u001b[0;36mh5py._objects.with_phil.wrapper\u001b[1;34m()\u001b[0m\n",
      "\u001b[1;32mh5py\\_objects.pyx\u001b[0m in \u001b[0;36mh5py._objects.with_phil.wrapper\u001b[1;34m()\u001b[0m\n",
      "\u001b[1;32m~\\Anaconda3\\envs\\wpg36\\lib\\site-packages\\h5py\\_hl\\group.py\u001b[0m in \u001b[0;36m__getitem__\u001b[1;34m(self, name)\u001b[0m\n\u001b[0;32m    262\u001b[0m                 \u001b[1;32mraise\u001b[0m \u001b[0mValueError\u001b[0m\u001b[1;33m(\u001b[0m\u001b[1;34m\"Invalid HDF5 object reference\"\u001b[0m\u001b[1;33m)\u001b[0m\u001b[1;33m\u001b[0m\u001b[1;33m\u001b[0m\u001b[0m\n\u001b[0;32m    263\u001b[0m         \u001b[1;32melse\u001b[0m\u001b[1;33m:\u001b[0m\u001b[1;33m\u001b[0m\u001b[1;33m\u001b[0m\u001b[0m\n\u001b[1;32m--> 264\u001b[1;33m             \u001b[0moid\u001b[0m \u001b[1;33m=\u001b[0m \u001b[0mh5o\u001b[0m\u001b[1;33m.\u001b[0m\u001b[0mopen\u001b[0m\u001b[1;33m(\u001b[0m\u001b[0mself\u001b[0m\u001b[1;33m.\u001b[0m\u001b[0mid\u001b[0m\u001b[1;33m,\u001b[0m \u001b[0mself\u001b[0m\u001b[1;33m.\u001b[0m\u001b[0m_e\u001b[0m\u001b[1;33m(\u001b[0m\u001b[0mname\u001b[0m\u001b[1;33m)\u001b[0m\u001b[1;33m,\u001b[0m \u001b[0mlapl\u001b[0m\u001b[1;33m=\u001b[0m\u001b[0mself\u001b[0m\u001b[1;33m.\u001b[0m\u001b[0m_lapl\u001b[0m\u001b[1;33m)\u001b[0m\u001b[1;33m\u001b[0m\u001b[1;33m\u001b[0m\u001b[0m\n\u001b[0m\u001b[0;32m    265\u001b[0m \u001b[1;33m\u001b[0m\u001b[0m\n\u001b[0;32m    266\u001b[0m         \u001b[0motype\u001b[0m \u001b[1;33m=\u001b[0m \u001b[0mh5i\u001b[0m\u001b[1;33m.\u001b[0m\u001b[0mget_type\u001b[0m\u001b[1;33m(\u001b[0m\u001b[0moid\u001b[0m\u001b[1;33m)\u001b[0m\u001b[1;33m\u001b[0m\u001b[1;33m\u001b[0m\u001b[0m\n",
      "\u001b[1;32mh5py\\_objects.pyx\u001b[0m in \u001b[0;36mh5py._objects.with_phil.wrapper\u001b[1;34m()\u001b[0m\n",
      "\u001b[1;32mh5py\\_objects.pyx\u001b[0m in \u001b[0;36mh5py._objects.with_phil.wrapper\u001b[1;34m()\u001b[0m\n",
      "\u001b[1;32mh5py\\h5o.pyx\u001b[0m in \u001b[0;36mh5py.h5o.open\u001b[1;34m()\u001b[0m\n",
      "\u001b[1;31mKeyError\u001b[0m: 'Unable to open object (component not found)'"
     ]
    }
   ],
   "source": [
    "### read diagnostics data\n",
    "f1 = []\n",
    "dur_out = []\n",
    "ptilt_x_out = []\n",
    "ptilt_y_out = []\n",
    "bw_out = []\n",
    "axis_ev_in = []\n",
    "axis_ev_out = []\n",
    "int_ev_in = []\n",
    "int_ev_out = []\n",
    "centE_out = []\n",
    "\n",
    "with h5py.File(dir_plot+'loop_f1_{}-{}m.h5'.format(f1_list.min(), f1_list.max()), 'r') as f:\n",
    "    for irep in range(len(f1_list)):\n",
    "        if irep >= 4: continue\n",
    "        f1.append(f['rep_{}/f1'.format(irep)][0])\n",
    "        dur_out.append(f['rep_{}/duration'.format(irep)][0])\n",
    "        ptilt_x_out.append(f['rep_{}/tilt_x'.format(irep)][0])\n",
    "        ptilt_y_out.append(f['rep_{}/tilt_y'.format(irep)][0])\n",
    "        bw_out.append(f['rep_{}/bandwidth'.format(irep)][0])\n",
    "        axis_ev_in.append(f['rep_{}/axis_ev_in'.format(irep)][:])\n",
    "        axis_ev_out.append(f['rep_{}/axis_ev_out'.format(irep)][:])\n",
    "        int_ev_in.append(f['rep_{}/int_ev_in'.format(irep)][:])\n",
    "        int_ev_out.append(f['rep_{}/int_ev_out'.format(irep)][:])\n",
    "        centE_out.append(f['rep_{}/central_energy'.format(irep)][0])\n",
    "\n",
    "f1 = np.asarray(f1)\n",
    "dur_out = np.asarray(dur_out)\n",
    "ptilt_x_out = np.asarray(ptilt_x_out)\n",
    "ptilt_y_out = np.asarray(ptilt_y_out)\n",
    "bw_out = np.asarray(bw_out)[:,1]*1e3\n",
    "axis_ev_in = np.asarray(axis_ev_in)\n",
    "axis_ev_out = np.asarray(axis_ev_out)\n",
    "int_ev_in = np.asarray(int_ev_in)\n",
    "int_ev_out = np.asarray(int_ev_out)\n",
    "centE_in = axis_ev_in[-1][np.argmax(int_ev_in[-1])]\n",
    "centE_out = np.asarray(centE_out)\n",
    "centE_out = (centE_out - centE_in)*1e3"
   ]
  },
  {
   "cell_type": "code",
   "execution_count": null,
   "metadata": {},
   "outputs": [],
   "source": [
    "### plots\n",
    "diagnostic_data = [dur_out, ptilt_x_out, bw_out*1e3, centE_out]\n",
    "titles = ['pulse duration', 'pulsefront tilt x', 'bandwidth', 'change in central energy, {}eV'.format(centE_in)]\n",
    "ylabels = ['fs', 'fs/um', 'meV', 'meV']\n",
    "\n",
    "images = [int_ev_in, int_ev_out]\n",
    "image_x = [axis_ev_in[0], axis_ev_out[0]]\n",
    "image_titles = ['spectral response in', 'spectral response out']\n",
    "#if_log = 1\n",
    "\n",
    "for if_log in [0,1]:\n",
    "\n",
    "\n",
    "    Nplots = len(titles)+len(images)\n",
    "    plt.figure(figsize=(int(6*Nplots)+2,4))\n",
    "    for i in range(len(titles)):\n",
    "        plt.subplot(1,Nplots,i+1)\n",
    "        index = (diagnostic_data[i]<1e30)\n",
    "        plt.plot(f1[index], diagnostic_data[i][index], '.-')\n",
    "        plt.xlabel('f1 (m)', fontsize=18)\n",
    "        plt.xlim([f1.min()*0.9, f1.max()+f1.min()*0.1])\n",
    "        plt.ylabel(ylabels[i], fontsize=18)\n",
    "        plt.title(titles[i], fontsize=18)\n",
    "\n",
    "    for i in range(len(images)):\n",
    "        image = images[i]\n",
    "        x = image_x[i]\n",
    "        title = image_titles[i]\n",
    "        plt.subplot(1,Nplots, len(titles)+i+1)\n",
    "        if if_log == 1:\n",
    "            plt.imshow(np.log(image), cmap='jet',\n",
    "                       extent = [x.min(), x.max(), f1[-1], f1[0]])\n",
    "            plt.clim(np.log(image_x).max()-10)\n",
    "            title = title+', log'\n",
    "        else:\n",
    "            plt.imshow(image, cmap='jet',\n",
    "                       extent = [x.min(), x.max(), f1[-1], f1[0]])\n",
    "        plt.xlabel('photon energy (eV)', fontsize=18)\n",
    "        plt.ylabel('f1 (m)', fontsize=18)\n",
    "        plt.title(title, fontsize=18)\n",
    "        plt.axis('tight')\n",
    "        plt.colorbar()\n",
    "\n",
    "    if if_log == 1:\n",
    "        plt.savefig(dir_plot+'f1_scan_{}-{}m_log.png'.format(f1.min(), f1.max()))\n",
    "    else:\n",
    "        plt.savefig(dir_plot+'f1_scan_{}-{}m.png'.format(f1.min(), f1.max()))"
   ]
  },
  {
   "cell_type": "code",
   "execution_count": null,
   "metadata": {},
   "outputs": [],
   "source": [
    "diagnostic_data[i]"
   ]
  },
  {
   "cell_type": "code",
   "execution_count": null,
   "metadata": {},
   "outputs": [],
   "source": [
    "plt.close('all')"
   ]
  },
  {
   "cell_type": "code",
   "execution_count": null,
   "metadata": {},
   "outputs": [],
   "source": [
    "np.deg2rad(5)"
   ]
  }
 ],
 "metadata": {
  "kernelspec": {
   "display_name": "Python 3",
   "language": "python",
   "name": "python3"
  },
  "language_info": {
   "codemirror_mode": {
    "name": "ipython",
    "version": 3
   },
   "file_extension": ".py",
   "mimetype": "text/x-python",
   "name": "python",
   "nbconvert_exporter": "python",
   "pygments_lexer": "ipython3",
   "version": "3.6.10"
  }
 },
 "nbformat": 4,
 "nbformat_minor": 4
}
