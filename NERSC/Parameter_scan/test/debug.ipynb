{
 "cells": [
  {
   "cell_type": "code",
   "execution_count": 1,
   "metadata": {},
   "outputs": [],
   "source": [
    "from Module_diagnostic_functions import *\n",
    "from Module_propagation_functions import *\n"
   ]
  },
  {
   "cell_type": "code",
   "execution_count": 4,
   "metadata": {},
   "outputs": [],
   "source": [
    "from Module_diagnostic_functions import *\n",
    "from Module_propagation_functions import *\n",
    "\n",
    "def main_HRM(varParam_name, z_scaling=10.0, if_close=0, dir_plot=None, if_log=1, if_slice=1, i_start=0):\n",
    "    time_stamp=time()\n",
    "\n",
    "    # initialization\n",
    "    with open(varParam_name, 'rb') as f:\n",
    "        varParam = pickle.load(f)\n",
    "    v = srwl_bl.srwl_uti_parse_options(varParam, use_sys_argv=True)\n",
    "    v.si = True\n",
    "    srwl_bl.SRWLBeamline(_name=v.name).calc_all(v)\n",
    "\n",
    "    # incident beam\n",
    "    wfr = v.w_res; i_plot = 1\n",
    "    plot_wfr_diagnostic(wfr, label='input', dir_plot=dir_plot, i=i_plot, if_log=if_log, if_slice=if_slice, i_start=i_start)\n",
    "    srwlpy.SetRepresElecField(wfr, 'f')\n",
    "    \n",
    "    t0 = time(); print('Resizing in frequency domain: ', end='')\n",
    "    srwlpy.ResizeElecField(wfr, 'f', [0, 1., z_scaling]); print('done in', round(time() - t0, 3), 's')\n",
    "\n",
    "    # diagnostics - input\n",
    "    diagnostics, diagnostics_names = diagnose_input(wfr)\n",
    "\n",
    "    # CC1\n",
    "    label = 'before C1'; print('Propagating to {}: '.format(label), end=''); i_plot+=1; t0 = time()\n",
    "    bl = set_optics_CRL0_before_C1(v); srwlpy.PropagElecField(wfr, bl); print('done in', round(time() - t0, 3), 's\\n')\n",
    "    plot_wfr_diagnostic(wfr, label=label, dir_plot=dir_plot, i=i_plot, if_log=if_log, if_slice=if_slice, i_start=i_start)\n",
    "\n",
    "#     label = 'before C2'; print('Propagating to {}: '.format(label), end=''); i_plot+=1; t0 = time()\n",
    "#     bl = set_optics_C1_before_C2(v); srwlpy.PropagElecField(wfr, bl); print('done in', round(time() - t0, 3), 's\\n')\n",
    "#     plot_wfr_diagnostic(wfr, label=label, dir_plot=dir_plot, i=i_plot, if_log=if_log, if_slice=if_slice, i_start=i_start)\n",
    "\n",
    "#     label = 'before CRL1'; print('Propagating to {}: '.format(label), end=''); i_plot+=1; t0 = time()\n",
    "#     bl = set_optics_C2_before_CRL1(v); srwlpy.PropagElecField(wfr, bl); print('done in', round(time() - t0, 3), 's\\n')\n",
    "#     plot_wfr_diagnostic(wfr, label=label, dir_plot=dir_plot, i=i_plot, if_log=if_log, if_slice=if_slice, i_start=i_start)\n",
    "\n",
    "    # diagnostics - output\n",
    "    diagnostics, diagnostics_names = diagnose_output(wfr, diagnostics=diagnostics, diagnostics_names=diagnostics_names)\n",
    "\n",
    "    # I/O\n",
    "    if if_close == 1:\n",
    "        dir_diagnostics = dir_plot+'diagnostics_closed/'; mkdir(dir_diagnostics)\n",
    "    else:\n",
    "        dir_diagnostics = dir_plot+'diagnostics_open/'; mkdir(dir_diagnostics)\n",
    "    save_diagnostics(dir_diagnostics, diagnostics, diagnostics_names)\n",
    "\n",
    "    print('\\nbeam diagnostics written to {}'.format(dir_diagnostics))\n",
    "\n"
   ]
  },
  {
   "cell_type": "code",
   "execution_count": 5,
   "metadata": {},
   "outputs": [
    {
     "name": "stdout",
     "output_type": "stream",
     "text": [
      "Gaussian beam electric field calculation ... completed (lasted 0.054 s)\n",
      "Extracting intensity and saving it to a file ... completed (lasted 1.964 s)\n",
      "plot skipped\n",
      "Resizing in frequency domain: done in 1.33 s\n",
      "fitting for beam diagnostics\n",
      "done in 0.299 s\n",
      "\n",
      "Propagating to before C1: Optical Element Setup: CRL Focal Length: 290.0 m\n",
      "done in 5.092 s\n",
      "\n",
      "plot skipped\n",
      "fitting for beam diagnostics\n",
      "cent_E_out[eV] 9481.000076479932 bw_out[eV] 0.004533508888580196\n",
      "dur_out[fs] 399\n",
      "ptilt_x_out[fs_um] 1.4831309370663764e-14\n",
      "done in 3.041 s\n",
      "\n",
      "\n",
      "beam diagnostics written to output/HRM/400.0fs/4000.0fs_100.0meV_job0/diagnostics_open/\n"
     ]
    },
    {
     "name": "stderr",
     "output_type": "stream",
     "text": [
      "C:\\Users\\nanw0\\GoogleDrive\\SLAC\\SLAC-Diling\\11. 21 Winter\\DXS optics\\NERSC\\Parameter_scan\\test\\Module_diagnostic_functions.py:605: FutureWarning: elementwise comparison failed; returning scalar instead, but in the future will perform elementwise comparison\n",
      "  if values == 'Fit failed':\n"
     ]
    }
   ],
   "source": [
    "if __name__ == '__main__':\n",
    "    main_HRM('varParam0.pkl', z_scaling=6.0, if_close=0, dir_plot='output/HRM/400.0fs/4000.0fs_100.0meV_job0/', if_log=1, if_slice=0, i_start=10)"
   ]
  },
  {
   "cell_type": "code",
   "execution_count": 10,
   "metadata": {},
   "outputs": [],
   "source": [
    "dir_open='output/HRM/400.0fs/4000.0fs_100.0meV_job0/diagnostics_open/'\n",
    "\n",
    "diagnostic_names_open =  ['6_dur_out[fs]', '7_ptilt_x_out[fs_um]']\n",
    "diagnostic_names_close = ['0_axis_ev_in[eV]', '1_int_ev_in[a.u.]', '2_axis_ev_out[eV]', '3_int_ev_out[a.u.]', '4_cent_E_out[eV]', '5_bw_out[eV]' ]\n",
    "\n",
    "diagnostics_open = []\n",
    "diagnostics_close = []\n",
    "\n",
    "for name in diagnostic_names_open:\n",
    "    file_name = dir_open + name + '.out'\n",
    "    if not os.path.exists(file_name):\n",
    "        print('file does not exist', file_name)\n",
    "    else:\n",
    "        diagnostic = np.loadtxt(file_name)\n",
    "        diagnostics_open.append(diagnostic)\n",
    "\n",
    "for name in diagnostic_names_close:\n",
    "    file_name = dir_open + name + '.out'\n",
    "    if not os.path.exists(file_name):\n",
    "        print('file does not exist', file_name)\n",
    "    else:\n",
    "        diagnostic = np.loadtxt(file_name)\n",
    "        diagnostics_close.append(diagnostic)\n"
   ]
  }
 ],
 "metadata": {
  "kernelspec": {
   "display_name": "Python SRW",
   "language": "python",
   "name": "srw"
  },
  "language_info": {
   "codemirror_mode": {
    "name": "ipython",
    "version": 3
   },
   "file_extension": ".py",
   "mimetype": "text/x-python",
   "name": "python",
   "nbconvert_exporter": "python",
   "pygments_lexer": "ipython3",
   "version": "3.9.2"
  }
 },
 "nbformat": 4,
 "nbformat_minor": 4
}
